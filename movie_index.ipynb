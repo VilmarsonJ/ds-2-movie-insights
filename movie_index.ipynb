{
 "cells": [
  {
   "cell_type": "markdown",
   "metadata": {},
   "source": [
    "# Akademi X Flatiron School - Data Science & AI\n",
    "\n",
    "\n",
    "\n",
    "                                 Movie-insights - Project\n",
    "\n",
    "---\n",
    "\n",
    "- **Student name :** Vilmarson JULES\n",
    "- **Student pace :** self pace\n",
    "- **Deadline Submission :** Jully 8, 2025 \n",
    "- **Instructors' Name :** Wedter Jerome & Geovany Batista Polo Laguerre\n",
    "\n",
    "- **Blog post URL :** [GitHub repository link](https://github.com/VilmarsonJ/JULES_Aviation_Risk_Dsc_Project_1)\n",
    "\n"
   ]
  },
  {
   "cell_type": "markdown",
   "metadata": {},
   "source": [
    "# ***Movie-insights - Project***\n",
    "\n",
    "---\n",
    "---"
   ]
  },
  {
   "cell_type": "markdown",
   "metadata": {},
   "source": [
    "## Overview\n",
    "---\n",
    "\n",
    "**The goal of this project is to identify the types of films are currently doing the best at the box office:**  \n",
    "Throughout this  I explore and analyse those films, and Plenty of appropriate visualisations are used to make stakeholders understand the insights of the findings  much better. Moreover, three business recomandations concerning the films at the box office are provided to guide the decisions making of my company\n",
    "\n",
    "***Then, this project is intended to :***\n",
    "1. Identify films that are currently doing the best at the box office by :  \n",
    "    - The Exploritory Data Analysis to Explicitly relate my findings to business needs by recommending actions that you think the business should take.\n",
    "    - Data Visualisation to help my company's movie new head understand the much better the insights\n",
    "2. Exhibit trends concernings the films by :\n",
    "    - The statistic modeling of the data to predict models based on the data.\n",
    "    "
   ]
  },
  {
   "cell_type": "markdown",
   "metadata": {},
   "source": [
    "### Short Description :\n",
    "    \n",
    "This project is designed to point out the types of films are currently doing the best at the box office.Throughout this I explore and analyse those films, Plenty of appropriate visualisations are used and three business recomandations concerning the films at the box office are provided to make stakeholders understand the insights of the findings much better."
   ]
  },
  {
   "cell_type": "markdown",
   "metadata": {},
   "source": [
    "### Methods\n",
    "---\n",
    "\n",
    "To realize this project, the use of technical tools environnement like **Git, GitHUb, Git Bash, Jupyter Notebook** was a most. Moreover great features of *the SQL and the Python language* are used with a main focus on `Pandas, Matplotlib, seaborn, scipy, statsmodels and sqlite3` Packages.\n",
    "\n",
    "Throughout this project, we leverages : \n",
    "\n",
    "- Descriptive statistics analysis as well as inferential Satistics to  achieve analysis\n",
    "- Data cleaning, exploratory analysis using great features of `Pandas`\n",
    "- Data Visualization with `Matplotlib and Seaborn` to extract salients insight for the company\n",
    "- Diagnostic Analysis using great features of `Statsmodels and scipy`\n"
   ]
  },
  {
   "cell_type": "markdown",
   "metadata": {},
   "source": [
    "## Business Problem"
   ]
  },
  {
   "cell_type": "markdown",
   "metadata": {},
   "source": [
    "My campany gets inspired by the way that many companies dive into creating original videos content and wants to experiment this sector.  \n",
    "Although they do not know anythings about this sector, they have decided to create a new movie studio in order to create or produce  \n",
    "original video contents.   \n",
    "\n",
    "Consequently, as a Data scienctist the compagny has charged me to explore :  \n",
    "**What types of films are currently doing the best at the box office**.  \n",
    "Then, I must certainlyn used my professional and scientific proficiencies to translate those findings into actionable and strategic insights so that the head of my company's new movie studio can leverage to what type of films to create."
   ]
  },
  {
   "cell_type": "markdown",
   "metadata": {},
   "source": [
    "## Business Understanding"
   ]
  },
  {
   "cell_type": "markdown",
   "metadata": {},
   "source": [
    "\n",
    "This movie insights aims to support data-driven decision-making for my company which wants to experiment the sector of creating original video content.  \n",
    "The core objective is to **identify what types of films are currently doing the best at the box office**.  \n",
    "\n",
    "By understanding patterns in the rankings of best films at the box office, The head of the company's new movie studio can :  \n",
    "- Identify wich films that seem more profitable for the company to create\n",
    "- have a business roadmap to follow in order to beguin this meaningful adventure.\n"
   ]
  },
  {
   "cell_type": "code",
   "execution_count": 1,
   "metadata": {},
   "outputs": [],
   "source": [
    "# Here I import all necessary libraries to start.\n",
    "import pandas as pd \n",
    "import seaborn as sns\n",
    "import matplotlib.pyplot as plt\n",
    "from scipy import stats\n",
    "import statsmodels.api as sm\n",
    "import statsmodels.formula.api as smf\n",
    "from pandasql import sqldf\n",
    "import numpy as np\n",
    "import sqlite3\n",
    "import gzip\n",
    "import zipfile\n",
    "import pathlib"
   ]
  },
  {
   "cell_type": "markdown",
   "metadata": {},
   "source": [
    "## Data Understanding\n",
    "\n",
    "\n",
    "Here we are going to get a meaningful overview of the Datasets that we actually used to achieve this wonderful work.  \n",
    "To do so, we are going To examine :\n",
    "\n",
    "- ### 1. The Data (Its different sources)\n",
    "- ### 2. Overview of the IBM Database\n",
    "- ### 3. Overview of the Csv Datasets\n",
    "\n",
    "Consequently, I use some of the methods of `Pandas` DataFrame, like `.head()`,`shape`, ` .info()` etc to get overview of each dataset.   \n",
    "And also I use `SQL` to interrogate my database so that I can get relavent overview of each table it contains.\n",
    "\n"
   ]
  },
  {
   "cell_type": "markdown",
   "metadata": {},
   "source": [
    "### 1. The Data\n",
    "\n",
    "Here we just show where our datasets come from and to see what type file are they.\n",
    "\n",
    "    \n",
    "The movie datasets used to achieve this project were collected from various locatioon as we see bellow :\n",
    "* [Box Office Mojo](https://www.boxofficemojo.com/)\n",
    "* [IMDB](https://www.imdb.com/)\n",
    "* [Rotten Tomatoes](https://www.rottentomatoes.com/)\n",
    "* [TheMovieDB](https://www.themoviedb.org/)\n",
    "* [The Numbers](https://www.the-numbers.com/)\n",
    "\n",
    "From the various location showed above, all of the datasets are files with `csv` format, except for the IMDB which is located in a SQLite DataBase."
   ]
  },
  {
   "cell_type": "markdown",
   "metadata": {},
   "source": [
    "This picture bellow, show a global structure of th IMDB DataBase."
   ]
  },
  {
   "cell_type": "code",
   "execution_count": null,
   "metadata": {},
   "outputs": [],
   "source": []
  },
  {
   "cell_type": "markdown",
   "metadata": {},
   "source": [
    "### 2. Overview of the IBM Database :\n",
    "\n",
    "---\n",
    "\n",
    "#### Here I'm going to exokore the IBM database :\n",
    "1. To determine how many tables it contains\n",
    "2. To explore the most relevant tables to make stackholders have a fundamental insights of the data.\n"
   ]
  },
  {
   "cell_type": "code",
   "execution_count": 2,
   "metadata": {
    "scrolled": false
   },
   "outputs": [],
   "source": [
    "# import zipfile, pathlib, pandas as pd, sqlite3, gzip\n",
    "\n",
    "#  Unzip SQLite once (idempotent)\n",
    "if not pathlib.Path(\"zippedData/im.db\").is_file():\n",
    "    with zipfile.ZipFile(\"zippedData/im.db.zip\") as z:\n",
    "        z.extractall(\"zippedData\")\n",
    "\n",
    "# 2️⃣  and here I Load the compressed flat files into pandas DataFrames\n",
    "movie_gross  = pd.read_csv(\"zippedData/bom.movie_gross.csv.gz\", compression=\"gzip\")  # # tell pandas to decompress on the fly\n",
    "tmdb_movie  = pd.read_csv(\"zippedData/tmdb.movies.csv.gz\",    compression=\"gzip\")\n",
    "movie_info   = pd.read_csv(\"zippedData/rt.movie_info.tsv.gz\",  sep=\"\\t\", compression=\"gzip\")\n",
    "movie_review = pd.read_csv(\"zippedData/rt.reviews.tsv.gz\",     sep=\"\\t\",\n",
    "                       compression=\"gzip\", encoding=\"latin1\", low_memory=False)\n",
    "movie_budget = pd.read_csv(\"zippedData/tn.movie_budgets.csv.gz\", compression=\"gzip\")\n",
    "\n",
    "# I Connect to the SQLite DB (im.db) and list its tables\n",
    "conn   = sqlite3.connect(\"zippedData/im.db\")"
   ]
  },
  {
   "cell_type": "markdown",
   "metadata": {},
   "source": [
    "As we can see below, the IMBB conrains fives tables. then, I will explore them to see what they contain."
   ]
  },
  {
   "cell_type": "code",
   "execution_count": 3,
   "metadata": {},
   "outputs": [
    {
     "data": {
      "text/html": [
       "<div>\n",
       "<style scoped>\n",
       "    .dataframe tbody tr th:only-of-type {\n",
       "        vertical-align: middle;\n",
       "    }\n",
       "\n",
       "    .dataframe tbody tr th {\n",
       "        vertical-align: top;\n",
       "    }\n",
       "\n",
       "    .dataframe thead th {\n",
       "        text-align: right;\n",
       "    }\n",
       "</style>\n",
       "<table border=\"1\" class=\"dataframe\">\n",
       "  <thead>\n",
       "    <tr style=\"text-align: right;\">\n",
       "      <th></th>\n",
       "      <th>name</th>\n",
       "    </tr>\n",
       "  </thead>\n",
       "  <tbody>\n",
       "    <tr>\n",
       "      <th>0</th>\n",
       "      <td>movie_basics</td>\n",
       "    </tr>\n",
       "    <tr>\n",
       "      <th>1</th>\n",
       "      <td>directors</td>\n",
       "    </tr>\n",
       "    <tr>\n",
       "      <th>2</th>\n",
       "      <td>known_for</td>\n",
       "    </tr>\n",
       "    <tr>\n",
       "      <th>3</th>\n",
       "      <td>movie_akas</td>\n",
       "    </tr>\n",
       "    <tr>\n",
       "      <th>4</th>\n",
       "      <td>movie_ratings</td>\n",
       "    </tr>\n",
       "  </tbody>\n",
       "</table>\n",
       "</div>"
      ],
      "text/plain": [
       "            name\n",
       "0   movie_basics\n",
       "1      directors\n",
       "2      known_for\n",
       "3     movie_akas\n",
       "4  movie_ratings"
      ]
     },
     "execution_count": 3,
     "metadata": {},
     "output_type": "execute_result"
    }
   ],
   "source": [
    "# and here, I list all of the available tables of im.db\n",
    "tables = pd.read_sql(\"SELECT name FROM sqlite_master WHERE type='table';\", conn)\n",
    "tables.head()\n"
   ]
  },
  {
   "cell_type": "code",
   "execution_count": 4,
   "metadata": {},
   "outputs": [],
   "source": [
    "# To select all the Data of the tables\n",
    "q1 = \"\"\" SELECT * FROM movie_basics ; \"\"\"\n",
    "q2 = \"\"\" SELECT * FROM movie_ratings ; \"\"\""
   ]
  },
  {
   "cell_type": "code",
   "execution_count": 6,
   "metadata": {},
   "outputs": [
    {
     "data": {
      "text/html": [
       "<div>\n",
       "<style scoped>\n",
       "    .dataframe tbody tr th:only-of-type {\n",
       "        vertical-align: middle;\n",
       "    }\n",
       "\n",
       "    .dataframe tbody tr th {\n",
       "        vertical-align: top;\n",
       "    }\n",
       "\n",
       "    .dataframe thead th {\n",
       "        text-align: right;\n",
       "    }\n",
       "</style>\n",
       "<table border=\"1\" class=\"dataframe\">\n",
       "  <thead>\n",
       "    <tr style=\"text-align: right;\">\n",
       "      <th></th>\n",
       "      <th>movie_id</th>\n",
       "      <th>primary_title</th>\n",
       "      <th>original_title</th>\n",
       "      <th>start_year</th>\n",
       "      <th>runtime_minutes</th>\n",
       "      <th>genres</th>\n",
       "    </tr>\n",
       "  </thead>\n",
       "  <tbody>\n",
       "    <tr>\n",
       "      <th>0</th>\n",
       "      <td>tt0063540</td>\n",
       "      <td>Sunghursh</td>\n",
       "      <td>Sunghursh</td>\n",
       "      <td>2013</td>\n",
       "      <td>175.0</td>\n",
       "      <td>Action,Crime,Drama</td>\n",
       "    </tr>\n",
       "    <tr>\n",
       "      <th>1</th>\n",
       "      <td>tt0066787</td>\n",
       "      <td>One Day Before the Rainy Season</td>\n",
       "      <td>Ashad Ka Ek Din</td>\n",
       "      <td>2019</td>\n",
       "      <td>114.0</td>\n",
       "      <td>Biography,Drama</td>\n",
       "    </tr>\n",
       "    <tr>\n",
       "      <th>2</th>\n",
       "      <td>tt0069049</td>\n",
       "      <td>The Other Side of the Wind</td>\n",
       "      <td>The Other Side of the Wind</td>\n",
       "      <td>2018</td>\n",
       "      <td>122.0</td>\n",
       "      <td>Drama</td>\n",
       "    </tr>\n",
       "    <tr>\n",
       "      <th>3</th>\n",
       "      <td>tt0069204</td>\n",
       "      <td>Sabse Bada Sukh</td>\n",
       "      <td>Sabse Bada Sukh</td>\n",
       "      <td>2018</td>\n",
       "      <td>NaN</td>\n",
       "      <td>Comedy,Drama</td>\n",
       "    </tr>\n",
       "    <tr>\n",
       "      <th>4</th>\n",
       "      <td>tt0100275</td>\n",
       "      <td>The Wandering Soap Opera</td>\n",
       "      <td>La Telenovela Errante</td>\n",
       "      <td>2017</td>\n",
       "      <td>80.0</td>\n",
       "      <td>Comedy,Drama,Fantasy</td>\n",
       "    </tr>\n",
       "    <tr>\n",
       "      <th>5</th>\n",
       "      <td>tt0111414</td>\n",
       "      <td>A Thin Life</td>\n",
       "      <td>A Thin Life</td>\n",
       "      <td>2018</td>\n",
       "      <td>75.0</td>\n",
       "      <td>Comedy</td>\n",
       "    </tr>\n",
       "    <tr>\n",
       "      <th>6</th>\n",
       "      <td>tt0112502</td>\n",
       "      <td>Bigfoot</td>\n",
       "      <td>Bigfoot</td>\n",
       "      <td>2017</td>\n",
       "      <td>NaN</td>\n",
       "      <td>Horror,Thriller</td>\n",
       "    </tr>\n",
       "    <tr>\n",
       "      <th>7</th>\n",
       "      <td>tt0137204</td>\n",
       "      <td>Joe Finds Grace</td>\n",
       "      <td>Joe Finds Grace</td>\n",
       "      <td>2017</td>\n",
       "      <td>83.0</td>\n",
       "      <td>Adventure,Animation,Comedy</td>\n",
       "    </tr>\n",
       "    <tr>\n",
       "      <th>8</th>\n",
       "      <td>tt0139613</td>\n",
       "      <td>O Silêncio</td>\n",
       "      <td>O Silêncio</td>\n",
       "      <td>2012</td>\n",
       "      <td>NaN</td>\n",
       "      <td>Documentary,History</td>\n",
       "    </tr>\n",
       "    <tr>\n",
       "      <th>9</th>\n",
       "      <td>tt0144449</td>\n",
       "      <td>Nema aviona za Zagreb</td>\n",
       "      <td>Nema aviona za Zagreb</td>\n",
       "      <td>2012</td>\n",
       "      <td>82.0</td>\n",
       "      <td>Biography</td>\n",
       "    </tr>\n",
       "  </tbody>\n",
       "</table>\n",
       "</div>"
      ],
      "text/plain": [
       "    movie_id                    primary_title              original_title  \\\n",
       "0  tt0063540                        Sunghursh                   Sunghursh   \n",
       "1  tt0066787  One Day Before the Rainy Season             Ashad Ka Ek Din   \n",
       "2  tt0069049       The Other Side of the Wind  The Other Side of the Wind   \n",
       "3  tt0069204                  Sabse Bada Sukh             Sabse Bada Sukh   \n",
       "4  tt0100275         The Wandering Soap Opera       La Telenovela Errante   \n",
       "5  tt0111414                      A Thin Life                 A Thin Life   \n",
       "6  tt0112502                          Bigfoot                     Bigfoot   \n",
       "7  tt0137204                  Joe Finds Grace             Joe Finds Grace   \n",
       "8  tt0139613                       O Silêncio                  O Silêncio   \n",
       "9  tt0144449            Nema aviona za Zagreb       Nema aviona za Zagreb   \n",
       "\n",
       "   start_year  runtime_minutes                      genres  \n",
       "0        2013            175.0          Action,Crime,Drama  \n",
       "1        2019            114.0             Biography,Drama  \n",
       "2        2018            122.0                       Drama  \n",
       "3        2018              NaN                Comedy,Drama  \n",
       "4        2017             80.0        Comedy,Drama,Fantasy  \n",
       "5        2018             75.0                      Comedy  \n",
       "6        2017              NaN             Horror,Thriller  \n",
       "7        2017             83.0  Adventure,Animation,Comedy  \n",
       "8        2012              NaN         Documentary,History  \n",
       "9        2012             82.0                   Biography  "
      ]
     },
     "execution_count": 6,
     "metadata": {},
     "output_type": "execute_result"
    }
   ],
   "source": [
    "movie = pd.read_sql(q1, conn) # I store this data in a dataframe called movie\n",
    "movie.head(10)  # Fetch only he first 10 observations"
   ]
  },
  {
   "cell_type": "code",
   "execution_count": 7,
   "metadata": {},
   "outputs": [
    {
     "data": {
      "text/plain": [
       "movie_id \n",
       "tt9916754    1\n",
       "tt2901864    1\n",
       "tt2902126    1\n",
       "tt2902032    1\n",
       "tt2901984    1\n",
       "            ..\n",
       "tt5687280    1\n",
       "tt5687282    1\n",
       "tt5687328    1\n",
       "tt5687334    1\n",
       "tt0063540    1\n",
       "Length: 146144, dtype: int64"
      ]
     },
     "execution_count": 7,
     "metadata": {},
     "output_type": "execute_result"
    }
   ],
   "source": [
    "# Count frequencies of values in movie_id columns\n",
    "movie[['movie_id']].value_counts()"
   ]
  },
  {
   "cell_type": "code",
   "execution_count": 8,
   "metadata": {},
   "outputs": [
    {
     "data": {
      "text/plain": [
       "(146144, 6)"
      ]
     },
     "execution_count": 8,
     "metadata": {},
     "output_type": "execute_result"
    }
   ],
   "source": [
    "# Dimension of our table\n",
    "movie.shape"
   ]
  },
  {
   "cell_type": "code",
   "execution_count": 9,
   "metadata": {},
   "outputs": [
    {
     "data": {
      "text/html": [
       "<div>\n",
       "<style scoped>\n",
       "    .dataframe tbody tr th:only-of-type {\n",
       "        vertical-align: middle;\n",
       "    }\n",
       "\n",
       "    .dataframe tbody tr th {\n",
       "        vertical-align: top;\n",
       "    }\n",
       "\n",
       "    .dataframe thead th {\n",
       "        text-align: right;\n",
       "    }\n",
       "</style>\n",
       "<table border=\"1\" class=\"dataframe\">\n",
       "  <thead>\n",
       "    <tr style=\"text-align: right;\">\n",
       "      <th></th>\n",
       "      <th>movie_id</th>\n",
       "      <th>averagerating</th>\n",
       "      <th>numvotes</th>\n",
       "    </tr>\n",
       "  </thead>\n",
       "  <tbody>\n",
       "    <tr>\n",
       "      <th>0</th>\n",
       "      <td>tt10356526</td>\n",
       "      <td>8.3</td>\n",
       "      <td>31</td>\n",
       "    </tr>\n",
       "    <tr>\n",
       "      <th>1</th>\n",
       "      <td>tt10384606</td>\n",
       "      <td>8.9</td>\n",
       "      <td>559</td>\n",
       "    </tr>\n",
       "    <tr>\n",
       "      <th>2</th>\n",
       "      <td>tt1042974</td>\n",
       "      <td>6.4</td>\n",
       "      <td>20</td>\n",
       "    </tr>\n",
       "    <tr>\n",
       "      <th>3</th>\n",
       "      <td>tt1043726</td>\n",
       "      <td>4.2</td>\n",
       "      <td>50352</td>\n",
       "    </tr>\n",
       "    <tr>\n",
       "      <th>4</th>\n",
       "      <td>tt1060240</td>\n",
       "      <td>6.5</td>\n",
       "      <td>21</td>\n",
       "    </tr>\n",
       "    <tr>\n",
       "      <th>...</th>\n",
       "      <td>...</td>\n",
       "      <td>...</td>\n",
       "      <td>...</td>\n",
       "    </tr>\n",
       "    <tr>\n",
       "      <th>73851</th>\n",
       "      <td>tt9805820</td>\n",
       "      <td>8.1</td>\n",
       "      <td>25</td>\n",
       "    </tr>\n",
       "    <tr>\n",
       "      <th>73852</th>\n",
       "      <td>tt9844256</td>\n",
       "      <td>7.5</td>\n",
       "      <td>24</td>\n",
       "    </tr>\n",
       "    <tr>\n",
       "      <th>73853</th>\n",
       "      <td>tt9851050</td>\n",
       "      <td>4.7</td>\n",
       "      <td>14</td>\n",
       "    </tr>\n",
       "    <tr>\n",
       "      <th>73854</th>\n",
       "      <td>tt9886934</td>\n",
       "      <td>7.0</td>\n",
       "      <td>5</td>\n",
       "    </tr>\n",
       "    <tr>\n",
       "      <th>73855</th>\n",
       "      <td>tt9894098</td>\n",
       "      <td>6.3</td>\n",
       "      <td>128</td>\n",
       "    </tr>\n",
       "  </tbody>\n",
       "</table>\n",
       "<p>73856 rows × 3 columns</p>\n",
       "</div>"
      ],
      "text/plain": [
       "         movie_id  averagerating  numvotes\n",
       "0      tt10356526            8.3        31\n",
       "1      tt10384606            8.9       559\n",
       "2       tt1042974            6.4        20\n",
       "3       tt1043726            4.2     50352\n",
       "4       tt1060240            6.5        21\n",
       "...           ...            ...       ...\n",
       "73851   tt9805820            8.1        25\n",
       "73852   tt9844256            7.5        24\n",
       "73853   tt9851050            4.7        14\n",
       "73854   tt9886934            7.0         5\n",
       "73855   tt9894098            6.3       128\n",
       "\n",
       "[73856 rows x 3 columns]"
      ]
     },
     "execution_count": 9,
     "metadata": {},
     "output_type": "execute_result"
    }
   ],
   "source": [
    "ratings = pd.read_sql(q2, conn) # I store this data in a dataframe called ratings\n",
    "ratings"
   ]
  },
  {
   "cell_type": "markdown",
   "metadata": {},
   "source": [
    "AS we can see the **movie_basics** table represents the core movie info(title, year, genre),  \n",
    "While the **movie_ratings** represent the average of rate and the number of votes provided by audiances or users. \n",
    "\n",
    "Moreover, each row of those two tables **represents informations about a particualr movie.**  \n",
    "And we can observe that they contains a unique movie in each row identified by the movie_id.  \n",
    "The table movie contains **146144 observations** about the movies while movie_ratings contains only **73856 observations.**"
   ]
  },
  {
   "cell_type": "markdown",
   "metadata": {},
   "source": [
    "### As the goal is to find the best movie(films) at the box office, \n",
    "bellow I join those two tables in order to relate eeach movie to their respective rate.\n",
    "\n",
    "And, finally we will see that we have created a dataframe called **movie_rate** that contains informations about both of the tables.  \n",
    "And I will considere this table as I move on farther."
   ]
  },
  {
   "cell_type": "code",
   "execution_count": 11,
   "metadata": {
    "scrolled": true
   },
   "outputs": [
    {
     "data": {
      "text/html": [
       "<div>\n",
       "<style scoped>\n",
       "    .dataframe tbody tr th:only-of-type {\n",
       "        vertical-align: middle;\n",
       "    }\n",
       "\n",
       "    .dataframe tbody tr th {\n",
       "        vertical-align: top;\n",
       "    }\n",
       "\n",
       "    .dataframe thead th {\n",
       "        text-align: right;\n",
       "    }\n",
       "</style>\n",
       "<table border=\"1\" class=\"dataframe\">\n",
       "  <thead>\n",
       "    <tr style=\"text-align: right;\">\n",
       "      <th></th>\n",
       "      <th>movie_id</th>\n",
       "      <th>primary_title</th>\n",
       "      <th>start_year</th>\n",
       "      <th>runtime_minutes</th>\n",
       "      <th>genres</th>\n",
       "      <th>rating</th>\n",
       "      <th>number_votes</th>\n",
       "    </tr>\n",
       "  </thead>\n",
       "  <tbody>\n",
       "    <tr>\n",
       "      <th>0</th>\n",
       "      <td>tt0063540</td>\n",
       "      <td>Sunghursh</td>\n",
       "      <td>2013</td>\n",
       "      <td>175.0</td>\n",
       "      <td>Action,Crime,Drama</td>\n",
       "      <td>7.0</td>\n",
       "      <td>77</td>\n",
       "    </tr>\n",
       "    <tr>\n",
       "      <th>1</th>\n",
       "      <td>tt0066787</td>\n",
       "      <td>One Day Before the Rainy Season</td>\n",
       "      <td>2019</td>\n",
       "      <td>114.0</td>\n",
       "      <td>Biography,Drama</td>\n",
       "      <td>7.2</td>\n",
       "      <td>43</td>\n",
       "    </tr>\n",
       "    <tr>\n",
       "      <th>2</th>\n",
       "      <td>tt0069049</td>\n",
       "      <td>The Other Side of the Wind</td>\n",
       "      <td>2018</td>\n",
       "      <td>122.0</td>\n",
       "      <td>Drama</td>\n",
       "      <td>6.9</td>\n",
       "      <td>4517</td>\n",
       "    </tr>\n",
       "    <tr>\n",
       "      <th>3</th>\n",
       "      <td>tt0069204</td>\n",
       "      <td>Sabse Bada Sukh</td>\n",
       "      <td>2018</td>\n",
       "      <td>NaN</td>\n",
       "      <td>Comedy,Drama</td>\n",
       "      <td>6.1</td>\n",
       "      <td>13</td>\n",
       "    </tr>\n",
       "    <tr>\n",
       "      <th>4</th>\n",
       "      <td>tt0100275</td>\n",
       "      <td>The Wandering Soap Opera</td>\n",
       "      <td>2017</td>\n",
       "      <td>80.0</td>\n",
       "      <td>Comedy,Drama,Fantasy</td>\n",
       "      <td>6.5</td>\n",
       "      <td>119</td>\n",
       "    </tr>\n",
       "    <tr>\n",
       "      <th>5</th>\n",
       "      <td>tt0112502</td>\n",
       "      <td>Bigfoot</td>\n",
       "      <td>2017</td>\n",
       "      <td>NaN</td>\n",
       "      <td>Horror,Thriller</td>\n",
       "      <td>4.1</td>\n",
       "      <td>32</td>\n",
       "    </tr>\n",
       "    <tr>\n",
       "      <th>6</th>\n",
       "      <td>tt0137204</td>\n",
       "      <td>Joe Finds Grace</td>\n",
       "      <td>2017</td>\n",
       "      <td>83.0</td>\n",
       "      <td>Adventure,Animation,Comedy</td>\n",
       "      <td>8.1</td>\n",
       "      <td>263</td>\n",
       "    </tr>\n",
       "    <tr>\n",
       "      <th>7</th>\n",
       "      <td>tt0146592</td>\n",
       "      <td>Pál Adrienn</td>\n",
       "      <td>2010</td>\n",
       "      <td>136.0</td>\n",
       "      <td>Drama</td>\n",
       "      <td>6.8</td>\n",
       "      <td>451</td>\n",
       "    </tr>\n",
       "    <tr>\n",
       "      <th>8</th>\n",
       "      <td>tt0154039</td>\n",
       "      <td>So Much for Justice!</td>\n",
       "      <td>2010</td>\n",
       "      <td>100.0</td>\n",
       "      <td>History</td>\n",
       "      <td>4.6</td>\n",
       "      <td>64</td>\n",
       "    </tr>\n",
       "    <tr>\n",
       "      <th>9</th>\n",
       "      <td>tt0159369</td>\n",
       "      <td>Cooper and Hemingway: The True Gen</td>\n",
       "      <td>2013</td>\n",
       "      <td>180.0</td>\n",
       "      <td>Documentary</td>\n",
       "      <td>7.6</td>\n",
       "      <td>53</td>\n",
       "    </tr>\n",
       "  </tbody>\n",
       "</table>\n",
       "</div>"
      ],
      "text/plain": [
       "    movie_id                       primary_title  start_year  runtime_minutes  \\\n",
       "0  tt0063540                           Sunghursh        2013            175.0   \n",
       "1  tt0066787     One Day Before the Rainy Season        2019            114.0   \n",
       "2  tt0069049          The Other Side of the Wind        2018            122.0   \n",
       "3  tt0069204                     Sabse Bada Sukh        2018              NaN   \n",
       "4  tt0100275            The Wandering Soap Opera        2017             80.0   \n",
       "5  tt0112502                             Bigfoot        2017              NaN   \n",
       "6  tt0137204                     Joe Finds Grace        2017             83.0   \n",
       "7  tt0146592                         Pál Adrienn        2010            136.0   \n",
       "8  tt0154039                So Much for Justice!        2010            100.0   \n",
       "9  tt0159369  Cooper and Hemingway: The True Gen        2013            180.0   \n",
       "\n",
       "                       genres  rating  number_votes  \n",
       "0          Action,Crime,Drama     7.0            77  \n",
       "1             Biography,Drama     7.2            43  \n",
       "2                       Drama     6.9          4517  \n",
       "3                Comedy,Drama     6.1            13  \n",
       "4        Comedy,Drama,Fantasy     6.5           119  \n",
       "5             Horror,Thriller     4.1            32  \n",
       "6  Adventure,Animation,Comedy     8.1           263  \n",
       "7                       Drama     6.8           451  \n",
       "8                     History     4.6            64  \n",
       "9                 Documentary     7.6            53  "
      ]
     },
     "execution_count": 11,
     "metadata": {},
     "output_type": "execute_result"
    }
   ],
   "source": [
    "q_Join = \"\"\" SELECT movie_id, primary_title, start_year, runtime_minutes, genres,\n",
    "            averagerating as rating, numvotes as number_votes\n",
    "            FROM movie_basics\n",
    "            JOIN movie_ratings\n",
    "            USING(movie_id) ; \"\"\"\n",
    "\n",
    "movie_rate = pd.read_sql(q_Join, conn) # I store this data in a dataframe called movie_rate\n",
    "\n",
    "# NOw, I display the movie_rate DataFrame(table)\n",
    "movie_rate.head(10)"
   ]
  },
  {
   "cell_type": "code",
   "execution_count": 13,
   "metadata": {},
   "outputs": [
    {
     "data": {
      "text/plain": [
       "movie_id \n",
       "tt9916160    1\n",
       "tt2413182    1\n",
       "tt2418372    1\n",
       "tt2418384    1\n",
       "tt2418440    1\n",
       "            ..\n",
       "tt4861720    1\n",
       "tt4861730    1\n",
       "tt4862056    1\n",
       "tt4862190    1\n",
       "tt0063540    1\n",
       "Length: 73856, dtype: int64"
      ]
     },
     "execution_count": 13,
     "metadata": {},
     "output_type": "execute_result"
    }
   ],
   "source": [
    "# I count unique movie_id of movie_rate\n",
    "movie_rate[['movie_id']].value_counts()"
   ]
  },
  {
   "cell_type": "code",
   "execution_count": 12,
   "metadata": {},
   "outputs": [
    {
     "data": {
      "text/plain": [
       "(73856, 7)"
      ]
     },
     "execution_count": 12,
     "metadata": {},
     "output_type": "execute_result"
    }
   ],
   "source": [
    "# THe dimension of my dataframe movie_rate\n",
    "movie_rate.shape"
   ]
  },
  {
   "cell_type": "code",
   "execution_count": 13,
   "metadata": {
    "scrolled": true
   },
   "outputs": [
    {
     "data": {
      "text/plain": [
       "movie_id              0\n",
       "primary_title         0\n",
       "start_year            0\n",
       "runtime_minutes    7620\n",
       "genres              804\n",
       "rating                0\n",
       "number_votes          0\n",
       "dtype: int64"
      ]
     },
     "execution_count": 13,
     "metadata": {},
     "output_type": "execute_result"
    }
   ],
   "source": [
    "#I look for the duplicate values in the movie_rate\n",
    "movie_rate.isna().sum()"
   ]
  },
  {
   "cell_type": "code",
   "execution_count": 14,
   "metadata": {},
   "outputs": [
    {
     "data": {
      "text/plain": [
       "genres                     \n",
       "Drama                          11612\n",
       "Documentary                    10313\n",
       "Comedy                          5613\n",
       "Horror                          2692\n",
       "Comedy,Drama                    2617\n",
       "                               ...  \n",
       "Adventure,Animation,History        1\n",
       "History,Romance,War                1\n",
       "Comedy,Fantasy,Mystery             1\n",
       "Comedy,Fantasy,Sport               1\n",
       "Comedy,Documentary,Western         1\n",
       "Length: 923, dtype: int64"
      ]
     },
     "execution_count": 14,
     "metadata": {},
     "output_type": "execute_result"
    }
   ],
   "source": [
    "#I lookat the frequency of each genre of the movie_rate\n",
    "\n",
    "movie_rate[['genres']].value_counts()"
   ]
  },
  {
   "cell_type": "markdown",
   "metadata": {},
   "source": [
    "#### Above, I explotred the IMDB and examine its the tables in order to get fundamental findings of the IMDB.  \n",
    "---\n",
    "Although it contains 5 tables, I only considere the tables ***movie_basics and movie_ratings*** that seem the most relevant for the analyses.  \n",
    "Since the goal is to find the best movie(films) at the box office, I join them and store the result in the table ***movie_rate*** to deeper the analyses.\n",
    "\n",
    "\n",
    "And now, this is the time to explore the CSV datasets to see how they can be meaningful"
   ]
  },
  {
   "cell_type": "markdown",
   "metadata": {},
   "source": [
    "### 2. overview of the csv datasets\n",
    "---\n",
    "\n",
    "####  As we are going deeper in our Data undestanding, below I explore orther datasets besides tables of IMDB.   \n",
    "Consequently, so much important fidings are exhibited bellow, so we will notice that :\n",
    "1. **movie_gross** contains informations about revenus earning the films at the box office, that means this is the main source for box office revenue\n",
    "2. **movie_budget**  tracks not only box office revenue but also the production budgets of each movie."
   ]
  },
  {
   "cell_type": "markdown",
   "metadata": {},
   "source": [
    "#### 1. movie_gross DataFrame"
   ]
  },
  {
   "cell_type": "code",
   "execution_count": 15,
   "metadata": {
    "scrolled": true
   },
   "outputs": [
    {
     "data": {
      "text/html": [
       "<div>\n",
       "<style scoped>\n",
       "    .dataframe tbody tr th:only-of-type {\n",
       "        vertical-align: middle;\n",
       "    }\n",
       "\n",
       "    .dataframe tbody tr th {\n",
       "        vertical-align: top;\n",
       "    }\n",
       "\n",
       "    .dataframe thead th {\n",
       "        text-align: right;\n",
       "    }\n",
       "</style>\n",
       "<table border=\"1\" class=\"dataframe\">\n",
       "  <thead>\n",
       "    <tr style=\"text-align: right;\">\n",
       "      <th></th>\n",
       "      <th>title</th>\n",
       "      <th>studio</th>\n",
       "      <th>domestic_gross</th>\n",
       "      <th>foreign_gross</th>\n",
       "      <th>year</th>\n",
       "    </tr>\n",
       "  </thead>\n",
       "  <tbody>\n",
       "    <tr>\n",
       "      <th>0</th>\n",
       "      <td>Toy Story 3</td>\n",
       "      <td>BV</td>\n",
       "      <td>415000000.0</td>\n",
       "      <td>652000000</td>\n",
       "      <td>2010</td>\n",
       "    </tr>\n",
       "    <tr>\n",
       "      <th>1</th>\n",
       "      <td>Alice in Wonderland (2010)</td>\n",
       "      <td>BV</td>\n",
       "      <td>334200000.0</td>\n",
       "      <td>691300000</td>\n",
       "      <td>2010</td>\n",
       "    </tr>\n",
       "    <tr>\n",
       "      <th>2</th>\n",
       "      <td>Harry Potter and the Deathly Hallows Part 1</td>\n",
       "      <td>WB</td>\n",
       "      <td>296000000.0</td>\n",
       "      <td>664300000</td>\n",
       "      <td>2010</td>\n",
       "    </tr>\n",
       "    <tr>\n",
       "      <th>3</th>\n",
       "      <td>Inception</td>\n",
       "      <td>WB</td>\n",
       "      <td>292600000.0</td>\n",
       "      <td>535700000</td>\n",
       "      <td>2010</td>\n",
       "    </tr>\n",
       "    <tr>\n",
       "      <th>4</th>\n",
       "      <td>Shrek Forever After</td>\n",
       "      <td>P/DW</td>\n",
       "      <td>238700000.0</td>\n",
       "      <td>513900000</td>\n",
       "      <td>2010</td>\n",
       "    </tr>\n",
       "    <tr>\n",
       "      <th>5</th>\n",
       "      <td>The Twilight Saga: Eclipse</td>\n",
       "      <td>Sum.</td>\n",
       "      <td>300500000.0</td>\n",
       "      <td>398000000</td>\n",
       "      <td>2010</td>\n",
       "    </tr>\n",
       "    <tr>\n",
       "      <th>6</th>\n",
       "      <td>Iron Man 2</td>\n",
       "      <td>Par.</td>\n",
       "      <td>312400000.0</td>\n",
       "      <td>311500000</td>\n",
       "      <td>2010</td>\n",
       "    </tr>\n",
       "    <tr>\n",
       "      <th>7</th>\n",
       "      <td>Tangled</td>\n",
       "      <td>BV</td>\n",
       "      <td>200800000.0</td>\n",
       "      <td>391000000</td>\n",
       "      <td>2010</td>\n",
       "    </tr>\n",
       "    <tr>\n",
       "      <th>8</th>\n",
       "      <td>Despicable Me</td>\n",
       "      <td>Uni.</td>\n",
       "      <td>251500000.0</td>\n",
       "      <td>291600000</td>\n",
       "      <td>2010</td>\n",
       "    </tr>\n",
       "    <tr>\n",
       "      <th>9</th>\n",
       "      <td>How to Train Your Dragon</td>\n",
       "      <td>P/DW</td>\n",
       "      <td>217600000.0</td>\n",
       "      <td>277300000</td>\n",
       "      <td>2010</td>\n",
       "    </tr>\n",
       "  </tbody>\n",
       "</table>\n",
       "</div>"
      ],
      "text/plain": [
       "                                         title studio  domestic_gross  \\\n",
       "0                                  Toy Story 3     BV     415000000.0   \n",
       "1                   Alice in Wonderland (2010)     BV     334200000.0   \n",
       "2  Harry Potter and the Deathly Hallows Part 1     WB     296000000.0   \n",
       "3                                    Inception     WB     292600000.0   \n",
       "4                          Shrek Forever After   P/DW     238700000.0   \n",
       "5                   The Twilight Saga: Eclipse   Sum.     300500000.0   \n",
       "6                                   Iron Man 2   Par.     312400000.0   \n",
       "7                                      Tangled     BV     200800000.0   \n",
       "8                                Despicable Me   Uni.     251500000.0   \n",
       "9                     How to Train Your Dragon   P/DW     217600000.0   \n",
       "\n",
       "  foreign_gross  year  \n",
       "0     652000000  2010  \n",
       "1     691300000  2010  \n",
       "2     664300000  2010  \n",
       "3     535700000  2010  \n",
       "4     513900000  2010  \n",
       "5     398000000  2010  \n",
       "6     311500000  2010  \n",
       "7     391000000  2010  \n",
       "8     291600000  2010  \n",
       "9     277300000  2010  "
      ]
     },
     "execution_count": 15,
     "metadata": {},
     "output_type": "execute_result"
    }
   ],
   "source": [
    "# I display the movie_gross dataFrame\n",
    "movie_gross.head(10)"
   ]
  },
  {
   "cell_type": "code",
   "execution_count": 16,
   "metadata": {},
   "outputs": [
    {
     "data": {
      "text/plain": [
       "0               BV\n",
       "1               BV\n",
       "2               WB\n",
       "3               WB\n",
       "4             P/DW\n",
       "           ...    \n",
       "3382         Magn.\n",
       "3383            FM\n",
       "3384          Sony\n",
       "3385    Synergetic\n",
       "3386         Grav.\n",
       "Name: studio, Length: 3387, dtype: object"
      ]
     },
     "execution_count": 16,
     "metadata": {},
     "output_type": "execute_result"
    }
   ],
   "source": [
    "# I look at the studio column\n",
    "movie_gross.studio"
   ]
  },
  {
   "cell_type": "code",
   "execution_count": 17,
   "metadata": {},
   "outputs": [
    {
     "data": {
      "text/plain": [
       "(3387, 5)"
      ]
     },
     "execution_count": 17,
     "metadata": {},
     "output_type": "execute_result"
    }
   ],
   "source": [
    "# The dimension of the movie_budget\n",
    "movie_gross.shape"
   ]
  },
  {
   "cell_type": "code",
   "execution_count": 18,
   "metadata": {},
   "outputs": [
    {
     "data": {
      "text/plain": [
       "title                0\n",
       "studio               5\n",
       "domestic_gross      28\n",
       "foreign_gross     1350\n",
       "year                 0\n",
       "dtype: int64"
      ]
     },
     "execution_count": 18,
     "metadata": {},
     "output_type": "execute_result"
    }
   ],
   "source": [
    "# Identify missing values\n",
    "movie_gross.isna().sum()"
   ]
  },
  {
   "cell_type": "code",
   "execution_count": 19,
   "metadata": {},
   "outputs": [
    {
     "data": {
      "text/plain": [
       "0"
      ]
     },
     "execution_count": 19,
     "metadata": {},
     "output_type": "execute_result"
    }
   ],
   "source": [
    "# Identify duplicates values\n",
    "movie_gross.duplicated().sum()"
   ]
  },
  {
   "cell_type": "code",
   "execution_count": 20,
   "metadata": {},
   "outputs": [
    {
     "data": {
      "text/plain": [
       "title              object\n",
       "studio             object\n",
       "domestic_gross    float64\n",
       "foreign_gross      object\n",
       "year                int64\n",
       "dtype: object"
      ]
     },
     "execution_count": 20,
     "metadata": {},
     "output_type": "execute_result"
    }
   ],
   "source": [
    "# Identify duplicates values\n",
    "movie_gross.dtypes"
   ]
  },
  {
   "cell_type": "code",
   "execution_count": 21,
   "metadata": {},
   "outputs": [
    {
     "data": {
      "text/html": [
       "<div>\n",
       "<style scoped>\n",
       "    .dataframe tbody tr th:only-of-type {\n",
       "        vertical-align: middle;\n",
       "    }\n",
       "\n",
       "    .dataframe tbody tr th {\n",
       "        vertical-align: top;\n",
       "    }\n",
       "\n",
       "    .dataframe thead th {\n",
       "        text-align: right;\n",
       "    }\n",
       "</style>\n",
       "<table border=\"1\" class=\"dataframe\">\n",
       "  <thead>\n",
       "    <tr style=\"text-align: right;\">\n",
       "      <th></th>\n",
       "      <th>domestic_gross</th>\n",
       "      <th>year</th>\n",
       "    </tr>\n",
       "  </thead>\n",
       "  <tbody>\n",
       "    <tr>\n",
       "      <th>count</th>\n",
       "      <td>3.359000e+03</td>\n",
       "      <td>3387.000000</td>\n",
       "    </tr>\n",
       "    <tr>\n",
       "      <th>mean</th>\n",
       "      <td>2.874585e+07</td>\n",
       "      <td>2013.958075</td>\n",
       "    </tr>\n",
       "    <tr>\n",
       "      <th>std</th>\n",
       "      <td>6.698250e+07</td>\n",
       "      <td>2.478141</td>\n",
       "    </tr>\n",
       "    <tr>\n",
       "      <th>min</th>\n",
       "      <td>1.000000e+02</td>\n",
       "      <td>2010.000000</td>\n",
       "    </tr>\n",
       "    <tr>\n",
       "      <th>25%</th>\n",
       "      <td>1.200000e+05</td>\n",
       "      <td>2012.000000</td>\n",
       "    </tr>\n",
       "    <tr>\n",
       "      <th>50%</th>\n",
       "      <td>1.400000e+06</td>\n",
       "      <td>2014.000000</td>\n",
       "    </tr>\n",
       "    <tr>\n",
       "      <th>75%</th>\n",
       "      <td>2.790000e+07</td>\n",
       "      <td>2016.000000</td>\n",
       "    </tr>\n",
       "    <tr>\n",
       "      <th>max</th>\n",
       "      <td>9.367000e+08</td>\n",
       "      <td>2018.000000</td>\n",
       "    </tr>\n",
       "  </tbody>\n",
       "</table>\n",
       "</div>"
      ],
      "text/plain": [
       "       domestic_gross         year\n",
       "count    3.359000e+03  3387.000000\n",
       "mean     2.874585e+07  2013.958075\n",
       "std      6.698250e+07     2.478141\n",
       "min      1.000000e+02  2010.000000\n",
       "25%      1.200000e+05  2012.000000\n",
       "50%      1.400000e+06  2014.000000\n",
       "75%      2.790000e+07  2016.000000\n",
       "max      9.367000e+08  2018.000000"
      ]
     },
     "execution_count": 21,
     "metadata": {},
     "output_type": "execute_result"
    }
   ],
   "source": [
    "# A brief summary statistics of numerical variables of movie_gross\n",
    "movie_gross.describe()"
   ]
  },
  {
   "cell_type": "markdown",
   "metadata": {},
   "source": [
    "#### 2. movie_budget DataFrame"
   ]
  },
  {
   "cell_type": "code",
   "execution_count": 22,
   "metadata": {
    "scrolled": true
   },
   "outputs": [
    {
     "data": {
      "text/html": [
       "<div>\n",
       "<style scoped>\n",
       "    .dataframe tbody tr th:only-of-type {\n",
       "        vertical-align: middle;\n",
       "    }\n",
       "\n",
       "    .dataframe tbody tr th {\n",
       "        vertical-align: top;\n",
       "    }\n",
       "\n",
       "    .dataframe thead th {\n",
       "        text-align: right;\n",
       "    }\n",
       "</style>\n",
       "<table border=\"1\" class=\"dataframe\">\n",
       "  <thead>\n",
       "    <tr style=\"text-align: right;\">\n",
       "      <th></th>\n",
       "      <th>id</th>\n",
       "      <th>release_date</th>\n",
       "      <th>movie</th>\n",
       "      <th>production_budget</th>\n",
       "      <th>domestic_gross</th>\n",
       "      <th>worldwide_gross</th>\n",
       "    </tr>\n",
       "  </thead>\n",
       "  <tbody>\n",
       "    <tr>\n",
       "      <th>0</th>\n",
       "      <td>1</td>\n",
       "      <td>Dec 18, 2009</td>\n",
       "      <td>Avatar</td>\n",
       "      <td>$425,000,000</td>\n",
       "      <td>$760,507,625</td>\n",
       "      <td>$2,776,345,279</td>\n",
       "    </tr>\n",
       "    <tr>\n",
       "      <th>1</th>\n",
       "      <td>2</td>\n",
       "      <td>May 20, 2011</td>\n",
       "      <td>Pirates of the Caribbean: On Stranger Tides</td>\n",
       "      <td>$410,600,000</td>\n",
       "      <td>$241,063,875</td>\n",
       "      <td>$1,045,663,875</td>\n",
       "    </tr>\n",
       "    <tr>\n",
       "      <th>2</th>\n",
       "      <td>3</td>\n",
       "      <td>Jun 7, 2019</td>\n",
       "      <td>Dark Phoenix</td>\n",
       "      <td>$350,000,000</td>\n",
       "      <td>$42,762,350</td>\n",
       "      <td>$149,762,350</td>\n",
       "    </tr>\n",
       "    <tr>\n",
       "      <th>3</th>\n",
       "      <td>4</td>\n",
       "      <td>May 1, 2015</td>\n",
       "      <td>Avengers: Age of Ultron</td>\n",
       "      <td>$330,600,000</td>\n",
       "      <td>$459,005,868</td>\n",
       "      <td>$1,403,013,963</td>\n",
       "    </tr>\n",
       "    <tr>\n",
       "      <th>4</th>\n",
       "      <td>5</td>\n",
       "      <td>Dec 15, 2017</td>\n",
       "      <td>Star Wars Ep. VIII: The Last Jedi</td>\n",
       "      <td>$317,000,000</td>\n",
       "      <td>$620,181,382</td>\n",
       "      <td>$1,316,721,747</td>\n",
       "    </tr>\n",
       "    <tr>\n",
       "      <th>5</th>\n",
       "      <td>6</td>\n",
       "      <td>Dec 18, 2015</td>\n",
       "      <td>Star Wars Ep. VII: The Force Awakens</td>\n",
       "      <td>$306,000,000</td>\n",
       "      <td>$936,662,225</td>\n",
       "      <td>$2,053,311,220</td>\n",
       "    </tr>\n",
       "    <tr>\n",
       "      <th>6</th>\n",
       "      <td>7</td>\n",
       "      <td>Apr 27, 2018</td>\n",
       "      <td>Avengers: Infinity War</td>\n",
       "      <td>$300,000,000</td>\n",
       "      <td>$678,815,482</td>\n",
       "      <td>$2,048,134,200</td>\n",
       "    </tr>\n",
       "    <tr>\n",
       "      <th>7</th>\n",
       "      <td>8</td>\n",
       "      <td>May 24, 2007</td>\n",
       "      <td>Pirates of the Caribbean: At Worldâs End</td>\n",
       "      <td>$300,000,000</td>\n",
       "      <td>$309,420,425</td>\n",
       "      <td>$963,420,425</td>\n",
       "    </tr>\n",
       "    <tr>\n",
       "      <th>8</th>\n",
       "      <td>9</td>\n",
       "      <td>Nov 17, 2017</td>\n",
       "      <td>Justice League</td>\n",
       "      <td>$300,000,000</td>\n",
       "      <td>$229,024,295</td>\n",
       "      <td>$655,945,209</td>\n",
       "    </tr>\n",
       "    <tr>\n",
       "      <th>9</th>\n",
       "      <td>10</td>\n",
       "      <td>Nov 6, 2015</td>\n",
       "      <td>Spectre</td>\n",
       "      <td>$300,000,000</td>\n",
       "      <td>$200,074,175</td>\n",
       "      <td>$879,620,923</td>\n",
       "    </tr>\n",
       "  </tbody>\n",
       "</table>\n",
       "</div>"
      ],
      "text/plain": [
       "   id  release_date                                        movie  \\\n",
       "0   1  Dec 18, 2009                                       Avatar   \n",
       "1   2  May 20, 2011  Pirates of the Caribbean: On Stranger Tides   \n",
       "2   3   Jun 7, 2019                                 Dark Phoenix   \n",
       "3   4   May 1, 2015                      Avengers: Age of Ultron   \n",
       "4   5  Dec 15, 2017            Star Wars Ep. VIII: The Last Jedi   \n",
       "5   6  Dec 18, 2015         Star Wars Ep. VII: The Force Awakens   \n",
       "6   7  Apr 27, 2018                       Avengers: Infinity War   \n",
       "7   8  May 24, 2007   Pirates of the Caribbean: At Worldâs End   \n",
       "8   9  Nov 17, 2017                               Justice League   \n",
       "9  10   Nov 6, 2015                                      Spectre   \n",
       "\n",
       "  production_budget domestic_gross worldwide_gross  \n",
       "0      $425,000,000   $760,507,625  $2,776,345,279  \n",
       "1      $410,600,000   $241,063,875  $1,045,663,875  \n",
       "2      $350,000,000    $42,762,350    $149,762,350  \n",
       "3      $330,600,000   $459,005,868  $1,403,013,963  \n",
       "4      $317,000,000   $620,181,382  $1,316,721,747  \n",
       "5      $306,000,000   $936,662,225  $2,053,311,220  \n",
       "6      $300,000,000   $678,815,482  $2,048,134,200  \n",
       "7      $300,000,000   $309,420,425    $963,420,425  \n",
       "8      $300,000,000   $229,024,295    $655,945,209  \n",
       "9      $300,000,000   $200,074,175    $879,620,923  "
      ]
     },
     "execution_count": 22,
     "metadata": {},
     "output_type": "execute_result"
    }
   ],
   "source": [
    "# I display the movie_budget\n",
    "movie_budget.head(10)"
   ]
  },
  {
   "cell_type": "code",
   "execution_count": 23,
   "metadata": {},
   "outputs": [
    {
     "data": {
      "text/plain": [
       "(5782, 6)"
      ]
     },
     "execution_count": 23,
     "metadata": {},
     "output_type": "execute_result"
    }
   ],
   "source": [
    "# The dimension of the movie_budget\n",
    "movie_budget.shape"
   ]
  },
  {
   "cell_type": "code",
   "execution_count": 24,
   "metadata": {},
   "outputs": [
    {
     "data": {
      "text/plain": [
       "id                   0\n",
       "release_date         0\n",
       "movie                0\n",
       "production_budget    0\n",
       "domestic_gross       0\n",
       "worldwide_gross      0\n",
       "dtype: int64"
      ]
     },
     "execution_count": 24,
     "metadata": {},
     "output_type": "execute_result"
    }
   ],
   "source": [
    "# Identify columns that contains missing values\n",
    "movie_budget.isna().sum()"
   ]
  },
  {
   "cell_type": "code",
   "execution_count": 25,
   "metadata": {},
   "outputs": [
    {
     "data": {
      "text/plain": [
       "0"
      ]
     },
     "execution_count": 25,
     "metadata": {},
     "output_type": "execute_result"
    }
   ],
   "source": [
    "# Identify columns that contains duplicate values\n",
    "movie_budget.duplicated().sum()"
   ]
  },
  {
   "cell_type": "code",
   "execution_count": 26,
   "metadata": {
    "scrolled": false
   },
   "outputs": [
    {
     "data": {
      "text/plain": [
       "id                    int64\n",
       "release_date         object\n",
       "movie                object\n",
       "production_budget    object\n",
       "domestic_gross       object\n",
       "worldwide_gross      object\n",
       "dtype: object"
      ]
     },
     "execution_count": 26,
     "metadata": {},
     "output_type": "execute_result"
    }
   ],
   "source": [
    "# Identify the types of each columns(variables) movie_buget\n",
    "movie_budget.dtypes"
   ]
  },
  {
   "cell_type": "markdown",
   "metadata": {},
   "source": [
    "#### As we have seen, I explore the tables meticulously to get quick findings from them, we can observe that :\n",
    "**movie_gross** contains informations about revenus earning by the films, that means this table is the main source for box office revenue.  \n",
    "Moreover, it shows that the average domestic gross earns by filmsis 2.874585e+07 $.\n",
    "\n",
    "All of thoses tables shown above are really important for the analyses. So far, we had quick findings of them.  \n",
    "Howerver, they should be prepared in order to do the most relevant analysis.  \n",
    "So, in the next step, I will dive into the **Data Preparation** in order to prepare correctly the data for the analysis and results."
   ]
  },
  {
   "cell_type": "markdown",
   "metadata": {},
   "source": [
    "## Data Preparation\n",
    "---\n",
    " Here we go !\n",
    " Now I'm about to prepare the data for analysis. As I've seen above, all the DataFrames, needs being cleaned. In fact, they contains \n",
    "- many columns with missing values\n",
    "- columns with inapproriate datatypes\n",
    "- columns with miswritten category, and so on.  \n",
    "\n",
    "As a result, Through the process of preparing the Data, I'm going to do the :\n",
    " \n",
    " 1. ### Data cleaning\n",
    "     - #### Deal with columns\n",
    "     - #### Handle missing values\n",
    " 2. ### Feature Engineering\n",
    " 3. ### Merging DataFrames"
   ]
  },
  {
   "cell_type": "markdown",
   "metadata": {},
   "source": [
    "### 1. Data cleaning\n",
    "\n",
    "\n",
    "#### Deal with columns properly \n",
    "\n",
    "Here we are going to focus on each columns in order to **keep** or to **drop** with the `.Drop()` method\n",
    "\n",
    "Then, i'm going to :\n",
    "- #### Drop less useful columns for this analysis\n",
    "- #### Use appropriate name for each columns\n",
    "- #### change the data type of columns if necessary"
   ]
  },
  {
   "cell_type": "markdown",
   "metadata": {},
   "source": [
    "#### Missing values in the movie_gross table"
   ]
  },
  {
   "cell_type": "code",
   "execution_count": 27,
   "metadata": {
    "scrolled": true
   },
   "outputs": [
    {
     "data": {
      "text/plain": [
       "title             0\n",
       "studio            0\n",
       "domestic_gross    0\n",
       "foreign_gross     0\n",
       "year              0\n",
       "dtype: int64"
      ]
     },
     "execution_count": 27,
     "metadata": {},
     "output_type": "execute_result"
    }
   ],
   "source": [
    "\n",
    "# Step 0: Define the characters/strings that should be considered as missing\n",
    "missing_values = [\"\", \" \", \"?\", \"NA\", \"N/A\", \"n/a\", \"na\", \"null\", \"None\", \n",
    "                  \"NONE\", \"Null\", \"unknown\", \"Unknown\", \"UNKNOWN\", \"UN\", \"—\", \"-\"]\n",
    "\n",
    "# Step 1: Replace all known \"missing value\" strings with np.nan in the whole DataFrame\n",
    "movie_gross = movie_gross.replace(missing_values, np.nan)\n",
    "\n",
    "# Step 2: Remove non-numeric characters ($, commas, spaces, etc.) from numerical columns\n",
    "for col in ['domestic_gross', 'foreign_gross']:\n",
    "    movie_gross[col] = movie_gross[col].astype(str).replace(r'[\\$,]', '', regex=True)\n",
    "    \n",
    "    # Step 3: Convert to numeric\n",
    "    movie_gross[col] = pd.to_numeric(movie_gross[col], errors='coerce')\n",
    "    \n",
    "    # Step 4: Fill missing values in numerical columns with their\n",
    "    median_val = movie_gross[col].median(skipna=True)\n",
    "    movie_gross[col].fillna(median_val, inplace=True)\n",
    "    \n",
    "# Step 2: deal with missing values in categorical variables\n",
    "    \n",
    "# Standardize missing-like strings and impute with mode\n",
    "for col in ['title', 'studio'] :\n",
    "    \n",
    "    # Replace custom missing strings with np.nan\n",
    "    movie_gross[col] = movie_gross[col].replace(missing_values , np.nan)\n",
    "    \n",
    "    # Fill missing values with the mode of the column\n",
    "    mode_mgross = movie_gross[col].mode()[0]\n",
    "    movie_gross[col] = movie_gross[col].fillna(mode_mgross)  \n",
    "   \n",
    "    \n",
    "movie_gross.isna().sum()"
   ]
  },
  {
   "cell_type": "markdown",
   "metadata": {},
   "source": [
    "#### Missing values in the movie_rate table"
   ]
  },
  {
   "cell_type": "code",
   "execution_count": 28,
   "metadata": {
    "scrolled": true
   },
   "outputs": [
    {
     "data": {
      "text/plain": [
       "movie_id           0\n",
       "primary_title      0\n",
       "start_year         0\n",
       "runtime_minutes    0\n",
       "genres             0\n",
       "rating             0\n",
       "number_votes       0\n",
       "dtype: int64"
      ]
     },
     "execution_count": 28,
     "metadata": {},
     "output_type": "execute_result"
    }
   ],
   "source": [
    "# Dealing with missing values!\n",
    "\n",
    "# Categorical variables\n",
    "\n",
    "# first im going to identify missing value \n",
    "cols_mrate = ['primary_title', 'genres']\n",
    "missing_mrate = ['UNK','Unknown','UNKNOWN','Unavailable','None', 'Unk',\n",
    "                  'MISSING','Missing' ,'NONE','N/A','NaN', 'nan', '?' ]\n",
    "\n",
    "# Standardize missing-like strings and impute with mode\n",
    "for col in cols_mrate :   \n",
    "    movie_rate[col] = movie_rate[col].replace(missing_mrate , np.nan)\n",
    "    \n",
    "    # Fill missing values with the mode of the column\n",
    "    mode_mrate = movie_rate[col].mode()[0]\n",
    "    movie_rate[col] = movie_rate[col].fillna(mode_mrate)\n",
    "    \n",
    "# numerical variables\n",
    "# Convert to numeric, coerce invalid values to NaN\n",
    "movie_rate['runtime_minutes'] = pd.to_numeric(movie_rate['runtime_minutes'], errors='coerce')\n",
    "\n",
    "# Compute median (excluding NaN) # Fill NaNs with the median value\n",
    "median_runtime = movie_rate['runtime_minutes'].median()\n",
    "movie_rate['runtime_minutes'] =movie_rate['runtime_minutes'].fillna(median_runtime)\n",
    "\n",
    "# Ensure type stays float.\n",
    "movie_rate['runtime_minutes'] = movie_rate['runtime_minutes'].astype(float)\n",
    "\n",
    "    \n",
    "# To show the amount of missing values\n",
    "movie_rate.isna().sum()"
   ]
  },
  {
   "cell_type": "markdown",
   "metadata": {},
   "source": [
    "#### Missing values in the movie_budget table"
   ]
  },
  {
   "cell_type": "code",
   "execution_count": 29,
   "metadata": {},
   "outputs": [
    {
     "data": {
      "text/plain": [
       "id                   0\n",
       "release_date         0\n",
       "movie                2\n",
       "production_budget    0\n",
       "domestic_gross       0\n",
       "worldwide_gross      0\n",
       "dtype: int64"
      ]
     },
     "execution_count": 29,
     "metadata": {},
     "output_type": "execute_result"
    }
   ],
   "source": [
    "\n",
    "# Step 0: Define known \"missing value\" indicators\n",
    "missing_values = [\"\", \" \", \"?\", \"NA\", \"N/A\", \"n/a\", \"na\", \"null\", \"None\", \"NONE\", \"Null\", \n",
    "                  \"unknown\", \"Unknown\", \"UNKNOWN\", \"UN\", \"—\", \"-\"]\n",
    "\n",
    "# Step 1: Replace all known missing value indicators with NaN\n",
    "movie_budget = movie_budget.replace(missing_values, np.nan)\n",
    "\n",
    "# Step 2: Clean non-numeric characters ($, commas) from numeric columns\n",
    "for col in ['production_budget', 'domestic_gross', 'worldwide_gross']:\n",
    "    movie_budget[col] = movie_budget[col].astype(str).replace(r'[\\$,]', '', regex=True)\n",
    "    movie_budget[col] = pd.to_numeric(movie_budget[col], errors='coerce')\n",
    "    \n",
    "    # Fill missing values with median of each column\n",
    "    median_val = movie_budget[col].median(skipna=True)\n",
    "    movie_budget[col].fillna(median_val, inplace=True)\n",
    "      \n",
    "\n",
    "# movie_budget = movie_budget.dropna(subset=['movie'], axis = 1)\n",
    "    \n",
    "movie_budget.isna().sum()"
   ]
  },
  {
   "cell_type": "markdown",
   "metadata": {},
   "source": [
    "#### Clean columns :\n",
    "Here I clean columns' name of each table in order to standardized them for merging "
   ]
  },
  {
   "cell_type": "code",
   "execution_count": 30,
   "metadata": {},
   "outputs": [],
   "source": [
    "# I clean the titles\n",
    "\n",
    "def clean_title(title):\n",
    "    return (\n",
    "        str(title)\n",
    "        .lower()\n",
    "        .strip()\n",
    "        .replace(\":\", \"\")\n",
    "        .replace(\"-\", \"\")\n",
    "        .replace(\"’\", \"\")\n",
    "        .replace(\"'\", \"\")\n",
    "        .replace(\",\", \"\")\n",
    "    )\n",
    "\n",
    "movie_rate['primary_title'] = movie_rate['primary_title'].apply(clean_title)\n",
    "movie_budget['title_movie'] = movie_budget['movie'].apply(clean_title)\n",
    "movie_gross['title'] = movie_gross['title'].apply(clean_title)\n"
   ]
  },
  {
   "cell_type": "markdown",
   "metadata": {},
   "source": [
    "### 2. Feature Engineering"
   ]
  },
  {
   "cell_type": "markdown",
   "metadata": {},
   "source": [
    "In this section, we apply some computation on some columns to make the datasets more appropriate for analysis"
   ]
  },
  {
   "cell_type": "code",
   "execution_count": 31,
   "metadata": {},
   "outputs": [
    {
     "data": {
      "text/html": [
       "<div>\n",
       "<style scoped>\n",
       "    .dataframe tbody tr th:only-of-type {\n",
       "        vertical-align: middle;\n",
       "    }\n",
       "\n",
       "    .dataframe tbody tr th {\n",
       "        vertical-align: top;\n",
       "    }\n",
       "\n",
       "    .dataframe thead th {\n",
       "        text-align: right;\n",
       "    }\n",
       "</style>\n",
       "<table border=\"1\" class=\"dataframe\">\n",
       "  <thead>\n",
       "    <tr style=\"text-align: right;\">\n",
       "      <th></th>\n",
       "      <th>id</th>\n",
       "      <th>release_date</th>\n",
       "      <th>movie</th>\n",
       "      <th>production_budget</th>\n",
       "      <th>domestic_gross</th>\n",
       "      <th>worldwide_gross</th>\n",
       "      <th>title_movie</th>\n",
       "      <th>release_year</th>\n",
       "      <th>release_month</th>\n",
       "    </tr>\n",
       "  </thead>\n",
       "  <tbody>\n",
       "    <tr>\n",
       "      <th>0</th>\n",
       "      <td>1</td>\n",
       "      <td>2009-12-18</td>\n",
       "      <td>Avatar</td>\n",
       "      <td>425000000</td>\n",
       "      <td>760507625</td>\n",
       "      <td>2776345279</td>\n",
       "      <td>avatar</td>\n",
       "      <td>2009</td>\n",
       "      <td>12</td>\n",
       "    </tr>\n",
       "    <tr>\n",
       "      <th>1</th>\n",
       "      <td>2</td>\n",
       "      <td>2011-05-20</td>\n",
       "      <td>Pirates of the Caribbean: On Stranger Tides</td>\n",
       "      <td>410600000</td>\n",
       "      <td>241063875</td>\n",
       "      <td>1045663875</td>\n",
       "      <td>pirates of the caribbean on stranger tides</td>\n",
       "      <td>2011</td>\n",
       "      <td>5</td>\n",
       "    </tr>\n",
       "    <tr>\n",
       "      <th>2</th>\n",
       "      <td>3</td>\n",
       "      <td>2019-06-07</td>\n",
       "      <td>Dark Phoenix</td>\n",
       "      <td>350000000</td>\n",
       "      <td>42762350</td>\n",
       "      <td>149762350</td>\n",
       "      <td>dark phoenix</td>\n",
       "      <td>2019</td>\n",
       "      <td>6</td>\n",
       "    </tr>\n",
       "    <tr>\n",
       "      <th>3</th>\n",
       "      <td>4</td>\n",
       "      <td>2015-05-01</td>\n",
       "      <td>Avengers: Age of Ultron</td>\n",
       "      <td>330600000</td>\n",
       "      <td>459005868</td>\n",
       "      <td>1403013963</td>\n",
       "      <td>avengers age of ultron</td>\n",
       "      <td>2015</td>\n",
       "      <td>5</td>\n",
       "    </tr>\n",
       "    <tr>\n",
       "      <th>4</th>\n",
       "      <td>5</td>\n",
       "      <td>2017-12-15</td>\n",
       "      <td>Star Wars Ep. VIII: The Last Jedi</td>\n",
       "      <td>317000000</td>\n",
       "      <td>620181382</td>\n",
       "      <td>1316721747</td>\n",
       "      <td>star wars ep. viii the last jedi</td>\n",
       "      <td>2017</td>\n",
       "      <td>12</td>\n",
       "    </tr>\n",
       "  </tbody>\n",
       "</table>\n",
       "</div>"
      ],
      "text/plain": [
       "   id release_date                                        movie  \\\n",
       "0   1   2009-12-18                                       Avatar   \n",
       "1   2   2011-05-20  Pirates of the Caribbean: On Stranger Tides   \n",
       "2   3   2019-06-07                                 Dark Phoenix   \n",
       "3   4   2015-05-01                      Avengers: Age of Ultron   \n",
       "4   5   2017-12-15            Star Wars Ep. VIII: The Last Jedi   \n",
       "\n",
       "   production_budget  domestic_gross  worldwide_gross  \\\n",
       "0          425000000       760507625       2776345279   \n",
       "1          410600000       241063875       1045663875   \n",
       "2          350000000        42762350        149762350   \n",
       "3          330600000       459005868       1403013963   \n",
       "4          317000000       620181382       1316721747   \n",
       "\n",
       "                                  title_movie  release_year  release_month  \n",
       "0                                      avatar          2009             12  \n",
       "1  pirates of the caribbean on stranger tides          2011              5  \n",
       "2                                dark phoenix          2019              6  \n",
       "3                      avengers age of ultron          2015              5  \n",
       "4            star wars ep. viii the last jedi          2017             12  "
      ]
     },
     "execution_count": 31,
     "metadata": {},
     "output_type": "execute_result"
    }
   ],
   "source": [
    "# Extract the first genre before the first comma to make it primary genre\n",
    "movie_rate['primary_genre'] = movie_rate['genres'].str.split(',').str[0].str.strip().str.title()\n",
    "movie_rate.head()\n",
    "\n",
    "# Step 2: Create total_revenue as the sum of domestic and foreign gross\n",
    "movie_gross['total_revenue'] = movie_gross['domestic_gross'] + movie_gross['foreign_gross']\n",
    "movie_gross.head()\n",
    "\n",
    "# formalize the date columns\n",
    "movie_budget['release_date'] = pd.to_datetime(movie_budget['release_date'] )\n",
    "#movie_budget['release_day'] = movie_budget['release_date'].dt.day_name()\n",
    "movie_budget['release_year'] = movie_budget['release_date'].dt.year\n",
    "movie_budget['release_month'] = movie_budget['release_date'].dt.month\n",
    "\n",
    "movie_budget.head()"
   ]
  },
  {
   "cell_type": "code",
   "execution_count": 32,
   "metadata": {
    "scrolled": true
   },
   "outputs": [
    {
     "data": {
      "text/html": [
       "<div>\n",
       "<style scoped>\n",
       "    .dataframe tbody tr th:only-of-type {\n",
       "        vertical-align: middle;\n",
       "    }\n",
       "\n",
       "    .dataframe tbody tr th {\n",
       "        vertical-align: top;\n",
       "    }\n",
       "\n",
       "    .dataframe thead th {\n",
       "        text-align: right;\n",
       "    }\n",
       "</style>\n",
       "<table border=\"1\" class=\"dataframe\">\n",
       "  <thead>\n",
       "    <tr style=\"text-align: right;\">\n",
       "      <th></th>\n",
       "      <th>title_movie</th>\n",
       "      <th>production_budget</th>\n",
       "      <th>release_year</th>\n",
       "      <th>release_month</th>\n",
       "    </tr>\n",
       "  </thead>\n",
       "  <tbody>\n",
       "    <tr>\n",
       "      <th>0</th>\n",
       "      <td>avatar</td>\n",
       "      <td>425000000</td>\n",
       "      <td>2009</td>\n",
       "      <td>12</td>\n",
       "    </tr>\n",
       "    <tr>\n",
       "      <th>1</th>\n",
       "      <td>pirates of the caribbean on stranger tides</td>\n",
       "      <td>410600000</td>\n",
       "      <td>2011</td>\n",
       "      <td>5</td>\n",
       "    </tr>\n",
       "    <tr>\n",
       "      <th>2</th>\n",
       "      <td>dark phoenix</td>\n",
       "      <td>350000000</td>\n",
       "      <td>2019</td>\n",
       "      <td>6</td>\n",
       "    </tr>\n",
       "    <tr>\n",
       "      <th>3</th>\n",
       "      <td>avengers age of ultron</td>\n",
       "      <td>330600000</td>\n",
       "      <td>2015</td>\n",
       "      <td>5</td>\n",
       "    </tr>\n",
       "    <tr>\n",
       "      <th>4</th>\n",
       "      <td>star wars ep. viii the last jedi</td>\n",
       "      <td>317000000</td>\n",
       "      <td>2017</td>\n",
       "      <td>12</td>\n",
       "    </tr>\n",
       "  </tbody>\n",
       "</table>\n",
       "</div>"
      ],
      "text/plain": [
       "                                  title_movie  production_budget  \\\n",
       "0                                      avatar          425000000   \n",
       "1  pirates of the caribbean on stranger tides          410600000   \n",
       "2                                dark phoenix          350000000   \n",
       "3                      avengers age of ultron          330600000   \n",
       "4            star wars ep. viii the last jedi          317000000   \n",
       "\n",
       "   release_year  release_month  \n",
       "0          2009             12  \n",
       "1          2011              5  \n",
       "2          2019              6  \n",
       "3          2015              5  \n",
       "4          2017             12  "
      ]
     },
     "execution_count": 32,
     "metadata": {},
     "output_type": "execute_result"
    }
   ],
   "source": [
    "# i considere only the most relevant columns in the movie_table\n",
    "movie_budget = movie_budget.loc[:, ['title_movie', 'production_budget','release_year', 'release_month']]\n",
    "\n",
    "movie_budget.head()"
   ]
  },
  {
   "cell_type": "markdown",
   "metadata": {},
   "source": [
    "### 3. Merging DataFrames\n",
    "\n",
    "---\n",
    "\n",
    "##### In this section I merge the well clean DataFrames so that I can move to the Analysis step. Thus, I will merge  : \n",
    "\n",
    "1. movie_rate and movie_gross Dataframes as rate_gross\n",
    "\n",
    "2. movie_rate, movie_gross and movie_budget Dataframes as rate_gross_budget\n",
    "\n",
    "3.  Feature Engineering merging tables\n",
    "\n",
    "\n"
   ]
  },
  {
   "cell_type": "markdown",
   "metadata": {},
   "source": [
    "#### 1. Merging movie_rate and movie_gross"
   ]
  },
  {
   "cell_type": "code",
   "execution_count": 33,
   "metadata": {
    "scrolled": true
   },
   "outputs": [
    {
     "data": {
      "text/html": [
       "<div>\n",
       "<style scoped>\n",
       "    .dataframe tbody tr th:only-of-type {\n",
       "        vertical-align: middle;\n",
       "    }\n",
       "\n",
       "    .dataframe tbody tr th {\n",
       "        vertical-align: top;\n",
       "    }\n",
       "\n",
       "    .dataframe thead th {\n",
       "        text-align: right;\n",
       "    }\n",
       "</style>\n",
       "<table border=\"1\" class=\"dataframe\">\n",
       "  <thead>\n",
       "    <tr style=\"text-align: right;\">\n",
       "      <th></th>\n",
       "      <th>movie_id</th>\n",
       "      <th>primary_title</th>\n",
       "      <th>start_year</th>\n",
       "      <th>runtime_minutes</th>\n",
       "      <th>genres</th>\n",
       "      <th>rating</th>\n",
       "      <th>number_votes</th>\n",
       "      <th>primary_genre</th>\n",
       "      <th>title</th>\n",
       "      <th>studio</th>\n",
       "      <th>domestic_gross</th>\n",
       "      <th>foreign_gross</th>\n",
       "      <th>year</th>\n",
       "      <th>total_revenue</th>\n",
       "    </tr>\n",
       "  </thead>\n",
       "  <tbody>\n",
       "    <tr>\n",
       "      <th>0</th>\n",
       "      <td>tt0315642</td>\n",
       "      <td>wazir</td>\n",
       "      <td>2016</td>\n",
       "      <td>103.0</td>\n",
       "      <td>Action,Crime,Drama</td>\n",
       "      <td>7.1</td>\n",
       "      <td>15378</td>\n",
       "      <td>Action</td>\n",
       "      <td>wazir</td>\n",
       "      <td>Relbig.</td>\n",
       "      <td>1100000.0</td>\n",
       "      <td>18700000.0</td>\n",
       "      <td>2016</td>\n",
       "      <td>19800000.0</td>\n",
       "    </tr>\n",
       "    <tr>\n",
       "      <th>1</th>\n",
       "      <td>tt0337692</td>\n",
       "      <td>on the road</td>\n",
       "      <td>2012</td>\n",
       "      <td>124.0</td>\n",
       "      <td>Adventure,Drama,Romance</td>\n",
       "      <td>6.1</td>\n",
       "      <td>37886</td>\n",
       "      <td>Adventure</td>\n",
       "      <td>on the road</td>\n",
       "      <td>IFC</td>\n",
       "      <td>744000.0</td>\n",
       "      <td>8000000.0</td>\n",
       "      <td>2012</td>\n",
       "      <td>8744000.0</td>\n",
       "    </tr>\n",
       "    <tr>\n",
       "      <th>2</th>\n",
       "      <td>tt4339118</td>\n",
       "      <td>on the road</td>\n",
       "      <td>2014</td>\n",
       "      <td>89.0</td>\n",
       "      <td>Drama</td>\n",
       "      <td>6.0</td>\n",
       "      <td>6</td>\n",
       "      <td>Drama</td>\n",
       "      <td>on the road</td>\n",
       "      <td>IFC</td>\n",
       "      <td>744000.0</td>\n",
       "      <td>8000000.0</td>\n",
       "      <td>2012</td>\n",
       "      <td>8744000.0</td>\n",
       "    </tr>\n",
       "    <tr>\n",
       "      <th>3</th>\n",
       "      <td>tt5647250</td>\n",
       "      <td>on the road</td>\n",
       "      <td>2016</td>\n",
       "      <td>121.0</td>\n",
       "      <td>Drama</td>\n",
       "      <td>5.7</td>\n",
       "      <td>127</td>\n",
       "      <td>Drama</td>\n",
       "      <td>on the road</td>\n",
       "      <td>IFC</td>\n",
       "      <td>744000.0</td>\n",
       "      <td>8000000.0</td>\n",
       "      <td>2012</td>\n",
       "      <td>8744000.0</td>\n",
       "    </tr>\n",
       "    <tr>\n",
       "      <th>4</th>\n",
       "      <td>tt0359950</td>\n",
       "      <td>the secret life of walter mitty</td>\n",
       "      <td>2013</td>\n",
       "      <td>114.0</td>\n",
       "      <td>Adventure,Comedy,Drama</td>\n",
       "      <td>7.3</td>\n",
       "      <td>275300</td>\n",
       "      <td>Adventure</td>\n",
       "      <td>the secret life of walter mitty</td>\n",
       "      <td>Fox</td>\n",
       "      <td>58200000.0</td>\n",
       "      <td>129900000.0</td>\n",
       "      <td>2013</td>\n",
       "      <td>188100000.0</td>\n",
       "    </tr>\n",
       "  </tbody>\n",
       "</table>\n",
       "</div>"
      ],
      "text/plain": [
       "    movie_id                    primary_title  start_year  runtime_minutes  \\\n",
       "0  tt0315642                            wazir        2016            103.0   \n",
       "1  tt0337692                      on the road        2012            124.0   \n",
       "2  tt4339118                      on the road        2014             89.0   \n",
       "3  tt5647250                      on the road        2016            121.0   \n",
       "4  tt0359950  the secret life of walter mitty        2013            114.0   \n",
       "\n",
       "                    genres  rating  number_votes primary_genre  \\\n",
       "0       Action,Crime,Drama     7.1         15378        Action   \n",
       "1  Adventure,Drama,Romance     6.1         37886     Adventure   \n",
       "2                    Drama     6.0             6         Drama   \n",
       "3                    Drama     5.7           127         Drama   \n",
       "4   Adventure,Comedy,Drama     7.3        275300     Adventure   \n",
       "\n",
       "                             title   studio  domestic_gross  foreign_gross  \\\n",
       "0                            wazir  Relbig.       1100000.0     18700000.0   \n",
       "1                      on the road      IFC        744000.0      8000000.0   \n",
       "2                      on the road      IFC        744000.0      8000000.0   \n",
       "3                      on the road      IFC        744000.0      8000000.0   \n",
       "4  the secret life of walter mitty      Fox      58200000.0    129900000.0   \n",
       "\n",
       "   year  total_revenue  \n",
       "0  2016     19800000.0  \n",
       "1  2012      8744000.0  \n",
       "2  2012      8744000.0  \n",
       "3  2012      8744000.0  \n",
       "4  2013    188100000.0  "
      ]
     },
     "execution_count": 33,
     "metadata": {},
     "output_type": "execute_result"
    }
   ],
   "source": [
    "# I merge movie_gross with movie_rate table\n",
    "rate_gross = pd.merge(movie_rate, movie_gross, how = 'inner', left_on = 'primary_title', right_on = 'title')\n",
    "rate_gross.head() # Display the first 5 rows"
   ]
  },
  {
   "cell_type": "code",
   "execution_count": 34,
   "metadata": {},
   "outputs": [
    {
     "data": {
      "text/plain": [
       "(3166, 14)"
      ]
     },
     "execution_count": 34,
     "metadata": {},
     "output_type": "execute_result"
    }
   ],
   "source": [
    "# Look at the shape of the table\n",
    "rate_gross.shape"
   ]
  },
  {
   "cell_type": "code",
   "execution_count": 35,
   "metadata": {},
   "outputs": [
    {
     "data": {
      "text/html": [
       "<div>\n",
       "<style scoped>\n",
       "    .dataframe tbody tr th:only-of-type {\n",
       "        vertical-align: middle;\n",
       "    }\n",
       "\n",
       "    .dataframe tbody tr th {\n",
       "        vertical-align: top;\n",
       "    }\n",
       "\n",
       "    .dataframe thead th {\n",
       "        text-align: right;\n",
       "    }\n",
       "</style>\n",
       "<table border=\"1\" class=\"dataframe\">\n",
       "  <thead>\n",
       "    <tr style=\"text-align: right;\">\n",
       "      <th></th>\n",
       "      <th>movie_id</th>\n",
       "      <th>title</th>\n",
       "      <th>genres</th>\n",
       "      <th>primary_genre</th>\n",
       "      <th>studio</th>\n",
       "      <th>runtime_minutes</th>\n",
       "      <th>number_votes</th>\n",
       "      <th>rating</th>\n",
       "      <th>domestic_gross</th>\n",
       "      <th>foreign_gross</th>\n",
       "      <th>total_revenue</th>\n",
       "      <th>year</th>\n",
       "    </tr>\n",
       "  </thead>\n",
       "  <tbody>\n",
       "    <tr>\n",
       "      <th>0</th>\n",
       "      <td>tt0315642</td>\n",
       "      <td>wazir</td>\n",
       "      <td>Action,Crime,Drama</td>\n",
       "      <td>Action</td>\n",
       "      <td>Relbig.</td>\n",
       "      <td>103.0</td>\n",
       "      <td>15378</td>\n",
       "      <td>7.1</td>\n",
       "      <td>1100000.0</td>\n",
       "      <td>18700000.0</td>\n",
       "      <td>19800000.0</td>\n",
       "      <td>2016</td>\n",
       "    </tr>\n",
       "    <tr>\n",
       "      <th>1</th>\n",
       "      <td>tt0337692</td>\n",
       "      <td>on the road</td>\n",
       "      <td>Adventure,Drama,Romance</td>\n",
       "      <td>Adventure</td>\n",
       "      <td>IFC</td>\n",
       "      <td>124.0</td>\n",
       "      <td>37886</td>\n",
       "      <td>6.1</td>\n",
       "      <td>744000.0</td>\n",
       "      <td>8000000.0</td>\n",
       "      <td>8744000.0</td>\n",
       "      <td>2012</td>\n",
       "    </tr>\n",
       "    <tr>\n",
       "      <th>2</th>\n",
       "      <td>tt4339118</td>\n",
       "      <td>on the road</td>\n",
       "      <td>Drama</td>\n",
       "      <td>Drama</td>\n",
       "      <td>IFC</td>\n",
       "      <td>89.0</td>\n",
       "      <td>6</td>\n",
       "      <td>6.0</td>\n",
       "      <td>744000.0</td>\n",
       "      <td>8000000.0</td>\n",
       "      <td>8744000.0</td>\n",
       "      <td>2012</td>\n",
       "    </tr>\n",
       "    <tr>\n",
       "      <th>3</th>\n",
       "      <td>tt5647250</td>\n",
       "      <td>on the road</td>\n",
       "      <td>Drama</td>\n",
       "      <td>Drama</td>\n",
       "      <td>IFC</td>\n",
       "      <td>121.0</td>\n",
       "      <td>127</td>\n",
       "      <td>5.7</td>\n",
       "      <td>744000.0</td>\n",
       "      <td>8000000.0</td>\n",
       "      <td>8744000.0</td>\n",
       "      <td>2012</td>\n",
       "    </tr>\n",
       "    <tr>\n",
       "      <th>4</th>\n",
       "      <td>tt0359950</td>\n",
       "      <td>the secret life of walter mitty</td>\n",
       "      <td>Adventure,Comedy,Drama</td>\n",
       "      <td>Adventure</td>\n",
       "      <td>Fox</td>\n",
       "      <td>114.0</td>\n",
       "      <td>275300</td>\n",
       "      <td>7.3</td>\n",
       "      <td>58200000.0</td>\n",
       "      <td>129900000.0</td>\n",
       "      <td>188100000.0</td>\n",
       "      <td>2013</td>\n",
       "    </tr>\n",
       "  </tbody>\n",
       "</table>\n",
       "</div>"
      ],
      "text/plain": [
       "    movie_id                            title                   genres  \\\n",
       "0  tt0315642                            wazir       Action,Crime,Drama   \n",
       "1  tt0337692                      on the road  Adventure,Drama,Romance   \n",
       "2  tt4339118                      on the road                    Drama   \n",
       "3  tt5647250                      on the road                    Drama   \n",
       "4  tt0359950  the secret life of walter mitty   Adventure,Comedy,Drama   \n",
       "\n",
       "  primary_genre   studio  runtime_minutes  number_votes  rating  \\\n",
       "0        Action  Relbig.            103.0         15378     7.1   \n",
       "1     Adventure      IFC            124.0         37886     6.1   \n",
       "2         Drama      IFC             89.0             6     6.0   \n",
       "3         Drama      IFC            121.0           127     5.7   \n",
       "4     Adventure      Fox            114.0        275300     7.3   \n",
       "\n",
       "   domestic_gross  foreign_gross  total_revenue  year  \n",
       "0       1100000.0     18700000.0     19800000.0  2016  \n",
       "1        744000.0      8000000.0      8744000.0  2012  \n",
       "2        744000.0      8000000.0      8744000.0  2012  \n",
       "3        744000.0      8000000.0      8744000.0  2012  \n",
       "4      58200000.0    129900000.0    188100000.0  2013  "
      ]
     },
     "execution_count": 35,
     "metadata": {},
     "output_type": "execute_result"
    }
   ],
   "source": [
    "# made the columns of the table look more coherent\n",
    "\n",
    "cols_to_keep =['movie_id', 'title',  'genres', 'primary_genre','studio','runtime_minutes', 'number_votes',\n",
    "                'rating', 'domestic_gross', 'foreign_gross','total_revenue','year' ]\n",
    "\n",
    "# I chose to keep the most relevant and appropriate columns\n",
    "rate_gross = rate_gross.loc[:, cols_to_keep]\n",
    "rate_gross.head() "
   ]
  },
  {
   "cell_type": "markdown",
   "metadata": {},
   "source": [
    "#### 2. Merging movie_rate, movie_gross and movie_budget"
   ]
  },
  {
   "cell_type": "code",
   "execution_count": 36,
   "metadata": {
    "scrolled": false
   },
   "outputs": [
    {
     "data": {
      "text/html": [
       "<div>\n",
       "<style scoped>\n",
       "    .dataframe tbody tr th:only-of-type {\n",
       "        vertical-align: middle;\n",
       "    }\n",
       "\n",
       "    .dataframe tbody tr th {\n",
       "        vertical-align: top;\n",
       "    }\n",
       "\n",
       "    .dataframe thead th {\n",
       "        text-align: right;\n",
       "    }\n",
       "</style>\n",
       "<table border=\"1\" class=\"dataframe\">\n",
       "  <thead>\n",
       "    <tr style=\"text-align: right;\">\n",
       "      <th></th>\n",
       "      <th>movie_id</th>\n",
       "      <th>title</th>\n",
       "      <th>genres</th>\n",
       "      <th>primary_genre</th>\n",
       "      <th>studio</th>\n",
       "      <th>runtime_minutes</th>\n",
       "      <th>number_votes</th>\n",
       "      <th>rating</th>\n",
       "      <th>domestic_gross</th>\n",
       "      <th>foreign_gross</th>\n",
       "      <th>total_revenue</th>\n",
       "      <th>year</th>\n",
       "      <th>title_movie</th>\n",
       "      <th>production_budget</th>\n",
       "      <th>release_year</th>\n",
       "      <th>release_month</th>\n",
       "    </tr>\n",
       "  </thead>\n",
       "  <tbody>\n",
       "    <tr>\n",
       "      <th>0</th>\n",
       "      <td>tt0337692</td>\n",
       "      <td>on the road</td>\n",
       "      <td>Adventure,Drama,Romance</td>\n",
       "      <td>Adventure</td>\n",
       "      <td>IFC</td>\n",
       "      <td>124.0</td>\n",
       "      <td>37886</td>\n",
       "      <td>6.1</td>\n",
       "      <td>744000.0</td>\n",
       "      <td>8000000.0</td>\n",
       "      <td>8744000.0</td>\n",
       "      <td>2012</td>\n",
       "      <td>on the road</td>\n",
       "      <td>25000000</td>\n",
       "      <td>2013</td>\n",
       "      <td>3</td>\n",
       "    </tr>\n",
       "    <tr>\n",
       "      <th>1</th>\n",
       "      <td>tt4339118</td>\n",
       "      <td>on the road</td>\n",
       "      <td>Drama</td>\n",
       "      <td>Drama</td>\n",
       "      <td>IFC</td>\n",
       "      <td>89.0</td>\n",
       "      <td>6</td>\n",
       "      <td>6.0</td>\n",
       "      <td>744000.0</td>\n",
       "      <td>8000000.0</td>\n",
       "      <td>8744000.0</td>\n",
       "      <td>2012</td>\n",
       "      <td>on the road</td>\n",
       "      <td>25000000</td>\n",
       "      <td>2013</td>\n",
       "      <td>3</td>\n",
       "    </tr>\n",
       "    <tr>\n",
       "      <th>2</th>\n",
       "      <td>tt5647250</td>\n",
       "      <td>on the road</td>\n",
       "      <td>Drama</td>\n",
       "      <td>Drama</td>\n",
       "      <td>IFC</td>\n",
       "      <td>121.0</td>\n",
       "      <td>127</td>\n",
       "      <td>5.7</td>\n",
       "      <td>744000.0</td>\n",
       "      <td>8000000.0</td>\n",
       "      <td>8744000.0</td>\n",
       "      <td>2012</td>\n",
       "      <td>on the road</td>\n",
       "      <td>25000000</td>\n",
       "      <td>2013</td>\n",
       "      <td>3</td>\n",
       "    </tr>\n",
       "    <tr>\n",
       "      <th>3</th>\n",
       "      <td>tt0359950</td>\n",
       "      <td>the secret life of walter mitty</td>\n",
       "      <td>Adventure,Comedy,Drama</td>\n",
       "      <td>Adventure</td>\n",
       "      <td>Fox</td>\n",
       "      <td>114.0</td>\n",
       "      <td>275300</td>\n",
       "      <td>7.3</td>\n",
       "      <td>58200000.0</td>\n",
       "      <td>129900000.0</td>\n",
       "      <td>188100000.0</td>\n",
       "      <td>2013</td>\n",
       "      <td>the secret life of walter mitty</td>\n",
       "      <td>91000000</td>\n",
       "      <td>2013</td>\n",
       "      <td>12</td>\n",
       "    </tr>\n",
       "    <tr>\n",
       "      <th>4</th>\n",
       "      <td>tt0365907</td>\n",
       "      <td>a walk among the tombstones</td>\n",
       "      <td>Action,Crime,Drama</td>\n",
       "      <td>Action</td>\n",
       "      <td>Uni.</td>\n",
       "      <td>114.0</td>\n",
       "      <td>105116</td>\n",
       "      <td>6.5</td>\n",
       "      <td>26300000.0</td>\n",
       "      <td>26900000.0</td>\n",
       "      <td>53200000.0</td>\n",
       "      <td>2014</td>\n",
       "      <td>a walk among the tombstones</td>\n",
       "      <td>28000000</td>\n",
       "      <td>2014</td>\n",
       "      <td>9</td>\n",
       "    </tr>\n",
       "  </tbody>\n",
       "</table>\n",
       "</div>"
      ],
      "text/plain": [
       "    movie_id                            title                   genres  \\\n",
       "0  tt0337692                      on the road  Adventure,Drama,Romance   \n",
       "1  tt4339118                      on the road                    Drama   \n",
       "2  tt5647250                      on the road                    Drama   \n",
       "3  tt0359950  the secret life of walter mitty   Adventure,Comedy,Drama   \n",
       "4  tt0365907      a walk among the tombstones       Action,Crime,Drama   \n",
       "\n",
       "  primary_genre studio  runtime_minutes  number_votes  rating  domestic_gross  \\\n",
       "0     Adventure    IFC            124.0         37886     6.1        744000.0   \n",
       "1         Drama    IFC             89.0             6     6.0        744000.0   \n",
       "2         Drama    IFC            121.0           127     5.7        744000.0   \n",
       "3     Adventure    Fox            114.0        275300     7.3      58200000.0   \n",
       "4        Action   Uni.            114.0        105116     6.5      26300000.0   \n",
       "\n",
       "   foreign_gross  total_revenue  year                      title_movie  \\\n",
       "0      8000000.0      8744000.0  2012                      on the road   \n",
       "1      8000000.0      8744000.0  2012                      on the road   \n",
       "2      8000000.0      8744000.0  2012                      on the road   \n",
       "3    129900000.0    188100000.0  2013  the secret life of walter mitty   \n",
       "4     26900000.0     53200000.0  2014      a walk among the tombstones   \n",
       "\n",
       "   production_budget  release_year  release_month  \n",
       "0           25000000          2013              3  \n",
       "1           25000000          2013              3  \n",
       "2           25000000          2013              3  \n",
       "3           91000000          2013             12  \n",
       "4           28000000          2014              9  "
      ]
     },
     "execution_count": 36,
     "metadata": {},
     "output_type": "execute_result"
    }
   ],
   "source": [
    "# I Merge movie_rate, movie_gross and movie_budget together\n",
    "\n",
    "rate_gross_budget = pd.merge(rate_gross, movie_budget, how= 'inner', left_on = 'title', right_on = 'title_movie')\n",
    "rate_gross_budget.head()"
   ]
  },
  {
   "cell_type": "markdown",
   "metadata": {},
   "source": [
    "#### 3. Feature Engineering the rate_gross_budget"
   ]
  },
  {
   "cell_type": "code",
   "execution_count": 42,
   "metadata": {
    "scrolled": false
   },
   "outputs": [
    {
     "data": {
      "text/html": [
       "<div>\n",
       "<style scoped>\n",
       "    .dataframe tbody tr th:only-of-type {\n",
       "        vertical-align: middle;\n",
       "    }\n",
       "\n",
       "    .dataframe tbody tr th {\n",
       "        vertical-align: top;\n",
       "    }\n",
       "\n",
       "    .dataframe thead th {\n",
       "        text-align: right;\n",
       "    }\n",
       "</style>\n",
       "<table border=\"1\" class=\"dataframe\">\n",
       "  <thead>\n",
       "    <tr style=\"text-align: right;\">\n",
       "      <th></th>\n",
       "      <th>movie_id</th>\n",
       "      <th>title</th>\n",
       "      <th>genres</th>\n",
       "      <th>primary_genre</th>\n",
       "      <th>studio</th>\n",
       "      <th>runtime_minutes</th>\n",
       "      <th>number_votes</th>\n",
       "      <th>rating</th>\n",
       "      <th>domestic_gross</th>\n",
       "      <th>foreign_gross</th>\n",
       "      <th>total_revenue</th>\n",
       "      <th>year</th>\n",
       "      <th>title_movie</th>\n",
       "      <th>production_budget</th>\n",
       "      <th>release_year</th>\n",
       "      <th>release_month</th>\n",
       "      <th>total_profit</th>\n",
       "      <th>profit_rate</th>\n",
       "    </tr>\n",
       "  </thead>\n",
       "  <tbody>\n",
       "    <tr>\n",
       "      <th>0</th>\n",
       "      <td>tt0337692</td>\n",
       "      <td>on the road</td>\n",
       "      <td>Adventure,Drama,Romance</td>\n",
       "      <td>Adventure</td>\n",
       "      <td>IFC</td>\n",
       "      <td>124.0</td>\n",
       "      <td>37886</td>\n",
       "      <td>6.1</td>\n",
       "      <td>744000.0</td>\n",
       "      <td>8000000.0</td>\n",
       "      <td>8744000.0</td>\n",
       "      <td>2012</td>\n",
       "      <td>on the road</td>\n",
       "      <td>25000000</td>\n",
       "      <td>2013</td>\n",
       "      <td>3</td>\n",
       "      <td>-16256000.0</td>\n",
       "      <td>-1.86</td>\n",
       "    </tr>\n",
       "    <tr>\n",
       "      <th>1</th>\n",
       "      <td>tt4339118</td>\n",
       "      <td>on the road</td>\n",
       "      <td>Drama</td>\n",
       "      <td>Drama</td>\n",
       "      <td>IFC</td>\n",
       "      <td>89.0</td>\n",
       "      <td>6</td>\n",
       "      <td>6.0</td>\n",
       "      <td>744000.0</td>\n",
       "      <td>8000000.0</td>\n",
       "      <td>8744000.0</td>\n",
       "      <td>2012</td>\n",
       "      <td>on the road</td>\n",
       "      <td>25000000</td>\n",
       "      <td>2013</td>\n",
       "      <td>3</td>\n",
       "      <td>-16256000.0</td>\n",
       "      <td>-1.86</td>\n",
       "    </tr>\n",
       "    <tr>\n",
       "      <th>2</th>\n",
       "      <td>tt5647250</td>\n",
       "      <td>on the road</td>\n",
       "      <td>Drama</td>\n",
       "      <td>Drama</td>\n",
       "      <td>IFC</td>\n",
       "      <td>121.0</td>\n",
       "      <td>127</td>\n",
       "      <td>5.7</td>\n",
       "      <td>744000.0</td>\n",
       "      <td>8000000.0</td>\n",
       "      <td>8744000.0</td>\n",
       "      <td>2012</td>\n",
       "      <td>on the road</td>\n",
       "      <td>25000000</td>\n",
       "      <td>2013</td>\n",
       "      <td>3</td>\n",
       "      <td>-16256000.0</td>\n",
       "      <td>-1.86</td>\n",
       "    </tr>\n",
       "    <tr>\n",
       "      <th>3</th>\n",
       "      <td>tt0359950</td>\n",
       "      <td>the secret life of walter mitty</td>\n",
       "      <td>Adventure,Comedy,Drama</td>\n",
       "      <td>Adventure</td>\n",
       "      <td>Fox</td>\n",
       "      <td>114.0</td>\n",
       "      <td>275300</td>\n",
       "      <td>7.3</td>\n",
       "      <td>58200000.0</td>\n",
       "      <td>129900000.0</td>\n",
       "      <td>188100000.0</td>\n",
       "      <td>2013</td>\n",
       "      <td>the secret life of walter mitty</td>\n",
       "      <td>91000000</td>\n",
       "      <td>2013</td>\n",
       "      <td>12</td>\n",
       "      <td>97100000.0</td>\n",
       "      <td>0.52</td>\n",
       "    </tr>\n",
       "    <tr>\n",
       "      <th>4</th>\n",
       "      <td>tt0365907</td>\n",
       "      <td>a walk among the tombstones</td>\n",
       "      <td>Action,Crime,Drama</td>\n",
       "      <td>Action</td>\n",
       "      <td>Uni.</td>\n",
       "      <td>114.0</td>\n",
       "      <td>105116</td>\n",
       "      <td>6.5</td>\n",
       "      <td>26300000.0</td>\n",
       "      <td>26900000.0</td>\n",
       "      <td>53200000.0</td>\n",
       "      <td>2014</td>\n",
       "      <td>a walk among the tombstones</td>\n",
       "      <td>28000000</td>\n",
       "      <td>2014</td>\n",
       "      <td>9</td>\n",
       "      <td>25200000.0</td>\n",
       "      <td>0.47</td>\n",
       "    </tr>\n",
       "  </tbody>\n",
       "</table>\n",
       "</div>"
      ],
      "text/plain": [
       "    movie_id                            title                   genres  \\\n",
       "0  tt0337692                      on the road  Adventure,Drama,Romance   \n",
       "1  tt4339118                      on the road                    Drama   \n",
       "2  tt5647250                      on the road                    Drama   \n",
       "3  tt0359950  the secret life of walter mitty   Adventure,Comedy,Drama   \n",
       "4  tt0365907      a walk among the tombstones       Action,Crime,Drama   \n",
       "\n",
       "  primary_genre studio  runtime_minutes  number_votes  rating  domestic_gross  \\\n",
       "0     Adventure    IFC            124.0         37886     6.1        744000.0   \n",
       "1         Drama    IFC             89.0             6     6.0        744000.0   \n",
       "2         Drama    IFC            121.0           127     5.7        744000.0   \n",
       "3     Adventure    Fox            114.0        275300     7.3      58200000.0   \n",
       "4        Action   Uni.            114.0        105116     6.5      26300000.0   \n",
       "\n",
       "   foreign_gross  total_revenue  year                      title_movie  \\\n",
       "0      8000000.0      8744000.0  2012                      on the road   \n",
       "1      8000000.0      8744000.0  2012                      on the road   \n",
       "2      8000000.0      8744000.0  2012                      on the road   \n",
       "3    129900000.0    188100000.0  2013  the secret life of walter mitty   \n",
       "4     26900000.0     53200000.0  2014      a walk among the tombstones   \n",
       "\n",
       "   production_budget  release_year  release_month  total_profit  profit_rate  \n",
       "0           25000000          2013              3   -16256000.0        -1.86  \n",
       "1           25000000          2013              3   -16256000.0        -1.86  \n",
       "2           25000000          2013              3   -16256000.0        -1.86  \n",
       "3           91000000          2013             12    97100000.0         0.52  \n",
       "4           28000000          2014              9    25200000.0         0.47  "
      ]
     },
     "execution_count": 42,
     "metadata": {},
     "output_type": "execute_result"
    }
   ],
   "source": [
    "# Step 1: Create total_revenue = domestic_gross + worldwide_gross\n",
    "\n",
    "# Step 2: Compute profit = total_revenue - production_budget\n",
    "rate_gross_budget['total_profit'] = rate_gross_budget['total_revenue'] - rate_gross_budget['production_budget']\n",
    "\n",
    "# Step 3: Compute profit_rate = profit / total_revenue\n",
    "# Avoid division by zero using np.where\n",
    "rate_gross_budget['profit_rate'] = np.where(\n",
    "   rate_gross_budget['total_revenue'] != 0,\n",
    "    round(rate_gross_budget['total_profit'] /rate_gross_budget['total_revenue'], 2) ,\n",
    "    0  # or 0 if you prefer \n",
    ")\n",
    "\n",
    "rate_gross_budget.head()"
   ]
  },
  {
   "cell_type": "code",
   "execution_count": 44,
   "metadata": {},
   "outputs": [
    {
     "data": {
      "text/plain": [
       "(1482, 18)"
      ]
     },
     "execution_count": 44,
     "metadata": {},
     "output_type": "execute_result"
    }
   ],
   "source": [
    "# The shape of the DataBase\n",
    "rate_gross_budget.shape"
   ]
  },
  {
   "cell_type": "code",
   "execution_count": 43,
   "metadata": {},
   "outputs": [
    {
     "data": {
      "text/html": [
       "<div>\n",
       "<style scoped>\n",
       "    .dataframe tbody tr th:only-of-type {\n",
       "        vertical-align: middle;\n",
       "    }\n",
       "\n",
       "    .dataframe tbody tr th {\n",
       "        vertical-align: top;\n",
       "    }\n",
       "\n",
       "    .dataframe thead th {\n",
       "        text-align: right;\n",
       "    }\n",
       "</style>\n",
       "<table border=\"1\" class=\"dataframe\">\n",
       "  <thead>\n",
       "    <tr style=\"text-align: right;\">\n",
       "      <th></th>\n",
       "      <th>movie_id</th>\n",
       "      <th>title</th>\n",
       "      <th>primary_genre</th>\n",
       "      <th>studio</th>\n",
       "      <th>runtime_minutes</th>\n",
       "      <th>number_votes</th>\n",
       "      <th>rating</th>\n",
       "      <th>production_budget</th>\n",
       "      <th>domestic_gross</th>\n",
       "      <th>foreign_gross</th>\n",
       "      <th>total_revenue</th>\n",
       "      <th>total_profit</th>\n",
       "      <th>profit_rate</th>\n",
       "      <th>year</th>\n",
       "      <th>release_year</th>\n",
       "      <th>release_month</th>\n",
       "    </tr>\n",
       "  </thead>\n",
       "  <tbody>\n",
       "    <tr>\n",
       "      <th>0</th>\n",
       "      <td>tt0337692</td>\n",
       "      <td>on the road</td>\n",
       "      <td>Adventure</td>\n",
       "      <td>IFC</td>\n",
       "      <td>124.0</td>\n",
       "      <td>37886</td>\n",
       "      <td>6.1</td>\n",
       "      <td>25000000</td>\n",
       "      <td>744000.0</td>\n",
       "      <td>8000000.0</td>\n",
       "      <td>8744000.0</td>\n",
       "      <td>-16256000.0</td>\n",
       "      <td>-1.86</td>\n",
       "      <td>2012</td>\n",
       "      <td>2013</td>\n",
       "      <td>3</td>\n",
       "    </tr>\n",
       "    <tr>\n",
       "      <th>1</th>\n",
       "      <td>tt4339118</td>\n",
       "      <td>on the road</td>\n",
       "      <td>Drama</td>\n",
       "      <td>IFC</td>\n",
       "      <td>89.0</td>\n",
       "      <td>6</td>\n",
       "      <td>6.0</td>\n",
       "      <td>25000000</td>\n",
       "      <td>744000.0</td>\n",
       "      <td>8000000.0</td>\n",
       "      <td>8744000.0</td>\n",
       "      <td>-16256000.0</td>\n",
       "      <td>-1.86</td>\n",
       "      <td>2012</td>\n",
       "      <td>2013</td>\n",
       "      <td>3</td>\n",
       "    </tr>\n",
       "    <tr>\n",
       "      <th>2</th>\n",
       "      <td>tt5647250</td>\n",
       "      <td>on the road</td>\n",
       "      <td>Drama</td>\n",
       "      <td>IFC</td>\n",
       "      <td>121.0</td>\n",
       "      <td>127</td>\n",
       "      <td>5.7</td>\n",
       "      <td>25000000</td>\n",
       "      <td>744000.0</td>\n",
       "      <td>8000000.0</td>\n",
       "      <td>8744000.0</td>\n",
       "      <td>-16256000.0</td>\n",
       "      <td>-1.86</td>\n",
       "      <td>2012</td>\n",
       "      <td>2013</td>\n",
       "      <td>3</td>\n",
       "    </tr>\n",
       "    <tr>\n",
       "      <th>3</th>\n",
       "      <td>tt0359950</td>\n",
       "      <td>the secret life of walter mitty</td>\n",
       "      <td>Adventure</td>\n",
       "      <td>Fox</td>\n",
       "      <td>114.0</td>\n",
       "      <td>275300</td>\n",
       "      <td>7.3</td>\n",
       "      <td>91000000</td>\n",
       "      <td>58200000.0</td>\n",
       "      <td>129900000.0</td>\n",
       "      <td>188100000.0</td>\n",
       "      <td>97100000.0</td>\n",
       "      <td>0.52</td>\n",
       "      <td>2013</td>\n",
       "      <td>2013</td>\n",
       "      <td>12</td>\n",
       "    </tr>\n",
       "    <tr>\n",
       "      <th>4</th>\n",
       "      <td>tt0365907</td>\n",
       "      <td>a walk among the tombstones</td>\n",
       "      <td>Action</td>\n",
       "      <td>Uni.</td>\n",
       "      <td>114.0</td>\n",
       "      <td>105116</td>\n",
       "      <td>6.5</td>\n",
       "      <td>28000000</td>\n",
       "      <td>26300000.0</td>\n",
       "      <td>26900000.0</td>\n",
       "      <td>53200000.0</td>\n",
       "      <td>25200000.0</td>\n",
       "      <td>0.47</td>\n",
       "      <td>2014</td>\n",
       "      <td>2014</td>\n",
       "      <td>9</td>\n",
       "    </tr>\n",
       "  </tbody>\n",
       "</table>\n",
       "</div>"
      ],
      "text/plain": [
       "    movie_id                            title primary_genre studio  \\\n",
       "0  tt0337692                      on the road     Adventure    IFC   \n",
       "1  tt4339118                      on the road         Drama    IFC   \n",
       "2  tt5647250                      on the road         Drama    IFC   \n",
       "3  tt0359950  the secret life of walter mitty     Adventure    Fox   \n",
       "4  tt0365907      a walk among the tombstones        Action   Uni.   \n",
       "\n",
       "   runtime_minutes  number_votes  rating  production_budget  domestic_gross  \\\n",
       "0            124.0         37886     6.1           25000000        744000.0   \n",
       "1             89.0             6     6.0           25000000        744000.0   \n",
       "2            121.0           127     5.7           25000000        744000.0   \n",
       "3            114.0        275300     7.3           91000000      58200000.0   \n",
       "4            114.0        105116     6.5           28000000      26300000.0   \n",
       "\n",
       "   foreign_gross  total_revenue  total_profit  profit_rate  year  \\\n",
       "0      8000000.0      8744000.0   -16256000.0        -1.86  2012   \n",
       "1      8000000.0      8744000.0   -16256000.0        -1.86  2012   \n",
       "2      8000000.0      8744000.0   -16256000.0        -1.86  2012   \n",
       "3    129900000.0    188100000.0    97100000.0         0.52  2013   \n",
       "4     26900000.0     53200000.0    25200000.0         0.47  2014   \n",
       "\n",
       "   release_year  release_month  \n",
       "0          2013              3  \n",
       "1          2013              3  \n",
       "2          2013              3  \n",
       "3          2013             12  \n",
       "4          2014              9  "
      ]
     },
     "execution_count": 43,
     "metadata": {},
     "output_type": "execute_result"
    }
   ],
   "source": [
    "# I only considere the most relevant columns from my rate_gross_budget table to make the analysis\n",
    "\n",
    "Relevant_cols = ['movie_id', 'title', 'primary_genre','studio','runtime_minutes','number_votes','rating',\n",
    "                 'production_budget', 'domestic_gross', 'foreign_gross', 'total_revenue','total_profit', \n",
    "                 'profit_rate','year','release_year','release_month']\n",
    "\n",
    "# We can see that, the rate_gross_budget only contains relevant columns above\n",
    "rate_gross_budget = rate_gross_budget.loc[:, Relevant_cols]\n",
    "rate_gross_budget.head()"
   ]
  },
  {
   "cell_type": "markdown",
   "metadata": {},
   "source": [
    "Above We prepared our Data for analysis by following rigous steps and methods.  \n",
    "As our Datasets are Realy Cleaned and well Prepared, now we can move on the steps of **Analysis and Results**"
   ]
  },
  {
   "cell_type": "markdown",
   "metadata": {},
   "source": [
    "## Analysis and Results"
   ]
  },
  {
   "cell_type": "markdown",
   "metadata": {},
   "source": [
    "In this meaningful section we are going to analyse our prepared Data to :  \n",
    "Reveal precious insights for the company's head\n",
    "Find hiden trend behind the movies at the Box office.  \n",
    "Thus, to achieve this significant step I have done The :\n",
    "### 1. Descriptive Analysis   \n",
    "- To see and examine what actually happened  \n",
    "\n",
    "### 2. Diagnostic Analysis \n",
    "- Whhy did things happenend like that  \n"
   ]
  },
  {
   "cell_type": "markdown",
   "metadata": {},
   "source": [
    "### 1. Descriptive Analysis\n",
    "In this step of analysis I retrieve and anlyse what actully happened concernings movie at the Box office.  \n",
    "Thus, I use Descriptive statistics to analyse the Datasets and show what it really was about.\n",
    "Throughout this step of analysis, great feature of SQL are used to achieve this step.  \n",
    "\n",
    "We leverage the `sqldf` Packages to query the `DataFrames` in order to reaveal hiden informations on table format.  \n",
    "Moreover we used great features of `Matplotlib` and `Seaborn` to retrieve insights through visualisation."
   ]
  },
  {
   "cell_type": "code",
   "execution_count": 44,
   "metadata": {},
   "outputs": [],
   "source": [
    "# I used Sqldf to querying my Dataframes with SQL\n",
    "pysqldf = lambda q : sqldf(q, globals()) "
   ]
  },
  {
   "cell_type": "markdown",
   "metadata": {},
   "source": [
    "## Analysing genres"
   ]
  },
  {
   "cell_type": "markdown",
   "metadata": {},
   "source": [
    "\n",
    "\n",
    "### Top 10 most repeated primary genre of movies.\n",
    "\n",
    "Bellow we can see the Top 10 most repeated primary genre of movies at the Box Offices.\n",
    "With a Dominance of **ACTION and DRAMA**. We can Observe that Primary genres of 409 movies are actions, whereas the tenth most repeated primary genre of movies is **ANIMATION.**\n",
    "\n",
    "So far, the head of your company's new movie studio can start to think that most genres of movies that he will be creating, would probably be action and Drama. \n"
   ]
  },
  {
   "cell_type": "code",
   "execution_count": 45,
   "metadata": {
    "scrolled": true
   },
   "outputs": [
    {
     "data": {
      "text/html": [
       "<div>\n",
       "<style scoped>\n",
       "    .dataframe tbody tr th:only-of-type {\n",
       "        vertical-align: middle;\n",
       "    }\n",
       "\n",
       "    .dataframe tbody tr th {\n",
       "        vertical-align: top;\n",
       "    }\n",
       "\n",
       "    .dataframe thead th {\n",
       "        text-align: right;\n",
       "    }\n",
       "</style>\n",
       "<table border=\"1\" class=\"dataframe\">\n",
       "  <thead>\n",
       "    <tr style=\"text-align: right;\">\n",
       "      <th></th>\n",
       "      <th>primary_genre</th>\n",
       "      <th>total_movie</th>\n",
       "    </tr>\n",
       "  </thead>\n",
       "  <tbody>\n",
       "    <tr>\n",
       "      <th>0</th>\n",
       "      <td>Action</td>\n",
       "      <td>409</td>\n",
       "    </tr>\n",
       "    <tr>\n",
       "      <th>1</th>\n",
       "      <td>Drama</td>\n",
       "      <td>302</td>\n",
       "    </tr>\n",
       "    <tr>\n",
       "      <th>2</th>\n",
       "      <td>Comedy</td>\n",
       "      <td>272</td>\n",
       "    </tr>\n",
       "    <tr>\n",
       "      <th>3</th>\n",
       "      <td>Adventure</td>\n",
       "      <td>145</td>\n",
       "    </tr>\n",
       "    <tr>\n",
       "      <th>4</th>\n",
       "      <td>Biography</td>\n",
       "      <td>113</td>\n",
       "    </tr>\n",
       "    <tr>\n",
       "      <th>5</th>\n",
       "      <td>Horror</td>\n",
       "      <td>80</td>\n",
       "    </tr>\n",
       "    <tr>\n",
       "      <th>6</th>\n",
       "      <td>Crime</td>\n",
       "      <td>74</td>\n",
       "    </tr>\n",
       "    <tr>\n",
       "      <th>7</th>\n",
       "      <td>Documentary</td>\n",
       "      <td>47</td>\n",
       "    </tr>\n",
       "    <tr>\n",
       "      <th>8</th>\n",
       "      <td>Thriller</td>\n",
       "      <td>13</td>\n",
       "    </tr>\n",
       "    <tr>\n",
       "      <th>9</th>\n",
       "      <td>Animation</td>\n",
       "      <td>9</td>\n",
       "    </tr>\n",
       "  </tbody>\n",
       "</table>\n",
       "</div>"
      ],
      "text/plain": [
       "  primary_genre  total_movie\n",
       "0        Action          409\n",
       "1         Drama          302\n",
       "2        Comedy          272\n",
       "3     Adventure          145\n",
       "4     Biography          113\n",
       "5        Horror           80\n",
       "6         Crime           74\n",
       "7   Documentary           47\n",
       "8      Thriller           13\n",
       "9     Animation            9"
      ]
     },
     "execution_count": 45,
     "metadata": {},
     "output_type": "execute_result"
    }
   ],
   "source": [
    "# Top 10 most repeated primary genre of movies.\n",
    "q1 = \"\"\" SELECT primary_genre, count(movie_id) as total_movie\n",
    "        FROM rate_gross_budget\n",
    "        GROUP BY primary_genre\n",
    "        ORDER BY total_movie DESC\n",
    "        LImit 10; \"\"\"\n",
    "\n",
    "top_10_genres_movie = pysqldf(q1)\n",
    "top_10_genres_movie"
   ]
  },
  {
   "cell_type": "markdown",
   "metadata": {},
   "source": [
    "### Top 10 of the most primary genre of movies with highest profit rate\n",
    "\n",
    "Although most movies' genres are ACTION and DRAMA, But they are not the genres with highest profit rate in average.  \n",
    "The graph bellow show the top 10 genres of movies that generate the highest profit rate in average.  **SCI-FI and MYSTERY** genres brings a highest mean of profit rate with a rate 0f 80%  about. Whereas **ACTION** brings only about a profit rate of 30% about."
   ]
  },
  {
   "cell_type": "code",
   "execution_count": 47,
   "metadata": {},
   "outputs": [
    {
     "data": {
      "image/png": "[encoded data removed]",
      "text/plain": [
       "<Figure size 720x432 with 1 Axes>"
      ]
     },
     "metadata": {
      "needs_background": "light"
     },
     "output_type": "display_data"
    }
   ],
   "source": [
    "# Calculate mean profit by primary genre\n",
    "genre_profit_rate = (\n",
    "    rate_gross_budget.groupby('primary_genre')['profit_rate']\n",
    "    .mean()\n",
    "    .sort_values(ascending=False)\n",
    "    .head(10)\n",
    "    .reset_index()\n",
    ")\n",
    "\n",
    "plt.figure(figsize=(10,6))\n",
    "sns.barplot(data=genre_profit_rate, y='primary_genre', x='profit_rate', palette='Blues_d')\n",
    "plt.title('Top 10 Primary Genres by Mean Profit Rate', fontsize=16)\n",
    "plt.xlabel('Mean Profit Rate', fontsize=12)\n",
    "plt.ylabel('Primary Genre', fontsize=12)\n",
    "plt.tight_layout()\n",
    "plt.show()\n"
   ]
  },
  {
   "cell_type": "markdown",
   "metadata": {},
   "source": [
    "### Top 10 genres of movies with highest ratings by audiances.  \n",
    "\n",
    "We can observe that, **SPORT and Mystery ** represent the genre that is most loved by audiances or spectators, with a mean rating of 79% and 75% resoectively.  whereas, **DRAMA and ADVANTURE** represent the nineth and tenth genres with highest rating.\n",
    "\n",
    "That can be understood, because almost everyone loves sport, this can explain why sport ranks first in this case. We should neglect also that, among the top 10, the mean rating of each other is so close. "
   ]
  },
  {
   "cell_type": "code",
   "execution_count": 49,
   "metadata": {},
   "outputs": [
    {
     "data": {
      "text/html": [
       "<div>\n",
       "<style scoped>\n",
       "    .dataframe tbody tr th:only-of-type {\n",
       "        vertical-align: middle;\n",
       "    }\n",
       "\n",
       "    .dataframe tbody tr th {\n",
       "        vertical-align: top;\n",
       "    }\n",
       "\n",
       "    .dataframe thead th {\n",
       "        text-align: right;\n",
       "    }\n",
       "</style>\n",
       "<table border=\"1\" class=\"dataframe\">\n",
       "  <thead>\n",
       "    <tr style=\"text-align: right;\">\n",
       "      <th></th>\n",
       "      <th>primary_genre</th>\n",
       "      <th>mean_rating</th>\n",
       "    </tr>\n",
       "  </thead>\n",
       "  <tbody>\n",
       "    <tr>\n",
       "      <th>0</th>\n",
       "      <td>Sport</td>\n",
       "      <td>7.90</td>\n",
       "    </tr>\n",
       "    <tr>\n",
       "      <th>1</th>\n",
       "      <td>Mystery</td>\n",
       "      <td>7.50</td>\n",
       "    </tr>\n",
       "    <tr>\n",
       "      <th>2</th>\n",
       "      <td>Music</td>\n",
       "      <td>7.20</td>\n",
       "    </tr>\n",
       "    <tr>\n",
       "      <th>3</th>\n",
       "      <td>Romance</td>\n",
       "      <td>7.10</td>\n",
       "    </tr>\n",
       "    <tr>\n",
       "      <th>4</th>\n",
       "      <td>Animation</td>\n",
       "      <td>7.03</td>\n",
       "    </tr>\n",
       "    <tr>\n",
       "      <th>5</th>\n",
       "      <td>Biography</td>\n",
       "      <td>6.97</td>\n",
       "    </tr>\n",
       "    <tr>\n",
       "      <th>6</th>\n",
       "      <td>Documentary</td>\n",
       "      <td>6.94</td>\n",
       "    </tr>\n",
       "    <tr>\n",
       "      <th>7</th>\n",
       "      <td>Crime</td>\n",
       "      <td>6.61</td>\n",
       "    </tr>\n",
       "    <tr>\n",
       "      <th>8</th>\n",
       "      <td>Drama</td>\n",
       "      <td>6.56</td>\n",
       "    </tr>\n",
       "    <tr>\n",
       "      <th>9</th>\n",
       "      <td>Adventure</td>\n",
       "      <td>6.50</td>\n",
       "    </tr>\n",
       "  </tbody>\n",
       "</table>\n",
       "</div>"
      ],
      "text/plain": [
       "  primary_genre  mean_rating\n",
       "0         Sport         7.90\n",
       "1       Mystery         7.50\n",
       "2         Music         7.20\n",
       "3       Romance         7.10\n",
       "4     Animation         7.03\n",
       "5     Biography         6.97\n",
       "6   Documentary         6.94\n",
       "7         Crime         6.61\n",
       "8         Drama         6.56\n",
       "9     Adventure         6.50"
      ]
     },
     "execution_count": 49,
     "metadata": {},
     "output_type": "execute_result"
    }
   ],
   "source": [
    "# Top 10 most repeated primary genre of movies.\n",
    "q2 = \"\"\" SELECT primary_genre, round(Avg(rating), 2) as mean_rating\n",
    "        FROM rate_gross_budget\n",
    "        GROUP BY primary_genre\n",
    "        ORDER BY  mean_rating DESC\n",
    "        LImit 10; \"\"\"\n",
    "\n",
    "top_10_genres_movie = pysqldf(q2)\n",
    "top_10_genres_movie"
   ]
  },
  {
   "cell_type": "markdown",
   "metadata": {},
   "source": [
    "### The Studio variable(columns)"
   ]
  },
  {
   "cell_type": "markdown",
   "metadata": {},
   "source": [
    "### Top 10 studio that has created the most movies\n",
    "\n",
    "Below, we observe that most of the movies are created by **Uni.** studio, with a total **156 movies created**, after becomes the **Fox** studio. Howerver, at the bottom of the top 10, there are Focus studio with 51 movies created.\n",
    "\n",
    "We extract these meaningfull information, so that the head of the new company's movie studio should really know the ones who are currently ruling this sector. Besides, We already observe that what kinds of opponents our studio will face up to.\n"
   ]
  },
  {
   "cell_type": "code",
   "execution_count": 92,
   "metadata": {
    "scrolled": true
   },
   "outputs": [
    {
     "data": {
      "text/html": [
       "<div>\n",
       "<style scoped>\n",
       "    .dataframe tbody tr th:only-of-type {\n",
       "        vertical-align: middle;\n",
       "    }\n",
       "\n",
       "    .dataframe tbody tr th {\n",
       "        vertical-align: top;\n",
       "    }\n",
       "\n",
       "    .dataframe thead th {\n",
       "        text-align: right;\n",
       "    }\n",
       "</style>\n",
       "<table border=\"1\" class=\"dataframe\">\n",
       "  <thead>\n",
       "    <tr style=\"text-align: right;\">\n",
       "      <th></th>\n",
       "      <th>studio</th>\n",
       "      <th>total_movie</th>\n",
       "    </tr>\n",
       "  </thead>\n",
       "  <tbody>\n",
       "    <tr>\n",
       "      <th>0</th>\n",
       "      <td>Uni.</td>\n",
       "      <td>156</td>\n",
       "    </tr>\n",
       "    <tr>\n",
       "      <th>1</th>\n",
       "      <td>Fox</td>\n",
       "      <td>130</td>\n",
       "    </tr>\n",
       "    <tr>\n",
       "      <th>2</th>\n",
       "      <td>WB</td>\n",
       "      <td>119</td>\n",
       "    </tr>\n",
       "    <tr>\n",
       "      <th>3</th>\n",
       "      <td>Par.</td>\n",
       "      <td>87</td>\n",
       "    </tr>\n",
       "    <tr>\n",
       "      <th>4</th>\n",
       "      <td>BV</td>\n",
       "      <td>86</td>\n",
       "    </tr>\n",
       "    <tr>\n",
       "      <th>5</th>\n",
       "      <td>Sony</td>\n",
       "      <td>81</td>\n",
       "    </tr>\n",
       "    <tr>\n",
       "      <th>6</th>\n",
       "      <td>LGF</td>\n",
       "      <td>69</td>\n",
       "    </tr>\n",
       "    <tr>\n",
       "      <th>7</th>\n",
       "      <td>FoxS</td>\n",
       "      <td>64</td>\n",
       "    </tr>\n",
       "    <tr>\n",
       "      <th>8</th>\n",
       "      <td>WB (NL)</td>\n",
       "      <td>51</td>\n",
       "    </tr>\n",
       "    <tr>\n",
       "      <th>9</th>\n",
       "      <td>Focus</td>\n",
       "      <td>51</td>\n",
       "    </tr>\n",
       "  </tbody>\n",
       "</table>\n",
       "</div>"
      ],
      "text/plain": [
       "    studio  total_movie\n",
       "0     Uni.          156\n",
       "1      Fox          130\n",
       "2       WB          119\n",
       "3     Par.           87\n",
       "4       BV           86\n",
       "5     Sony           81\n",
       "6      LGF           69\n",
       "7     FoxS           64\n",
       "8  WB (NL)           51\n",
       "9    Focus           51"
      ]
     },
     "execution_count": 92,
     "metadata": {},
     "output_type": "execute_result"
    }
   ],
   "source": [
    "# Top 10 of The most popular movie studio\n",
    "\n",
    "q3 = \"\"\" SELECT studio, count('movie_id') as total_movie\n",
    "        FROM rate_gross_budget\n",
    "        GROUP BY studio\n",
    "        ORDER BY  total_movie DESC\n",
    "        LImit 10; \"\"\"\n",
    "\n",
    "top_10_genres_movie = pysqldf(q3)\n",
    "top_10_genres_movie"
   ]
  },
  {
   "cell_type": "markdown",
   "metadata": {},
   "source": [
    "### Top 10 studio that generate the highest profit in total\n",
    "\n",
    "To go deeper, bellow we visuliaze the studios that earned the highest profit in total. And, as we can see the top 3 of studios, **BV, Uni. and Fox**,  that has created the most movies, earned the highest profit over the movies they created.  \n",
    "\n",
    "\n",
    "Consequently, those movies studios represents real opponents that our movie Studio will encounter in the Future."
   ]
  },
  {
   "cell_type": "code",
   "execution_count": 67,
   "metadata": {},
   "outputs": [
    {
     "data": {
      "image/png": "[encoded data removed]",
      "text/plain": [
       "<Figure size 720x432 with 1 Axes>"
      ]
     },
     "metadata": {
      "needs_background": "light"
     },
     "output_type": "display_data"
    }
   ],
   "source": [
    "# Group by studio, then sum profit and sort\n",
    "studio_profit = (\n",
    "    rate_gross_budget.groupby('studio')['total_profit']\n",
    "    .sum()\n",
    "    .sort_values(ascending=False)\n",
    "    .head(10)\n",
    "    .reset_index()\n",
    ")\n",
    "\n",
    "# Plot: horizontal bar chart\n",
    "plt.figure(figsize=(10,6))\n",
    "sns.barplot(data=studio_profit, y='studio', x='total_profit', palette='Reds_d' )\n",
    "plt.title('Top 10 Studios by Total Profit (Sum)', fontsize=16)\n",
    "plt.xlabel('Total Profit ($)', fontsize=12)\n",
    "plt.ylabel('Studio', fontsize=12)\n",
    "plt.tight_layout()\n",
    "plt.show()\n",
    " #  'viridis'"
   ]
  },
  {
   "cell_type": "markdown",
   "metadata": {},
   "source": [
    "### The movie columns"
   ]
  },
  {
   "cell_type": "markdown",
   "metadata": {},
   "source": [
    "Below we try to analyse some distinct movies. And we can observe that, about three movies genereted a profit of 100 %. Moreover, each movie of there more than 20 movies that generated a profit over 97 %. "
   ]
  },
  {
   "cell_type": "code",
   "execution_count": 52,
   "metadata": {
    "scrolled": true
   },
   "outputs": [
    {
     "data": {
      "text/html": [
       "<div>\n",
       "<style scoped>\n",
       "    .dataframe tbody tr th:only-of-type {\n",
       "        vertical-align: middle;\n",
       "    }\n",
       "\n",
       "    .dataframe tbody tr th {\n",
       "        vertical-align: top;\n",
       "    }\n",
       "\n",
       "    .dataframe thead th {\n",
       "        text-align: right;\n",
       "    }\n",
       "</style>\n",
       "<table border=\"1\" class=\"dataframe\">\n",
       "  <thead>\n",
       "    <tr style=\"text-align: right;\">\n",
       "      <th></th>\n",
       "      <th>title</th>\n",
       "      <th>profit_rate</th>\n",
       "      <th>total_profit</th>\n",
       "      <th>primary_genre</th>\n",
       "      <th>rating</th>\n",
       "      <th>year</th>\n",
       "    </tr>\n",
       "  </thead>\n",
       "  <tbody>\n",
       "    <tr>\n",
       "      <th>0</th>\n",
       "      <td>tiny furniture</td>\n",
       "      <td>1.00</td>\n",
       "      <td>19042000.0</td>\n",
       "      <td>Comedy</td>\n",
       "      <td>6.2</td>\n",
       "      <td>2010</td>\n",
       "    </tr>\n",
       "    <tr>\n",
       "      <th>1</th>\n",
       "      <td>the gallows</td>\n",
       "      <td>1.00</td>\n",
       "      <td>42900000.0</td>\n",
       "      <td>Horror</td>\n",
       "      <td>4.2</td>\n",
       "      <td>2015</td>\n",
       "    </tr>\n",
       "    <tr>\n",
       "      <th>2</th>\n",
       "      <td>a ghost story</td>\n",
       "      <td>1.00</td>\n",
       "      <td>20200000.0</td>\n",
       "      <td>Drama</td>\n",
       "      <td>6.8</td>\n",
       "      <td>2017</td>\n",
       "    </tr>\n",
       "    <tr>\n",
       "      <th>3</th>\n",
       "      <td>snitch</td>\n",
       "      <td>0.99</td>\n",
       "      <td>60750000.0</td>\n",
       "      <td>Action</td>\n",
       "      <td>6.5</td>\n",
       "      <td>2013</td>\n",
       "    </tr>\n",
       "    <tr>\n",
       "      <th>4</th>\n",
       "      <td>the devil inside</td>\n",
       "      <td>0.99</td>\n",
       "      <td>100800000.0</td>\n",
       "      <td>Horror</td>\n",
       "      <td>4.2</td>\n",
       "      <td>2012</td>\n",
       "    </tr>\n",
       "    <tr>\n",
       "      <th>5</th>\n",
       "      <td>your sisters sister</td>\n",
       "      <td>0.99</td>\n",
       "      <td>20180000.0</td>\n",
       "      <td>Comedy</td>\n",
       "      <td>6.7</td>\n",
       "      <td>2012</td>\n",
       "    </tr>\n",
       "    <tr>\n",
       "      <th>6</th>\n",
       "      <td>sound of my voice</td>\n",
       "      <td>0.99</td>\n",
       "      <td>18973000.0</td>\n",
       "      <td>Drama</td>\n",
       "      <td>6.6</td>\n",
       "      <td>2012</td>\n",
       "    </tr>\n",
       "    <tr>\n",
       "      <th>7</th>\n",
       "      <td>compliance</td>\n",
       "      <td>0.99</td>\n",
       "      <td>18749000.0</td>\n",
       "      <td>Biography</td>\n",
       "      <td>6.4</td>\n",
       "      <td>2012</td>\n",
       "    </tr>\n",
       "    <tr>\n",
       "      <th>8</th>\n",
       "      <td>the canyons</td>\n",
       "      <td>0.99</td>\n",
       "      <td>18506800.0</td>\n",
       "      <td>Drama</td>\n",
       "      <td>3.8</td>\n",
       "      <td>2013</td>\n",
       "    </tr>\n",
       "    <tr>\n",
       "      <th>9</th>\n",
       "      <td>the karate kid</td>\n",
       "      <td>0.98</td>\n",
       "      <td>351100000.0</td>\n",
       "      <td>Action</td>\n",
       "      <td>6.2</td>\n",
       "      <td>2010</td>\n",
       "    </tr>\n",
       "  </tbody>\n",
       "</table>\n",
       "</div>"
      ],
      "text/plain": [
       "                 title  profit_rate  total_profit primary_genre  rating  year\n",
       "0       tiny furniture         1.00    19042000.0        Comedy     6.2  2010\n",
       "1          the gallows         1.00    42900000.0        Horror     4.2  2015\n",
       "2        a ghost story         1.00    20200000.0         Drama     6.8  2017\n",
       "3               snitch         0.99    60750000.0        Action     6.5  2013\n",
       "4     the devil inside         0.99   100800000.0        Horror     4.2  2012\n",
       "5  your sisters sister         0.99    20180000.0        Comedy     6.7  2012\n",
       "6    sound of my voice         0.99    18973000.0         Drama     6.6  2012\n",
       "7           compliance         0.99    18749000.0     Biography     6.4  2012\n",
       "8          the canyons         0.99    18506800.0         Drama     3.8  2013\n",
       "9       the karate kid         0.98   351100000.0        Action     6.2  2010"
      ]
     },
     "execution_count": 52,
     "metadata": {},
     "output_type": "execute_result"
    }
   ],
   "source": [
    "q4 = \"\"\" SELECT title, profit_rate, total_profit, primary_genre, rating, year\n",
    "        FROM rate_gross_budget  \n",
    "        ORDER BY profit_rate DESC\n",
    "        LIMIT 20 ; \"\"\"\n",
    "\n",
    "top_10_movie_profit_rate = pysqldf(q4)\n",
    "top_10_movie_profit_rate.head(10)"
   ]
  },
  {
   "cell_type": "code",
   "execution_count": null,
   "metadata": {},
   "outputs": [],
   "source": []
  },
  {
   "cell_type": "code",
   "execution_count": 86,
   "metadata": {},
   "outputs": [
    {
     "data": {
      "image/png": "[encoded data removed]",
      "text/plain": [
       "<Figure size 504x504 with 1 Axes>"
      ]
     },
     "metadata": {},
     "output_type": "display_data"
    }
   ],
   "source": [
    "import matplotlib.pyplot as plt\n",
    "\n",
    "# Calculate total values across the dataset\n",
    "total_revenue_all = rate_gross_budget['total_revenue'].sum()\n",
    "total_budget_all = rate_gross_budget['production_budget'].sum()\n",
    "total_profit_all = total_revenue_all - total_budget_all  # or sum of total_profit column\n",
    "\n",
    "# Prepare data for pie chart\n",
    "labels = ['Profit', 'Production Budget']\n",
    "sizes = [total_profit_all, total_budget_all]\n",
    "colors = ['#2ECC71', '#E74C3C']  # green for profit, red for budget\n",
    "\n",
    "# Plot\n",
    "plt.figure(figsize=(7,7))\n",
    "plt.pie(\n",
    "    sizes,\n",
    "    labels=labels,\n",
    "    autopct='%1.1f%%',\n",
    "    startangle=90,\n",
    "    colors=colors,\n",
    "    wedgeprops={'edgecolor': 'white', 'linewidth': 1}\n",
    ")\n",
    "plt.title('Global Distribution of Profit vs Production Budget in Total Revenue', fontsize=14, weight='bold', pad=20)\n",
    "plt.tight_layout()\n",
    "plt.show()\n"
   ]
  },
  {
   "cell_type": "markdown",
   "metadata": {},
   "source": [
    "### Revenue Composition Analysis: Profit vs. Production Budget\n",
    "\n",
    "I included this analysis to understand the composition of total movie revenues, specifically how much is absorbed by production costs versus how much remains as profit.\n",
    "In the movie industry, this ratio is a critical measure of financial efficiency — it shows how well studios convert their investments (budgets) into returns (profits).\n"
   ]
  },
  {
   "cell_type": "code",
   "execution_count": 87,
   "metadata": {},
   "outputs": [
    {
     "data": {
      "image/png": "[encoded data removed]",
      "text/plain": [
       "<Figure size 504x504 with 1 Axes>"
      ]
     },
     "metadata": {},
     "output_type": "display_data"
    }
   ],
   "source": [
    "# Calculate totals\n",
    "total_budget = rate_gross_budget['production_budget'].sum()\n",
    "total_profit = rate_gross_budget['total_profit'].sum()\n",
    "\n",
    "# Prepare data\n",
    "values = [total_profit, total_budget]\n",
    "labels = ['Total Profit', 'Total Budget']\n",
    "colors = ['#4CAF50', '#2196F3']  # Elegant green & blue\n",
    "\n",
    "# Create pie chart\n",
    "plt.figure(figsize=(7, 7))\n",
    "wedges, texts, autotexts = plt.pie(\n",
    "    values,\n",
    "    labels=labels,\n",
    "    colors=colors,\n",
    "    autopct='%1.1f%%',\n",
    "    startangle=90,\n",
    "    textprops={'fontsize': 12, 'color': 'black'},\n",
    "    wedgeprops={'edgecolor': 'white', 'linewidth': 1}\n",
    ")\n",
    "\n",
    "# Beautify labels\n",
    "for text in texts:\n",
    "    text.set_fontsize(14)\n",
    "    text.set_fontweight('bold')\n",
    "\n",
    "for autotext in autotexts:\n",
    "    autotext.set_fontsize(13)\n",
    "    autotext.set_fontweight('bold')\n",
    "    autotext.set_color('white')\n",
    "\n",
    "plt.title('Composition of Total Revenue: Profit vs Budget', fontsize=16, fontweight='bold', pad=20)\n",
    "plt.tight_layout()\n",
    "plt.show()\n"
   ]
  },
  {
   "cell_type": "code",
   "execution_count": null,
   "metadata": {},
   "outputs": [],
   "source": []
  },
  {
   "cell_type": "markdown",
   "metadata": {},
   "source": [
    "Analysis (based on your data)\n",
    "From the aggregated dataset:\n",
    "\n",
    "Profit accounts for 68.9% of the total revenue.\n",
    "\n",
    "Production budget represents 31.1% of the total revenue.\n",
    "\n",
    "This means that, globally, movies in this dataset have generated more than twice the revenue beyond their initial budgets.\n",
    "Such a high profit share indicates a generally profitable industry segment during the period covered, although it does not account for other costs like marketing, distribution, or taxes, which could lower net profits in reality.\n",
    "\n"
   ]
  },
  {
   "cell_type": "code",
   "execution_count": null,
   "metadata": {},
   "outputs": [],
   "source": []
  },
  {
   "cell_type": "markdown",
   "metadata": {},
   "source": [
    "The fact that profits outweigh budgets by this margin suggests that, on average, studios have been able to leverage relatively modest production costs to achieve substantial returns.\n",
    "This could indicate:\n",
    "\n",
    "Efficient budget allocation\n",
    "\n",
    "High market demand for certain films\n",
    "\n",
    "Strong distribution and box office performance\n",
    "\n",
    "However, it’s worth noting that individual movie performance can vary widely — this global ratio hides the presence of flops and mega-hits."
   ]
  },
  {
   "cell_type": "code",
   "execution_count": 89,
   "metadata": {},
   "outputs": [
    {
     "data": {
      "image/png": "[encoded data removed]",
      "text/plain": [
       "<Figure size 864x432 with 1 Axes>"
      ]
     },
     "metadata": {},
     "output_type": "display_data"
    }
   ],
   "source": [
    "# Aggregate revenue, budget, and profit per studio\n",
    "studio_summary = (\n",
    "    rate_gross_budget\n",
    "    .groupby('studio')\n",
    "    .agg({\n",
    "        'total_revenue': 'sum',\n",
    "        'production_budget': 'sum',\n",
    "        'total_profit': 'sum'\n",
    "    })\n",
    "    .reset_index()\n",
    ")\n",
    "\n",
    "# Calculate % share of budget and profit in total revenue\n",
    "studio_summary['budget_pct'] = (studio_summary['production_budget'] / studio_summary['total_revenue']) * 100\n",
    "studio_summary['profit_pct'] = (studio_summary['total_profit'] / studio_summary['total_revenue']) * 100\n",
    "\n",
    "# Keep only top 10 studios by revenue for better visualization\n",
    "top_studios_pct = studio_summary.sort_values('total_revenue', ascending=False).head(10)\n",
    "\n",
    "# Prepare data for plotting\n",
    "studio_plot_data = top_studios_pct.melt(\n",
    "    id_vars='studio',\n",
    "    value_vars=['budget_pct', 'profit_pct'],\n",
    "    var_name='Type',\n",
    "    value_name='Percentage'\n",
    ")\n",
    "\n",
    "# Beautify type labels\n",
    "studio_plot_data['Type'] = studio_plot_data['Type'].map({\n",
    "    'budget_pct': 'Budget Share (%)',\n",
    "    'profit_pct': 'Profit Share (%)'\n",
    "})\n",
    "\n",
    "# Plot\n",
    "plt.figure(figsize=(12,6))\n",
    "sns.barplot(\n",
    "    data=studio_plot_data,\n",
    "    x='studio',\n",
    "    y='Percentage',\n",
    "    hue='Type',\n",
    "    palette=['#FF7F50', '#2E8B57']  # Coral for budget, SeaGreen for profit\n",
    ")\n",
    "\n",
    "plt.title('Profit vs. Budget Share in Total Revenue by Top Studios', fontsize=16, fontweight='bold')\n",
    "plt.ylabel('Percentage of Total Revenue')\n",
    "plt.xlabel('Studio')\n",
    "plt.xticks(rotation=45, ha='right')\n",
    "plt.legend(title='Metric', loc='upper right')\n",
    "plt.grid(axis='y', linestyle='--', alpha=0.4)\n",
    "plt.tight_layout()\n",
    "plt.show()\n"
   ]
  },
  {
   "cell_type": "code",
   "execution_count": null,
   "metadata": {},
   "outputs": [],
   "source": []
  },
  {
   "cell_type": "code",
   "execution_count": 90,
   "metadata": {},
   "outputs": [
    {
     "data": {
      "image/png": "[encoded data removed]",
      "text/plain": [
       "<Figure size 504x504 with 1 Axes>"
      ]
     },
     "metadata": {},
     "output_type": "display_data"
    }
   ],
   "source": [
    "# Step 1: Aggregate revenue, budget, and profit per studio\n",
    "studio_summary = (\n",
    "    rate_gross_budget\n",
    "    .groupby('studio')\n",
    "    .agg({\n",
    "        'total_revenue': 'sum',\n",
    "        'production_budget': 'sum',\n",
    "        'total_profit': 'sum'\n",
    "    })\n",
    "    .reset_index()\n",
    ")\n",
    "\n",
    "# Step 2: Compute averages\n",
    "avg_revenue = studio_summary['total_revenue'].mean()\n",
    "avg_budget = studio_summary['production_budget'].mean()\n",
    "avg_profit = studio_summary['total_profit'].mean()\n",
    "\n",
    "# Step 3: Compute percentages of budget and profit in average revenue\n",
    "budget_pct = (avg_budget / avg_revenue) * 100\n",
    "profit_pct = (avg_profit / avg_revenue) * 100\n",
    "\n",
    "# Step 4: Prepare data for pie chart\n",
    "labels = ['Budget Share (%)', 'Profit Share (%)']\n",
    "sizes = [budget_pct, profit_pct]\n",
    "colors = ['#FFB347', '#2E8B57']  # Warm orange for budget, SeaGreen for profit\n",
    "\n",
    "# Step 5: Plot pie chart\n",
    "plt.figure(figsize=(7,7))\n",
    "wedges, texts, autotexts = plt.pie(\n",
    "    sizes,\n",
    "    labels=labels,\n",
    "    colors=colors,\n",
    "    autopct='%1.1f%%',\n",
    "    startangle=90,\n",
    "    textprops={'fontsize': 12, 'weight': 'bold'}\n",
    ")\n",
    "\n",
    "plt.title('Average Profit vs Budget Share in Average Total Revenue (All Studios)',\n",
    "          fontsize=14, fontweight='bold')\n",
    "plt.axis('equal')  # Equal aspect ratio ensures a perfect circle\n",
    "plt.show()\n"
   ]
  },
  {
   "cell_type": "markdown",
   "metadata": {},
   "source": [
    "## Movie Count by Release Month (Seasonality Check)"
   ]
  },
  {
   "cell_type": "code",
   "execution_count": 64,
   "metadata": {},
   "outputs": [
    {
     "data": {
      "image/png": "[encoded data removed]",
      "text/plain": [
       "<Figure size 720x360 with 1 Axes>"
      ]
     },
     "metadata": {
      "needs_background": "light"
     },
     "output_type": "display_data"
    }
   ],
   "source": [
    "monthly_counts = rate_gross_budget.groupby('release_month').size().reset_index(name='movie_count')\n",
    "\n",
    "plt.figure(figsize=(10,5))\n",
    "sns.barplot(data=monthly_counts, x='release_month', y='movie_count', palette='viridis')\n",
    "\n",
    "plt.title('Number of Movies Released by Month')\n",
    "plt.xlabel('Release Month')\n",
    "plt.ylabel('Movie Count')\n",
    "plt.show()\n"
   ]
  },
  {
   "cell_type": "markdown",
   "metadata": {},
   "source": [
    "### Movie release per year"
   ]
  },
  {
   "cell_type": "code",
   "execution_count": 79,
   "metadata": {},
   "outputs": [
    {
     "data": {
      "image/png": "[encoded data removed]",
      "text/plain": [
       "<Figure size 864x432 with 1 Axes>"
      ]
     },
     "metadata": {},
     "output_type": "display_data"
    }
   ],
   "source": [
    "# Movie release per year\n",
    "movie_count_per_year = (\n",
    "    rate_gross_budget['release_year']\n",
    "    .value_counts()\n",
    "    .sort_index()\n",
    "    .reset_index()\n",
    "    .rename(columns={'index': 'release_year', 'release_year': 'movie_count'})\n",
    ")\n",
    "# Plot the chart\n",
    "plt.figure(figsize=(12,6))\n",
    "sns.set_style(\"whitegrid\")\n",
    "sns.lineplot(\n",
    "    data=movie_count_per_year,\n",
    "    x='release_year',\n",
    "    y='movie_count',\n",
    "    color='#2E86AB',  # deep blue\n",
    "    linewidth=2.5\n",
    ")\n",
    "plt.title('Number of Movies Released per Year', fontsize=18, weight='bold', pad=15)\n",
    "plt.xlabel('Release Year', fontsize=14)\n",
    "plt.ylabel('Number of Movies', fontsize=14)\n",
    "plt.xticks(fontsize=12)\n",
    "plt.yticks(fontsize=12)\n",
    "plt.grid(True, linestyle='--', alpha=0.4)\n",
    "sns.despine()\n",
    "plt.tight_layout()\n",
    "plt.show()"
   ]
  },
  {
   "cell_type": "markdown",
   "metadata": {},
   "source": [
    "##  Evolution of Revenue, Profit, and Budget trend Over the Years"
   ]
  },
  {
   "cell_type": "code",
   "execution_count": 83,
   "metadata": {},
   "outputs": [
    {
     "data": {
      "image/png": "[encoded data removed]",
      "text/plain": [
       "<Figure size 864x432 with 1 Axes>"
      ]
     },
     "metadata": {},
     "output_type": "display_data"
    }
   ],
   "source": [
    "# Aggregate revenue, profit, and production budget by release year\n",
    "yearly_finance = (\n",
    "    rate_gross_budget.groupby('release_year')[['total_revenue', 'total_profit', 'production_budget']]\n",
    "    .sum()\n",
    "    .reset_index()\n",
    ")\n",
    "# Plotting\n",
    "plt.figure(figsize=(12,6))\n",
    "sns.lineplot(data=yearly_finance, x='release_year', y='total_revenue', label='Total Revenue', color='dodgerblue', linewidth=2.5)\n",
    "sns.lineplot(data=yearly_finance, x='release_year', y='total_profit', label='Total Profit', color='darkorange', linewidth=2.5)\n",
    "sns.lineplot(data=yearly_finance, x='release_year', y='production_budget', label='Production Budget', color='seagreen', linewidth=2.5)\n",
    "\n",
    "plt.title('Evolution of Revenue, Profit, and Budget Over the Years', fontsize=18)\n",
    "plt.xlabel('Release Year', fontsize=12)\n",
    "plt.ylabel('Amount ($)', fontsize=12)\n",
    "plt.grid(True, linestyle='--', alpha=0.5)\n",
    "plt.legend(title='Metric')\n",
    "plt.tight_layout()\n",
    "plt.show()\n"
   ]
  },
  {
   "cell_type": "code",
   "execution_count": null,
   "metadata": {},
   "outputs": [],
   "source": []
  },
  {
   "cell_type": "markdown",
   "metadata": {},
   "source": [
    "### 2. Average Revenue and Profit per Movie Over Years"
   ]
  },
  {
   "cell_type": "markdown",
   "metadata": {},
   "source": [
    "### 2. Diagnostic Analysis\n",
    "\n",
    "In this section of Analysis, we are going to analyse why did things like thta. To do so, we are going to do\n",
    "\n",
    "#### - Correlation Analysis\n",
    "\n",
    "#### - Hypothesis testing"
   ]
  },
  {
   "cell_type": "markdown",
   "metadata": {},
   "source": [
    "### - Correlation Analysis"
   ]
  },
  {
   "cell_type": "code",
   "execution_count": 84,
   "metadata": {},
   "outputs": [
    {
     "data": {
      "image/png": "[encoded data removed]",
      "text/plain": [
       "<Figure size 864x432 with 2 Axes>"
      ]
     },
     "metadata": {},
     "output_type": "display_data"
    }
   ],
   "source": [
    "# Numericals columns to examine correlations.\n",
    "corr_vars = ['production_budget', 'total_revenue', 'total_profit', 'profit_rate', 'rating', 'number_votes']\n",
    "corr = rate_gross_budget[corr_vars].corr()\n",
    "\n",
    "plt.figure(figsize=(12,6))\n",
    "sns.heatmap(corr, annot=True, cmap='coolwarm')\n",
    "plt.title('Correlation Matrix')\n",
    "plt.show()\n"
   ]
  },
  {
   "cell_type": "markdown",
   "metadata": {},
   "source": [
    "## Scatter Plot Budget vs Revenue (with regression line)"
   ]
  },
  {
   "cell_type": "code",
   "execution_count": 85,
   "metadata": {},
   "outputs": [
    {
     "data": {
      "image/png": "[encoded data removed]",
      "text/plain": [
       "<Figure size 864x432 with 1 Axes>"
      ]
     },
     "metadata": {},
     "output_type": "display_data"
    }
   ],
   "source": [
    "plt.figure(figsize=(12,6))\n",
    "sns.regplot(data=rate_gross_budget, x='production_budget', y='total_revenue', scatter_kws={'alpha':0.5})\n",
    "plt.title('Production Budget vs Total Revenue')\n",
    "plt.show()\n"
   ]
  },
  {
   "cell_type": "code",
   "execution_count": null,
   "metadata": {},
   "outputs": [],
   "source": []
  },
  {
   "cell_type": "markdown",
   "metadata": {},
   "source": [
    "### Statistical Test: Are revenues significantly different between genres?"
   ]
  },
  {
   "cell_type": "code",
   "execution_count": null,
   "metadata": {},
   "outputs": [],
   "source": []
  },
  {
   "cell_type": "markdown",
   "metadata": {},
   "source": [
    "### ANOVA Test to Compare Group Means: Introduction and Procedure"
   ]
  },
  {
   "cell_type": "markdown",
   "metadata": {},
   "source": [
    "### 1. Context and Objective\n",
    "Our goal is to determine whether there are statistically significant differences in the average total revenue among the top 10 movie genres and in the average total profit among the top 10 movie studios.\n",
    "\n",
    "Why do this?\n",
    "Understanding if certain genres or studios systematically perform better financially is crucial for guiding the new movie studio’s strategic focus."
   ]
  },
  {
   "cell_type": "markdown",
   "metadata": {},
   "source": [
    "Hypotheses Restated:\n",
    "Null Hypothesis (H₀): All top 10 genres have the same mean total revenue.\n",
    "\n",
    "Alternative Hypothesis (H₁): At least one genre’s mean total revenue differs from the others."
   ]
  },
  {
   "cell_type": "markdown",
   "metadata": {},
   "source": [
    "Null Hypothesis (H₀):\n",
    "The mean total revenue (or total profit) is the same across all groups (genres or studios).  \n",
    "\n",
    "Alternative Hypothesis (H₁):\n",
    "At least one group mean is different."
   ]
  },
  {
   "cell_type": "code",
   "execution_count": null,
   "metadata": {},
   "outputs": [],
   "source": []
  },
  {
   "cell_type": "markdown",
   "metadata": {},
   "source": [
    " Decision Rule\n",
    "Choose a significance level (α), commonly 0.05.\n",
    "\n",
    "Calculate the F-statistic and the corresponding p-value using ANOVA.\n",
    "\n",
    "If p-value ≤ α, reject the null hypothesis \n",
    "𝐻\n",
    "0\n",
    "H \n",
    "0\n",
    "​\n",
    " , meaning there is enough evidence that at least one group mean differs significantly.\n",
    "\n",
    "If p-value > α, fail to reject \n",
    "𝐻\n",
    "0\n",
    "H \n",
    "0\n",
    "​\n",
    " , meaning no statistically significant difference in means is detected.\n",
    "\n"
   ]
  },
  {
   "cell_type": "code",
   "execution_count": null,
   "metadata": {},
   "outputs": [],
   "source": []
  },
  {
   "cell_type": "code",
   "execution_count": 120,
   "metadata": {},
   "outputs": [
    {
     "name": "stdout",
     "output_type": "stream",
     "text": [
      "ANOVA test result: F = 18.922, p = 1.831e-49\n"
     ]
    }
   ],
   "source": [
    "import scipy.stats as stats\n",
    "\n",
    "# Get revenue by genre as list of arrays\n",
    "revenue_by_genre = [group['total_revenue'].values for name, group in rate_gross_budget.groupby('primary_genre')]\n",
    "\n",
    "# ANOVA test (if normality and variance assumptions met)\n",
    "f_stat, p_value = stats.f_oneway(*revenue_by_genre)\n",
    "\n",
    "print(f\"ANOVA test result: F = {f_stat:.3f}, p = {p_value:.3e}\")\n"
   ]
  },
  {
   "cell_type": "code",
   "execution_count": null,
   "metadata": {},
   "outputs": [],
   "source": []
  },
  {
   "cell_type": "code",
   "execution_count": null,
   "metadata": {},
   "outputs": [],
   "source": []
  },
  {
   "cell_type": "code",
   "execution_count": null,
   "metadata": {},
   "outputs": [],
   "source": []
  },
  {
   "cell_type": "code",
   "execution_count": 127,
   "metadata": {},
   "outputs": [
    {
     "name": "stdout",
     "output_type": "stream",
     "text": [
      "ANOVA test for Total Revenue by Top 10 Genres: F = 32.749, p = 9.581e-53\n"
     ]
    }
   ],
   "source": [
    "# Get top 10 genres by count of movies\n",
    "top_10_genres = rate_gross_budget['primary_genre'].value_counts().head(10).index.tolist()\n",
    "\n",
    "# Filter dataset for top 10 genres only\n",
    "top_genres_data = rate_gross_budget[rate_gross_budget['primary_genre'].isin(top_10_genres)]\n",
    "\n",
    "# Prepare revenue lists by genre for ANOVA\n",
    "revenue_by_genre_top10 = [group['total_revenue'].values for name, group in top_genres_data.groupby('primary_genre')]\n",
    "\n",
    "# ANOVA for total revenue by top 10 genres\n",
    "f_stat_genre, p_value_genre = stats.f_oneway(*revenue_by_genre_top10)\n",
    "print(f\"ANOVA test for Total Revenue by Top 10 Genres: F = {f_stat_genre:.3f}, p = {p_value_genre:.3e}\")\n"
   ]
  },
  {
   "cell_type": "code",
   "execution_count": null,
   "metadata": {},
   "outputs": [],
   "source": []
  },
  {
   "cell_type": "markdown",
   "metadata": {},
   "source": [
    "Analysis:\n",
    "The very large F-statistic indicates that the variation between the genre group means is much greater than the variation within each genre group.\n",
    "\n",
    "The extremely small p-value (far below the typical 0.05 significance level) means we have overwhelming statistical evidence to reject the null hypothesis."
   ]
  },
  {
   "cell_type": "code",
   "execution_count": null,
   "metadata": {},
   "outputs": [],
   "source": []
  },
  {
   "cell_type": "markdown",
   "metadata": {},
   "source": [
    "Business Implication:\n",
    "There is a statistically significant difference in the average total revenue generated by different genres. This confirms that not all movie genres are equally profitable at the box office.\n",
    "\n",
    "This finding is valuable for the new movie studio because:\n",
    "\n",
    "They should focus their production on genres that historically generate higher revenues to maximize financial success.\n",
    "\n",
    "Conversely, some genres might be less lucrative or more niche and may require more careful budgeting or marketing strategies."
   ]
  },
  {
   "cell_type": "code",
   "execution_count": null,
   "metadata": {},
   "outputs": [],
   "source": []
  },
  {
   "cell_type": "code",
   "execution_count": null,
   "metadata": {},
   "outputs": [],
   "source": []
  },
  {
   "cell_type": "code",
   "execution_count": null,
   "metadata": {},
   "outputs": [],
   "source": []
  },
  {
   "cell_type": "markdown",
   "metadata": {},
   "source": [
    "Hypotheses Restated:\n",
    "Null Hypothesis (H₀): All top 10 studios have the same mean total profit.\n",
    "\n",
    "Alternative Hypothesis (H₁): At least one studio’s mean total profit is different from the others."
   ]
  },
  {
   "cell_type": "code",
   "execution_count": null,
   "metadata": {},
   "outputs": [],
   "source": []
  },
  {
   "cell_type": "code",
   "execution_count": null,
   "metadata": {},
   "outputs": [],
   "source": []
  },
  {
   "cell_type": "code",
   "execution_count": null,
   "metadata": {},
   "outputs": [],
   "source": []
  },
  {
   "cell_type": "code",
   "execution_count": 122,
   "metadata": {},
   "outputs": [
    {
     "name": "stdout",
     "output_type": "stream",
     "text": [
      "ANOVA test for Total Profit by Top 10 Studios: F = 14.544, p = 4.028e-22\n"
     ]
    }
   ],
   "source": [
    "# Get top 10 studios by count of movies\n",
    "top_10_studios = rate_gross_budget['studio'].value_counts().head(10).index.tolist()\n",
    "\n",
    "# Filter dataset for top 10 studios only\n",
    "top_studios_data = rate_gross_budget[rate_gross_budget['studio'].isin(top_10_studios)]\n",
    "\n",
    "# Prepare total_profit lists by studio for ANOVA\n",
    "profit_by_studio_top10 = [group['total_profit'].values for name, group in top_studios_data.groupby('studio')]\n",
    "\n",
    "# ANOVA for total profit by top 10 studios\n",
    "f_stat_studio, p_value_studio = stats.f_oneway(*profit_by_studio_top10)\n",
    "print(f\"ANOVA test for Total Profit by Top 10 Studios: F = {f_stat_studio:.3f}, p = {p_value_studio:.3e}\")"
   ]
  },
  {
   "cell_type": "code",
   "execution_count": null,
   "metadata": {},
   "outputs": [],
   "source": []
  },
  {
   "cell_type": "markdown",
   "metadata": {},
   "source": [
    "Analysis:\n",
    "The F-statistic of 14.544 indicates that the variance of total profits between studios is significantly larger than the variance within each studio group.\n",
    "\n",
    "The p-value is far below the conventional threshold of 0.05, allowing us to reject the null hypothesis with very strong confidence."
   ]
  },
  {
   "cell_type": "code",
   "execution_count": null,
   "metadata": {},
   "outputs": [],
   "source": []
  },
  {
   "cell_type": "code",
   "execution_count": null,
   "metadata": {},
   "outputs": [],
   "source": []
  },
  {
   "cell_type": "markdown",
   "metadata": {},
   "source": [
    "Business Implication:\n",
    "There is clear statistical evidence that average total profit varies significantly between the top studios. This means that some studios consistently generate higher profits than others, which is a critical insight for:\n",
    "\n",
    "The new movie studio to study and possibly emulate the practices of higher-profit studios.\n",
    "\n",
    "Making decisions about potential partnerships, investments, or strategic hires based on studio performance.\n",
    "\n",
    "Allocating resources efficiently by understanding studio-level factors affecting profitability."
   ]
  },
  {
   "cell_type": "code",
   "execution_count": null,
   "metadata": {},
   "outputs": [],
   "source": []
  },
  {
   "cell_type": "code",
   "execution_count": null,
   "metadata": {},
   "outputs": [],
   "source": []
  },
  {
   "cell_type": "code",
   "execution_count": null,
   "metadata": {},
   "outputs": [],
   "source": []
  },
  {
   "cell_type": "code",
   "execution_count": null,
   "metadata": {},
   "outputs": [],
   "source": []
  },
  {
   "cell_type": "code",
   "execution_count": null,
   "metadata": {},
   "outputs": [],
   "source": []
  },
  {
   "cell_type": "markdown",
   "metadata": {},
   "source": [
    "Ok, great. now, i would like you to give me a pie chart that show informations about total_profit and budget.( I mean the pie chart should show how many percent the profit represent in the total revenu and how many percent budget represents) do a global pie chart for all budget and profit."
   ]
  },
  {
   "cell_type": "code",
   "execution_count": null,
   "metadata": {},
   "outputs": [],
   "source": []
  },
  {
   "cell_type": "markdown",
   "metadata": {},
   "source": [
    "### Business Recommendation 1"
   ]
  },
  {
   "cell_type": "code",
   "execution_count": null,
   "metadata": {},
   "outputs": [],
   "source": []
  },
  {
   "cell_type": "code",
   "execution_count": null,
   "metadata": {},
   "outputs": [],
   "source": []
  },
  {
   "cell_type": "markdown",
   "metadata": {},
   "source": [
    "### Business Recommendation 2"
   ]
  },
  {
   "cell_type": "code",
   "execution_count": null,
   "metadata": {},
   "outputs": [],
   "source": []
  },
  {
   "cell_type": "code",
   "execution_count": null,
   "metadata": {},
   "outputs": [],
   "source": []
  },
  {
   "cell_type": "markdown",
   "metadata": {},
   "source": [
    "### Business Recommendation 3"
   ]
  },
  {
   "cell_type": "code",
   "execution_count": null,
   "metadata": {},
   "outputs": [],
   "source": []
  },
  {
   "cell_type": "markdown",
   "metadata": {},
   "source": [
    "## Conclusion"
   ]
  },
  {
   "cell_type": "code",
   "execution_count": null,
   "metadata": {},
   "outputs": [],
   "source": []
  },
  {
   "cell_type": "code",
   "execution_count": null,
   "metadata": {},
   "outputs": [],
   "source": []
  },
  {
   "cell_type": "markdown",
   "metadata": {},
   "source": [
    "### Next Steps"
   ]
  },
  {
   "cell_type": "code",
   "execution_count": null,
   "metadata": {},
   "outputs": [],
   "source": []
  }
 ],
 "metadata": {
  "kernelspec": {
   "display_name": "Python (learn-env)",
   "language": "python",
   "name": "learn-env"
  },
  "language_info": {
   "codemirror_mode": {
    "name": "ipython",
    "version": 3
   },
   "file_extension": ".py",
   "mimetype": "text/x-python",
   "name": "python",
   "nbconvert_exporter": "python",
   "pygments_lexer": "ipython3",
   "version": "3.8.5"
  }
 },
 "nbformat": 4,
 "nbformat_minor": 4
}
