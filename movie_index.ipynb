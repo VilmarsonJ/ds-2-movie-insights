{
 "cells": [
  {
   "cell_type": "markdown",
   "metadata": {},
   "source": [
    "# Akademi Education X Flatiron School - Data Science & AI\n",
    "---\n",
    "\n",
    "- **Student name :** Vilmarson JULES\n",
    "- **Student pace :** self pace\n",
    "- **Deadline Submission :** July 27, 2025 \n",
    "- **Instructors' Name :** Wedter Jerome & Geovany Batista Polo Laguerre\n",
    "- **GitHub Repository:** [Movie-Insights Project](https://github.com/VilmarsonJ/ds-2-movie-insights)  \n",
    "- **LinkedIn:** [Vilmarson JULES](https://www.linkedin.com/in/jules-vilmarson-2a68a5294/)\n"
   ]
  },
  {
   "cell_type": "markdown",
   "metadata": {},
   "source": [
    "## Movie-Insights: A Data Science Study of High-Performing Movies at the Box Office\n",
    "\n",
    "---\n",
    "\n",
    "![phoyo](Images/boxoffice.jpg)"
   ]
  },
  {
   "cell_type": "markdown",
   "metadata": {},
   "source": [
    "## Overview  \n",
    "---  \n",
    "\n",
    "**The goal of this project is to identify the types of films currently performing best at the box office.**  \n",
    "I explore and analyze film data with clear visualizations to make insights accessible for stakeholders, and provide three business recommendations to guide decision-making.  \n",
    "\n",
    "***This project is intended to:***  \n",
    "- #### Identify and Analyse top-performing films and link findings directly to business needs.  \n",
    "- #### Highlight key trends and statistical insights about box office performance.  \n"
   ]
  },
  {
   "cell_type": "markdown",
   "metadata": {},
   "source": [
    "### Short Description :\n",
    "---\n",
    "\n",
    "This project is designed to point out the types of films are currently doing the best at the box office.Throughout this I explore and analyse those films, Plenty of appropriate visualisations are used and three business recomandations concerning the films at the box office are provided to make stakeholders understand the insights of the findings much better."
   ]
  },
  {
   "cell_type": "markdown",
   "metadata": {},
   "source": [
    "## Business Problem\n",
    "\n",
    "---\n",
    "![photo](Images/image1.jpg)\n",
    "\n",
    "\n",
    "\n",
    "My campany gets inspired by the way that many companies dive into creating original videos content and wants to experiment this sector.  \n",
    "Although they do not know anythings about this sector, they have decided to create a new movie studio in order to create or produce  \n",
    "original video contents.   \n",
    "\n",
    "Consequently, as a Data scienctist the compagny has charged me to explore :  \n",
    "**What types of films are currently doing the best at the box office**.  \n",
    "Then, I must certainlyn used my professional and scientific proficiencies to translate those findings into actionable and strategic insights so that the head of my company's new movie studio can leverage to what type of films to create."
   ]
  },
  {
   "cell_type": "markdown",
   "metadata": {},
   "source": [
    "## The Data\n",
    "\n",
    "---   \n",
    "The movie datasets used to achieve this project were collected from various locatioon as we see bellow :\n",
    "* [Box Office Mojo](https://www.boxofficemojo.com/)\n",
    "* [IMDB](https://www.imdb.com/)\n",
    "* [Rotten Tomatoes](https://www.rottentomatoes.com/)\n",
    "* [TheMovieDB](https://www.themoviedb.org/)\n",
    "* [The Numbers](https://www.the-numbers.com/)\n",
    "\n",
    "From the various location showed above, all of the datasets are files with `csv` format, except for the IMDB which is located in a SQLite DataBase.\n",
    "\n",
    "This picture bellow, show a global structure of th IMDB DataBase.\n",
    "\n",
    "![phoyo](Images/Imdb.jpeg)"
   ]
  },
  {
   "cell_type": "markdown",
   "metadata": {},
   "source": [
    "## Methods\n",
    "---\n",
    "\n",
    "To carry out this project, we relied on a set of technical tools and environments, including **Git, GitHub, Git Bash, and Jupyter Notebook**. In addition, we made extensive use of **SQL and Python**, with a focus on the following libraries: `pandas`, `matplotlib`, `seaborn`, `scipy`, `statsmodels`, and `sqlite3`.  \n",
    "\n",
    "The methodological approach followed two main phases:  \n",
    "\n",
    "### 1. Descriptive Statistical Analysis\n",
    "   - **Data Cleaning and Preparation** using `pandas` to ensure data consistency and reliability.  \n",
    "   - **Exploratory Data Analysis (EDA)** to uncover patterns and trends.  \n",
    "   - **Data Visualization** with `matplotlib` and `seaborn` to extract salient insights and support interpretation.  \n",
    "   \n",
    "\n",
    "### 2. Diagnostic / Inferential Statistical Analysis\n",
    "   - **Hypothesis Testing and ANOVA** to assess significant differences across genres and studios.  \n",
    "   - **Correlation Analysis** to measure relationships between numerical variables.  \n",
    "   - **Statistical Validation** using `scipy` and `statsmodels`.  \n"
   ]
  },
  {
   "cell_type": "markdown",
   "metadata": {},
   "source": [
    "## Business Understanding\n",
    "---\n",
    "\n",
    "![photo](Images/image0.jpg)\n",
    "\n",
    "\n",
    "\n",
    "This movie insights aims to support data-driven decision-making for my company which wants to experiment the sector of creating original video content.  \n",
    "The core objective is to **identify what types of films are currently doing the best at the box office**.  \n",
    "\n",
    "By understanding patterns in the rankings of best films at the box office, The head of the company's new movie studio can :  \n",
    "- Identify wich films that seem more profitable for the company to create\n",
    "- have a business roadmap to follow in order to beguin this meaningful adventure.\n"
   ]
  },
  {
   "cell_type": "code",
   "execution_count": 62,
   "metadata": {},
   "outputs": [],
   "source": [
    "# Here I import all necessary libraries to start.\n",
    "import pandas as pd \n",
    "import seaborn as sns\n",
    "import matplotlib.pyplot as plt\n",
    "from scipy import stats\n",
    "import statsmodels.api as sm\n",
    "import statsmodels.formula.api as smf\n",
    "from pandasql import sqldf\n",
    "import numpy as np\n",
    "import sqlite3\n",
    "import gzip\n",
    "import zipfile\n",
    "import pathlib"
   ]
  },
  {
   "cell_type": "markdown",
   "metadata": {},
   "source": [
    "## Data Understanding\n",
    "\n",
    "\n",
    "Here we are going to get a meaningful overview of the Datasets that we actually used to achieve this wonderful work.  \n",
    "To do so, we are going To get fundamental :\n",
    "\n",
    "- ### 1. Overview of the IBM Database\n",
    "- ### 2. Overview of the Csv Datasets\n",
    "\n",
    "Consequently, I use some of the methods of `Pandas` DataFrame, like `.head()`,`shape`, ` .info()` etc to get overview of each dataset.   \n",
    "And also I use `SQL` to interrogate my database so that I can get relavent overview of each table it contains.\n",
    "\n"
   ]
  },
  {
   "cell_type": "markdown",
   "metadata": {},
   "source": [
    "### 1. Overview of the IBM Database :\n",
    "\n",
    "---\n",
    "\n",
    "#### Here I'm going to exokore the IBM database :\n",
    "1. To determine how many tables it contains\n",
    "2. To explore the most relevant tables to make stackholders have a fundamental insights of the data.\n"
   ]
  },
  {
   "cell_type": "code",
   "execution_count": 63,
   "metadata": {
    "scrolled": false
   },
   "outputs": [],
   "source": [
    "# import zipfile, pathlib, pandas as pd, sqlite3, gzip\n",
    "\n",
    "#  Unzip SQLite once (idempotent)\n",
    "if not pathlib.Path(\"zippedData/im.db\").is_file():\n",
    "    with zipfile.ZipFile(\"zippedData/im.db.zip\") as z:\n",
    "        z.extractall(\"zippedData\")\n",
    "\n",
    "# 2️⃣  and here I Load the compressed flat files into pandas DataFrames\n",
    "movie_gross  = pd.read_csv(\"zippedData/bom.movie_gross.csv.gz\", compression=\"gzip\")  # # tell pandas to decompress on the fly\n",
    "tmdb_movie  = pd.read_csv(\"zippedData/tmdb.movies.csv.gz\",    compression=\"gzip\")\n",
    "movie_info   = pd.read_csv(\"zippedData/rt.movie_info.tsv.gz\",  sep=\"\\t\", compression=\"gzip\")\n",
    "movie_review = pd.read_csv(\"zippedData/rt.reviews.tsv.gz\",     sep=\"\\t\",\n",
    "                       compression=\"gzip\", encoding=\"latin1\", low_memory=False)\n",
    "movie_budget = pd.read_csv(\"zippedData/tn.movie_budgets.csv.gz\", compression=\"gzip\")\n",
    "\n",
    "# I Connect to the SQLite DB (im.db) and list its tables\n",
    "conn   = sqlite3.connect(\"zippedData/im.db\")"
   ]
  },
  {
   "cell_type": "markdown",
   "metadata": {},
   "source": [
    "As we can see below, the IMBB conrains fives tables. then, I will explore them to see what they contain."
   ]
  },
  {
   "cell_type": "code",
   "execution_count": 64,
   "metadata": {},
   "outputs": [
    {
     "data": {
      "text/html": [
       "<div>\n",
       "<style scoped>\n",
       "    .dataframe tbody tr th:only-of-type {\n",
       "        vertical-align: middle;\n",
       "    }\n",
       "\n",
       "    .dataframe tbody tr th {\n",
       "        vertical-align: top;\n",
       "    }\n",
       "\n",
       "    .dataframe thead th {\n",
       "        text-align: right;\n",
       "    }\n",
       "</style>\n",
       "<table border=\"1\" class=\"dataframe\">\n",
       "  <thead>\n",
       "    <tr style=\"text-align: right;\">\n",
       "      <th></th>\n",
       "      <th>name</th>\n",
       "    </tr>\n",
       "  </thead>\n",
       "  <tbody>\n",
       "    <tr>\n",
       "      <th>0</th>\n",
       "      <td>movie_basics</td>\n",
       "    </tr>\n",
       "    <tr>\n",
       "      <th>1</th>\n",
       "      <td>directors</td>\n",
       "    </tr>\n",
       "    <tr>\n",
       "      <th>2</th>\n",
       "      <td>known_for</td>\n",
       "    </tr>\n",
       "    <tr>\n",
       "      <th>3</th>\n",
       "      <td>movie_akas</td>\n",
       "    </tr>\n",
       "    <tr>\n",
       "      <th>4</th>\n",
       "      <td>movie_ratings</td>\n",
       "    </tr>\n",
       "  </tbody>\n",
       "</table>\n",
       "</div>"
      ],
      "text/plain": [
       "            name\n",
       "0   movie_basics\n",
       "1      directors\n",
       "2      known_for\n",
       "3     movie_akas\n",
       "4  movie_ratings"
      ]
     },
     "execution_count": 64,
     "metadata": {},
     "output_type": "execute_result"
    }
   ],
   "source": [
    "# and here, I list all of the available tables of im.db\n",
    "tables = pd.read_sql(\"SELECT name FROM sqlite_master WHERE type='table';\", conn)\n",
    "tables.head()\n"
   ]
  },
  {
   "cell_type": "code",
   "execution_count": 65,
   "metadata": {},
   "outputs": [],
   "source": [
    "# To select all the Data of the tables\n",
    "q1 = \"\"\" SELECT * FROM movie_basics ; \"\"\"\n",
    "q2 = \"\"\" SELECT * FROM movie_ratings ; \"\"\""
   ]
  },
  {
   "cell_type": "code",
   "execution_count": 66,
   "metadata": {},
   "outputs": [
    {
     "data": {
      "text/html": [
       "<div>\n",
       "<style scoped>\n",
       "    .dataframe tbody tr th:only-of-type {\n",
       "        vertical-align: middle;\n",
       "    }\n",
       "\n",
       "    .dataframe tbody tr th {\n",
       "        vertical-align: top;\n",
       "    }\n",
       "\n",
       "    .dataframe thead th {\n",
       "        text-align: right;\n",
       "    }\n",
       "</style>\n",
       "<table border=\"1\" class=\"dataframe\">\n",
       "  <thead>\n",
       "    <tr style=\"text-align: right;\">\n",
       "      <th></th>\n",
       "      <th>movie_id</th>\n",
       "      <th>primary_title</th>\n",
       "      <th>original_title</th>\n",
       "      <th>start_year</th>\n",
       "      <th>runtime_minutes</th>\n",
       "      <th>genres</th>\n",
       "    </tr>\n",
       "  </thead>\n",
       "  <tbody>\n",
       "    <tr>\n",
       "      <th>0</th>\n",
       "      <td>tt0063540</td>\n",
       "      <td>Sunghursh</td>\n",
       "      <td>Sunghursh</td>\n",
       "      <td>2013</td>\n",
       "      <td>175.0</td>\n",
       "      <td>Action,Crime,Drama</td>\n",
       "    </tr>\n",
       "    <tr>\n",
       "      <th>1</th>\n",
       "      <td>tt0066787</td>\n",
       "      <td>One Day Before the Rainy Season</td>\n",
       "      <td>Ashad Ka Ek Din</td>\n",
       "      <td>2019</td>\n",
       "      <td>114.0</td>\n",
       "      <td>Biography,Drama</td>\n",
       "    </tr>\n",
       "    <tr>\n",
       "      <th>2</th>\n",
       "      <td>tt0069049</td>\n",
       "      <td>The Other Side of the Wind</td>\n",
       "      <td>The Other Side of the Wind</td>\n",
       "      <td>2018</td>\n",
       "      <td>122.0</td>\n",
       "      <td>Drama</td>\n",
       "    </tr>\n",
       "    <tr>\n",
       "      <th>3</th>\n",
       "      <td>tt0069204</td>\n",
       "      <td>Sabse Bada Sukh</td>\n",
       "      <td>Sabse Bada Sukh</td>\n",
       "      <td>2018</td>\n",
       "      <td>NaN</td>\n",
       "      <td>Comedy,Drama</td>\n",
       "    </tr>\n",
       "    <tr>\n",
       "      <th>4</th>\n",
       "      <td>tt0100275</td>\n",
       "      <td>The Wandering Soap Opera</td>\n",
       "      <td>La Telenovela Errante</td>\n",
       "      <td>2017</td>\n",
       "      <td>80.0</td>\n",
       "      <td>Comedy,Drama,Fantasy</td>\n",
       "    </tr>\n",
       "    <tr>\n",
       "      <th>5</th>\n",
       "      <td>tt0111414</td>\n",
       "      <td>A Thin Life</td>\n",
       "      <td>A Thin Life</td>\n",
       "      <td>2018</td>\n",
       "      <td>75.0</td>\n",
       "      <td>Comedy</td>\n",
       "    </tr>\n",
       "    <tr>\n",
       "      <th>6</th>\n",
       "      <td>tt0112502</td>\n",
       "      <td>Bigfoot</td>\n",
       "      <td>Bigfoot</td>\n",
       "      <td>2017</td>\n",
       "      <td>NaN</td>\n",
       "      <td>Horror,Thriller</td>\n",
       "    </tr>\n",
       "    <tr>\n",
       "      <th>7</th>\n",
       "      <td>tt0137204</td>\n",
       "      <td>Joe Finds Grace</td>\n",
       "      <td>Joe Finds Grace</td>\n",
       "      <td>2017</td>\n",
       "      <td>83.0</td>\n",
       "      <td>Adventure,Animation,Comedy</td>\n",
       "    </tr>\n",
       "    <tr>\n",
       "      <th>8</th>\n",
       "      <td>tt0139613</td>\n",
       "      <td>O Silêncio</td>\n",
       "      <td>O Silêncio</td>\n",
       "      <td>2012</td>\n",
       "      <td>NaN</td>\n",
       "      <td>Documentary,History</td>\n",
       "    </tr>\n",
       "    <tr>\n",
       "      <th>9</th>\n",
       "      <td>tt0144449</td>\n",
       "      <td>Nema aviona za Zagreb</td>\n",
       "      <td>Nema aviona za Zagreb</td>\n",
       "      <td>2012</td>\n",
       "      <td>82.0</td>\n",
       "      <td>Biography</td>\n",
       "    </tr>\n",
       "  </tbody>\n",
       "</table>\n",
       "</div>"
      ],
      "text/plain": [
       "    movie_id                    primary_title              original_title  \\\n",
       "0  tt0063540                        Sunghursh                   Sunghursh   \n",
       "1  tt0066787  One Day Before the Rainy Season             Ashad Ka Ek Din   \n",
       "2  tt0069049       The Other Side of the Wind  The Other Side of the Wind   \n",
       "3  tt0069204                  Sabse Bada Sukh             Sabse Bada Sukh   \n",
       "4  tt0100275         The Wandering Soap Opera       La Telenovela Errante   \n",
       "5  tt0111414                      A Thin Life                 A Thin Life   \n",
       "6  tt0112502                          Bigfoot                     Bigfoot   \n",
       "7  tt0137204                  Joe Finds Grace             Joe Finds Grace   \n",
       "8  tt0139613                       O Silêncio                  O Silêncio   \n",
       "9  tt0144449            Nema aviona za Zagreb       Nema aviona za Zagreb   \n",
       "\n",
       "   start_year  runtime_minutes                      genres  \n",
       "0        2013            175.0          Action,Crime,Drama  \n",
       "1        2019            114.0             Biography,Drama  \n",
       "2        2018            122.0                       Drama  \n",
       "3        2018              NaN                Comedy,Drama  \n",
       "4        2017             80.0        Comedy,Drama,Fantasy  \n",
       "5        2018             75.0                      Comedy  \n",
       "6        2017              NaN             Horror,Thriller  \n",
       "7        2017             83.0  Adventure,Animation,Comedy  \n",
       "8        2012              NaN         Documentary,History  \n",
       "9        2012             82.0                   Biography  "
      ]
     },
     "execution_count": 66,
     "metadata": {},
     "output_type": "execute_result"
    }
   ],
   "source": [
    "movie = pd.read_sql(q1, conn) # I store this data in a dataframe called movie\n",
    "movie.head(10)  # Fetch only he first 10 observations"
   ]
  },
  {
   "cell_type": "code",
   "execution_count": 67,
   "metadata": {},
   "outputs": [
    {
     "data": {
      "text/plain": [
       "movie_id \n",
       "tt9916754    1\n",
       "tt2901864    1\n",
       "tt2902126    1\n",
       "tt2902032    1\n",
       "tt2901984    1\n",
       "            ..\n",
       "tt5687280    1\n",
       "tt5687282    1\n",
       "tt5687328    1\n",
       "tt5687334    1\n",
       "tt0063540    1\n",
       "Length: 146144, dtype: int64"
      ]
     },
     "execution_count": 67,
     "metadata": {},
     "output_type": "execute_result"
    }
   ],
   "source": [
    "# Count frequencies of values in movie_id columns\n",
    "movie[['movie_id']].value_counts()"
   ]
  },
  {
   "cell_type": "code",
   "execution_count": 68,
   "metadata": {},
   "outputs": [
    {
     "data": {
      "text/plain": [
       "(146144, 6)"
      ]
     },
     "execution_count": 68,
     "metadata": {},
     "output_type": "execute_result"
    }
   ],
   "source": [
    "# Dimension of our table\n",
    "movie.shape"
   ]
  },
  {
   "cell_type": "code",
   "execution_count": 69,
   "metadata": {},
   "outputs": [
    {
     "data": {
      "text/html": [
       "<div>\n",
       "<style scoped>\n",
       "    .dataframe tbody tr th:only-of-type {\n",
       "        vertical-align: middle;\n",
       "    }\n",
       "\n",
       "    .dataframe tbody tr th {\n",
       "        vertical-align: top;\n",
       "    }\n",
       "\n",
       "    .dataframe thead th {\n",
       "        text-align: right;\n",
       "    }\n",
       "</style>\n",
       "<table border=\"1\" class=\"dataframe\">\n",
       "  <thead>\n",
       "    <tr style=\"text-align: right;\">\n",
       "      <th></th>\n",
       "      <th>movie_id</th>\n",
       "      <th>averagerating</th>\n",
       "      <th>numvotes</th>\n",
       "    </tr>\n",
       "  </thead>\n",
       "  <tbody>\n",
       "    <tr>\n",
       "      <th>0</th>\n",
       "      <td>tt10356526</td>\n",
       "      <td>8.3</td>\n",
       "      <td>31</td>\n",
       "    </tr>\n",
       "    <tr>\n",
       "      <th>1</th>\n",
       "      <td>tt10384606</td>\n",
       "      <td>8.9</td>\n",
       "      <td>559</td>\n",
       "    </tr>\n",
       "    <tr>\n",
       "      <th>2</th>\n",
       "      <td>tt1042974</td>\n",
       "      <td>6.4</td>\n",
       "      <td>20</td>\n",
       "    </tr>\n",
       "    <tr>\n",
       "      <th>3</th>\n",
       "      <td>tt1043726</td>\n",
       "      <td>4.2</td>\n",
       "      <td>50352</td>\n",
       "    </tr>\n",
       "    <tr>\n",
       "      <th>4</th>\n",
       "      <td>tt1060240</td>\n",
       "      <td>6.5</td>\n",
       "      <td>21</td>\n",
       "    </tr>\n",
       "    <tr>\n",
       "      <th>...</th>\n",
       "      <td>...</td>\n",
       "      <td>...</td>\n",
       "      <td>...</td>\n",
       "    </tr>\n",
       "    <tr>\n",
       "      <th>73851</th>\n",
       "      <td>tt9805820</td>\n",
       "      <td>8.1</td>\n",
       "      <td>25</td>\n",
       "    </tr>\n",
       "    <tr>\n",
       "      <th>73852</th>\n",
       "      <td>tt9844256</td>\n",
       "      <td>7.5</td>\n",
       "      <td>24</td>\n",
       "    </tr>\n",
       "    <tr>\n",
       "      <th>73853</th>\n",
       "      <td>tt9851050</td>\n",
       "      <td>4.7</td>\n",
       "      <td>14</td>\n",
       "    </tr>\n",
       "    <tr>\n",
       "      <th>73854</th>\n",
       "      <td>tt9886934</td>\n",
       "      <td>7.0</td>\n",
       "      <td>5</td>\n",
       "    </tr>\n",
       "    <tr>\n",
       "      <th>73855</th>\n",
       "      <td>tt9894098</td>\n",
       "      <td>6.3</td>\n",
       "      <td>128</td>\n",
       "    </tr>\n",
       "  </tbody>\n",
       "</table>\n",
       "<p>73856 rows × 3 columns</p>\n",
       "</div>"
      ],
      "text/plain": [
       "         movie_id  averagerating  numvotes\n",
       "0      tt10356526            8.3        31\n",
       "1      tt10384606            8.9       559\n",
       "2       tt1042974            6.4        20\n",
       "3       tt1043726            4.2     50352\n",
       "4       tt1060240            6.5        21\n",
       "...           ...            ...       ...\n",
       "73851   tt9805820            8.1        25\n",
       "73852   tt9844256            7.5        24\n",
       "73853   tt9851050            4.7        14\n",
       "73854   tt9886934            7.0         5\n",
       "73855   tt9894098            6.3       128\n",
       "\n",
       "[73856 rows x 3 columns]"
      ]
     },
     "execution_count": 69,
     "metadata": {},
     "output_type": "execute_result"
    }
   ],
   "source": [
    "ratings = pd.read_sql(q2, conn) # I store this data in a dataframe called ratings\n",
    "ratings"
   ]
  },
  {
   "cell_type": "markdown",
   "metadata": {},
   "source": [
    "AS we can see the **movie_basics** table represents the core movie info(title, year, genre),  \n",
    "While the **movie_ratings** represent the average of rate and the number of votes provided by audiances or users. \n",
    "\n",
    "Moreover, each row of those two tables **represents informations about a particualr movie.**  \n",
    "And we can observe that they contains a unique movie in each row identified by the movie_id.  \n",
    "The table movie contains **146144 observations** about the movies while movie_ratings contains only **73856 observations.**"
   ]
  },
  {
   "cell_type": "markdown",
   "metadata": {},
   "source": [
    "### As the goal is to find the best movie(films) at the box office, \n",
    "bellow I join those two tables in order to relate eeach movie to their respective rate.\n",
    "\n",
    "And, finally we will see that we have created a dataframe called **movie_rate** that contains informations about both of the tables.  \n",
    "And I will considere this table as I move on farther."
   ]
  },
  {
   "cell_type": "code",
   "execution_count": 70,
   "metadata": {
    "scrolled": true
   },
   "outputs": [
    {
     "data": {
      "text/html": [
       "<div>\n",
       "<style scoped>\n",
       "    .dataframe tbody tr th:only-of-type {\n",
       "        vertical-align: middle;\n",
       "    }\n",
       "\n",
       "    .dataframe tbody tr th {\n",
       "        vertical-align: top;\n",
       "    }\n",
       "\n",
       "    .dataframe thead th {\n",
       "        text-align: right;\n",
       "    }\n",
       "</style>\n",
       "<table border=\"1\" class=\"dataframe\">\n",
       "  <thead>\n",
       "    <tr style=\"text-align: right;\">\n",
       "      <th></th>\n",
       "      <th>movie_id</th>\n",
       "      <th>primary_title</th>\n",
       "      <th>start_year</th>\n",
       "      <th>runtime_minutes</th>\n",
       "      <th>genres</th>\n",
       "      <th>rating</th>\n",
       "      <th>number_votes</th>\n",
       "    </tr>\n",
       "  </thead>\n",
       "  <tbody>\n",
       "    <tr>\n",
       "      <th>0</th>\n",
       "      <td>tt0063540</td>\n",
       "      <td>Sunghursh</td>\n",
       "      <td>2013</td>\n",
       "      <td>175.0</td>\n",
       "      <td>Action,Crime,Drama</td>\n",
       "      <td>7.0</td>\n",
       "      <td>77</td>\n",
       "    </tr>\n",
       "    <tr>\n",
       "      <th>1</th>\n",
       "      <td>tt0066787</td>\n",
       "      <td>One Day Before the Rainy Season</td>\n",
       "      <td>2019</td>\n",
       "      <td>114.0</td>\n",
       "      <td>Biography,Drama</td>\n",
       "      <td>7.2</td>\n",
       "      <td>43</td>\n",
       "    </tr>\n",
       "    <tr>\n",
       "      <th>2</th>\n",
       "      <td>tt0069049</td>\n",
       "      <td>The Other Side of the Wind</td>\n",
       "      <td>2018</td>\n",
       "      <td>122.0</td>\n",
       "      <td>Drama</td>\n",
       "      <td>6.9</td>\n",
       "      <td>4517</td>\n",
       "    </tr>\n",
       "    <tr>\n",
       "      <th>3</th>\n",
       "      <td>tt0069204</td>\n",
       "      <td>Sabse Bada Sukh</td>\n",
       "      <td>2018</td>\n",
       "      <td>NaN</td>\n",
       "      <td>Comedy,Drama</td>\n",
       "      <td>6.1</td>\n",
       "      <td>13</td>\n",
       "    </tr>\n",
       "    <tr>\n",
       "      <th>4</th>\n",
       "      <td>tt0100275</td>\n",
       "      <td>The Wandering Soap Opera</td>\n",
       "      <td>2017</td>\n",
       "      <td>80.0</td>\n",
       "      <td>Comedy,Drama,Fantasy</td>\n",
       "      <td>6.5</td>\n",
       "      <td>119</td>\n",
       "    </tr>\n",
       "    <tr>\n",
       "      <th>5</th>\n",
       "      <td>tt0112502</td>\n",
       "      <td>Bigfoot</td>\n",
       "      <td>2017</td>\n",
       "      <td>NaN</td>\n",
       "      <td>Horror,Thriller</td>\n",
       "      <td>4.1</td>\n",
       "      <td>32</td>\n",
       "    </tr>\n",
       "    <tr>\n",
       "      <th>6</th>\n",
       "      <td>tt0137204</td>\n",
       "      <td>Joe Finds Grace</td>\n",
       "      <td>2017</td>\n",
       "      <td>83.0</td>\n",
       "      <td>Adventure,Animation,Comedy</td>\n",
       "      <td>8.1</td>\n",
       "      <td>263</td>\n",
       "    </tr>\n",
       "    <tr>\n",
       "      <th>7</th>\n",
       "      <td>tt0146592</td>\n",
       "      <td>Pál Adrienn</td>\n",
       "      <td>2010</td>\n",
       "      <td>136.0</td>\n",
       "      <td>Drama</td>\n",
       "      <td>6.8</td>\n",
       "      <td>451</td>\n",
       "    </tr>\n",
       "    <tr>\n",
       "      <th>8</th>\n",
       "      <td>tt0154039</td>\n",
       "      <td>So Much for Justice!</td>\n",
       "      <td>2010</td>\n",
       "      <td>100.0</td>\n",
       "      <td>History</td>\n",
       "      <td>4.6</td>\n",
       "      <td>64</td>\n",
       "    </tr>\n",
       "    <tr>\n",
       "      <th>9</th>\n",
       "      <td>tt0159369</td>\n",
       "      <td>Cooper and Hemingway: The True Gen</td>\n",
       "      <td>2013</td>\n",
       "      <td>180.0</td>\n",
       "      <td>Documentary</td>\n",
       "      <td>7.6</td>\n",
       "      <td>53</td>\n",
       "    </tr>\n",
       "  </tbody>\n",
       "</table>\n",
       "</div>"
      ],
      "text/plain": [
       "    movie_id                       primary_title  start_year  runtime_minutes  \\\n",
       "0  tt0063540                           Sunghursh        2013            175.0   \n",
       "1  tt0066787     One Day Before the Rainy Season        2019            114.0   \n",
       "2  tt0069049          The Other Side of the Wind        2018            122.0   \n",
       "3  tt0069204                     Sabse Bada Sukh        2018              NaN   \n",
       "4  tt0100275            The Wandering Soap Opera        2017             80.0   \n",
       "5  tt0112502                             Bigfoot        2017              NaN   \n",
       "6  tt0137204                     Joe Finds Grace        2017             83.0   \n",
       "7  tt0146592                         Pál Adrienn        2010            136.0   \n",
       "8  tt0154039                So Much for Justice!        2010            100.0   \n",
       "9  tt0159369  Cooper and Hemingway: The True Gen        2013            180.0   \n",
       "\n",
       "                       genres  rating  number_votes  \n",
       "0          Action,Crime,Drama     7.0            77  \n",
       "1             Biography,Drama     7.2            43  \n",
       "2                       Drama     6.9          4517  \n",
       "3                Comedy,Drama     6.1            13  \n",
       "4        Comedy,Drama,Fantasy     6.5           119  \n",
       "5             Horror,Thriller     4.1            32  \n",
       "6  Adventure,Animation,Comedy     8.1           263  \n",
       "7                       Drama     6.8           451  \n",
       "8                     History     4.6            64  \n",
       "9                 Documentary     7.6            53  "
      ]
     },
     "execution_count": 70,
     "metadata": {},
     "output_type": "execute_result"
    }
   ],
   "source": [
    "q_Join = \"\"\" SELECT movie_id, primary_title, start_year, runtime_minutes, genres,\n",
    "            averagerating as rating, numvotes as number_votes\n",
    "            FROM movie_basics\n",
    "            JOIN movie_ratings\n",
    "            USING(movie_id) ; \"\"\"\n",
    "\n",
    "movie_rate = pd.read_sql(q_Join, conn) # I store this data in a dataframe called movie_rate\n",
    "\n",
    "# NOw, I display the movie_rate DataFrame(table)\n",
    "movie_rate.head(10)"
   ]
  },
  {
   "cell_type": "code",
   "execution_count": 71,
   "metadata": {},
   "outputs": [
    {
     "data": {
      "text/plain": [
       "movie_id \n",
       "tt9916160    1\n",
       "tt2413182    1\n",
       "tt2418372    1\n",
       "tt2418384    1\n",
       "tt2418440    1\n",
       "            ..\n",
       "tt4861720    1\n",
       "tt4861730    1\n",
       "tt4862056    1\n",
       "tt4862190    1\n",
       "tt0063540    1\n",
       "Length: 73856, dtype: int64"
      ]
     },
     "execution_count": 71,
     "metadata": {},
     "output_type": "execute_result"
    }
   ],
   "source": [
    "# I count unique movie_id of movie_rate\n",
    "movie_rate[['movie_id']].value_counts()"
   ]
  },
  {
   "cell_type": "code",
   "execution_count": 72,
   "metadata": {},
   "outputs": [
    {
     "data": {
      "text/plain": [
       "(73856, 7)"
      ]
     },
     "execution_count": 72,
     "metadata": {},
     "output_type": "execute_result"
    }
   ],
   "source": [
    "# THe dimension of my dataframe movie_rate\n",
    "movie_rate.shape"
   ]
  },
  {
   "cell_type": "code",
   "execution_count": 73,
   "metadata": {
    "scrolled": true
   },
   "outputs": [
    {
     "data": {
      "text/plain": [
       "movie_id              0\n",
       "primary_title         0\n",
       "start_year            0\n",
       "runtime_minutes    7620\n",
       "genres              804\n",
       "rating                0\n",
       "number_votes          0\n",
       "dtype: int64"
      ]
     },
     "execution_count": 73,
     "metadata": {},
     "output_type": "execute_result"
    }
   ],
   "source": [
    "#I look for the duplicate values in the movie_rate\n",
    "movie_rate.isna().sum()"
   ]
  },
  {
   "cell_type": "code",
   "execution_count": 74,
   "metadata": {},
   "outputs": [
    {
     "data": {
      "text/plain": [
       "genres                     \n",
       "Drama                          11612\n",
       "Documentary                    10313\n",
       "Comedy                          5613\n",
       "Horror                          2692\n",
       "Comedy,Drama                    2617\n",
       "                               ...  \n",
       "Adventure,Animation,History        1\n",
       "History,Romance,War                1\n",
       "Comedy,Fantasy,Mystery             1\n",
       "Comedy,Fantasy,Sport               1\n",
       "Comedy,Documentary,Western         1\n",
       "Length: 923, dtype: int64"
      ]
     },
     "execution_count": 74,
     "metadata": {},
     "output_type": "execute_result"
    }
   ],
   "source": [
    "#I lookat the frequency of each genre of the movie_rate\n",
    "\n",
    "movie_rate[['genres']].value_counts()"
   ]
  },
  {
   "cell_type": "markdown",
   "metadata": {},
   "source": [
    "#### Above, I explotred the IMDB and examine its the tables in order to get fundamental findings of the IMDB.  \n",
    "---\n",
    "Although it contains 5 tables, I only considere the tables ***movie_basics and movie_ratings*** that seem the most relevant for the analyses.  \n",
    "Since the goal is to find the best movie(films) at the box office, I join them and store the result in the table ***movie_rate*** to deeper the analyses.\n",
    "\n",
    "\n",
    "And now, this is the time to explore the CSV datasets to see how they can be meaningful"
   ]
  },
  {
   "cell_type": "markdown",
   "metadata": {},
   "source": [
    "### 2. overview of the csv datasets\n",
    "---\n",
    "\n",
    "####  As we are going deeper in our Data undestanding, below I explore orther datasets besides tables of IMDB.   \n",
    "Consequently, so much important fidings are exhibited bellow, so we will notice that :\n",
    "1. **movie_gross** contains informations about revenus earning the films at the box office, that means this is the main source for box office revenue\n",
    "2. **movie_budget**  tracks not only box office revenue but also the production budgets of each movie."
   ]
  },
  {
   "cell_type": "markdown",
   "metadata": {},
   "source": [
    "#### 1. movie_gross DataFrame"
   ]
  },
  {
   "cell_type": "code",
   "execution_count": 75,
   "metadata": {
    "scrolled": true
   },
   "outputs": [
    {
     "data": {
      "text/html": [
       "<div>\n",
       "<style scoped>\n",
       "    .dataframe tbody tr th:only-of-type {\n",
       "        vertical-align: middle;\n",
       "    }\n",
       "\n",
       "    .dataframe tbody tr th {\n",
       "        vertical-align: top;\n",
       "    }\n",
       "\n",
       "    .dataframe thead th {\n",
       "        text-align: right;\n",
       "    }\n",
       "</style>\n",
       "<table border=\"1\" class=\"dataframe\">\n",
       "  <thead>\n",
       "    <tr style=\"text-align: right;\">\n",
       "      <th></th>\n",
       "      <th>title</th>\n",
       "      <th>studio</th>\n",
       "      <th>domestic_gross</th>\n",
       "      <th>foreign_gross</th>\n",
       "      <th>year</th>\n",
       "    </tr>\n",
       "  </thead>\n",
       "  <tbody>\n",
       "    <tr>\n",
       "      <th>0</th>\n",
       "      <td>Toy Story 3</td>\n",
       "      <td>BV</td>\n",
       "      <td>415000000.0</td>\n",
       "      <td>652000000</td>\n",
       "      <td>2010</td>\n",
       "    </tr>\n",
       "    <tr>\n",
       "      <th>1</th>\n",
       "      <td>Alice in Wonderland (2010)</td>\n",
       "      <td>BV</td>\n",
       "      <td>334200000.0</td>\n",
       "      <td>691300000</td>\n",
       "      <td>2010</td>\n",
       "    </tr>\n",
       "    <tr>\n",
       "      <th>2</th>\n",
       "      <td>Harry Potter and the Deathly Hallows Part 1</td>\n",
       "      <td>WB</td>\n",
       "      <td>296000000.0</td>\n",
       "      <td>664300000</td>\n",
       "      <td>2010</td>\n",
       "    </tr>\n",
       "    <tr>\n",
       "      <th>3</th>\n",
       "      <td>Inception</td>\n",
       "      <td>WB</td>\n",
       "      <td>292600000.0</td>\n",
       "      <td>535700000</td>\n",
       "      <td>2010</td>\n",
       "    </tr>\n",
       "    <tr>\n",
       "      <th>4</th>\n",
       "      <td>Shrek Forever After</td>\n",
       "      <td>P/DW</td>\n",
       "      <td>238700000.0</td>\n",
       "      <td>513900000</td>\n",
       "      <td>2010</td>\n",
       "    </tr>\n",
       "    <tr>\n",
       "      <th>5</th>\n",
       "      <td>The Twilight Saga: Eclipse</td>\n",
       "      <td>Sum.</td>\n",
       "      <td>300500000.0</td>\n",
       "      <td>398000000</td>\n",
       "      <td>2010</td>\n",
       "    </tr>\n",
       "    <tr>\n",
       "      <th>6</th>\n",
       "      <td>Iron Man 2</td>\n",
       "      <td>Par.</td>\n",
       "      <td>312400000.0</td>\n",
       "      <td>311500000</td>\n",
       "      <td>2010</td>\n",
       "    </tr>\n",
       "    <tr>\n",
       "      <th>7</th>\n",
       "      <td>Tangled</td>\n",
       "      <td>BV</td>\n",
       "      <td>200800000.0</td>\n",
       "      <td>391000000</td>\n",
       "      <td>2010</td>\n",
       "    </tr>\n",
       "    <tr>\n",
       "      <th>8</th>\n",
       "      <td>Despicable Me</td>\n",
       "      <td>Uni.</td>\n",
       "      <td>251500000.0</td>\n",
       "      <td>291600000</td>\n",
       "      <td>2010</td>\n",
       "    </tr>\n",
       "    <tr>\n",
       "      <th>9</th>\n",
       "      <td>How to Train Your Dragon</td>\n",
       "      <td>P/DW</td>\n",
       "      <td>217600000.0</td>\n",
       "      <td>277300000</td>\n",
       "      <td>2010</td>\n",
       "    </tr>\n",
       "  </tbody>\n",
       "</table>\n",
       "</div>"
      ],
      "text/plain": [
       "                                         title studio  domestic_gross  \\\n",
       "0                                  Toy Story 3     BV     415000000.0   \n",
       "1                   Alice in Wonderland (2010)     BV     334200000.0   \n",
       "2  Harry Potter and the Deathly Hallows Part 1     WB     296000000.0   \n",
       "3                                    Inception     WB     292600000.0   \n",
       "4                          Shrek Forever After   P/DW     238700000.0   \n",
       "5                   The Twilight Saga: Eclipse   Sum.     300500000.0   \n",
       "6                                   Iron Man 2   Par.     312400000.0   \n",
       "7                                      Tangled     BV     200800000.0   \n",
       "8                                Despicable Me   Uni.     251500000.0   \n",
       "9                     How to Train Your Dragon   P/DW     217600000.0   \n",
       "\n",
       "  foreign_gross  year  \n",
       "0     652000000  2010  \n",
       "1     691300000  2010  \n",
       "2     664300000  2010  \n",
       "3     535700000  2010  \n",
       "4     513900000  2010  \n",
       "5     398000000  2010  \n",
       "6     311500000  2010  \n",
       "7     391000000  2010  \n",
       "8     291600000  2010  \n",
       "9     277300000  2010  "
      ]
     },
     "execution_count": 75,
     "metadata": {},
     "output_type": "execute_result"
    }
   ],
   "source": [
    "# I display the movie_gross dataFrame\n",
    "movie_gross.head(10)"
   ]
  },
  {
   "cell_type": "code",
   "execution_count": 76,
   "metadata": {},
   "outputs": [
    {
     "data": {
      "text/plain": [
       "0               BV\n",
       "1               BV\n",
       "2               WB\n",
       "3               WB\n",
       "4             P/DW\n",
       "           ...    \n",
       "3382         Magn.\n",
       "3383            FM\n",
       "3384          Sony\n",
       "3385    Synergetic\n",
       "3386         Grav.\n",
       "Name: studio, Length: 3387, dtype: object"
      ]
     },
     "execution_count": 76,
     "metadata": {},
     "output_type": "execute_result"
    }
   ],
   "source": [
    "# I look at the studio column\n",
    "movie_gross.studio"
   ]
  },
  {
   "cell_type": "code",
   "execution_count": 77,
   "metadata": {},
   "outputs": [
    {
     "data": {
      "text/plain": [
       "(3387, 5)"
      ]
     },
     "execution_count": 77,
     "metadata": {},
     "output_type": "execute_result"
    }
   ],
   "source": [
    "# The dimension of the movie_budget\n",
    "movie_gross.shape"
   ]
  },
  {
   "cell_type": "code",
   "execution_count": 78,
   "metadata": {},
   "outputs": [
    {
     "data": {
      "text/plain": [
       "title                0\n",
       "studio               5\n",
       "domestic_gross      28\n",
       "foreign_gross     1350\n",
       "year                 0\n",
       "dtype: int64"
      ]
     },
     "execution_count": 78,
     "metadata": {},
     "output_type": "execute_result"
    }
   ],
   "source": [
    "# Identify missing values\n",
    "movie_gross.isna().sum()"
   ]
  },
  {
   "cell_type": "code",
   "execution_count": 79,
   "metadata": {},
   "outputs": [
    {
     "data": {
      "text/plain": [
       "0"
      ]
     },
     "execution_count": 79,
     "metadata": {},
     "output_type": "execute_result"
    }
   ],
   "source": [
    "# Identify duplicates values\n",
    "movie_gross.duplicated().sum()"
   ]
  },
  {
   "cell_type": "code",
   "execution_count": 80,
   "metadata": {},
   "outputs": [
    {
     "data": {
      "text/plain": [
       "title              object\n",
       "studio             object\n",
       "domestic_gross    float64\n",
       "foreign_gross      object\n",
       "year                int64\n",
       "dtype: object"
      ]
     },
     "execution_count": 80,
     "metadata": {},
     "output_type": "execute_result"
    }
   ],
   "source": [
    "# Identify duplicates values\n",
    "movie_gross.dtypes"
   ]
  },
  {
   "cell_type": "code",
   "execution_count": 81,
   "metadata": {},
   "outputs": [
    {
     "data": {
      "text/html": [
       "<div>\n",
       "<style scoped>\n",
       "    .dataframe tbody tr th:only-of-type {\n",
       "        vertical-align: middle;\n",
       "    }\n",
       "\n",
       "    .dataframe tbody tr th {\n",
       "        vertical-align: top;\n",
       "    }\n",
       "\n",
       "    .dataframe thead th {\n",
       "        text-align: right;\n",
       "    }\n",
       "</style>\n",
       "<table border=\"1\" class=\"dataframe\">\n",
       "  <thead>\n",
       "    <tr style=\"text-align: right;\">\n",
       "      <th></th>\n",
       "      <th>domestic_gross</th>\n",
       "      <th>year</th>\n",
       "    </tr>\n",
       "  </thead>\n",
       "  <tbody>\n",
       "    <tr>\n",
       "      <th>count</th>\n",
       "      <td>3.359000e+03</td>\n",
       "      <td>3387.000000</td>\n",
       "    </tr>\n",
       "    <tr>\n",
       "      <th>mean</th>\n",
       "      <td>2.874585e+07</td>\n",
       "      <td>2013.958075</td>\n",
       "    </tr>\n",
       "    <tr>\n",
       "      <th>std</th>\n",
       "      <td>6.698250e+07</td>\n",
       "      <td>2.478141</td>\n",
       "    </tr>\n",
       "    <tr>\n",
       "      <th>min</th>\n",
       "      <td>1.000000e+02</td>\n",
       "      <td>2010.000000</td>\n",
       "    </tr>\n",
       "    <tr>\n",
       "      <th>25%</th>\n",
       "      <td>1.200000e+05</td>\n",
       "      <td>2012.000000</td>\n",
       "    </tr>\n",
       "    <tr>\n",
       "      <th>50%</th>\n",
       "      <td>1.400000e+06</td>\n",
       "      <td>2014.000000</td>\n",
       "    </tr>\n",
       "    <tr>\n",
       "      <th>75%</th>\n",
       "      <td>2.790000e+07</td>\n",
       "      <td>2016.000000</td>\n",
       "    </tr>\n",
       "    <tr>\n",
       "      <th>max</th>\n",
       "      <td>9.367000e+08</td>\n",
       "      <td>2018.000000</td>\n",
       "    </tr>\n",
       "  </tbody>\n",
       "</table>\n",
       "</div>"
      ],
      "text/plain": [
       "       domestic_gross         year\n",
       "count    3.359000e+03  3387.000000\n",
       "mean     2.874585e+07  2013.958075\n",
       "std      6.698250e+07     2.478141\n",
       "min      1.000000e+02  2010.000000\n",
       "25%      1.200000e+05  2012.000000\n",
       "50%      1.400000e+06  2014.000000\n",
       "75%      2.790000e+07  2016.000000\n",
       "max      9.367000e+08  2018.000000"
      ]
     },
     "execution_count": 81,
     "metadata": {},
     "output_type": "execute_result"
    }
   ],
   "source": [
    "# A brief summary statistics of numerical variables of movie_gross\n",
    "movie_gross.describe()"
   ]
  },
  {
   "cell_type": "markdown",
   "metadata": {},
   "source": [
    "#### 2. movie_budget DataFrame"
   ]
  },
  {
   "cell_type": "code",
   "execution_count": 82,
   "metadata": {
    "scrolled": true
   },
   "outputs": [
    {
     "data": {
      "text/html": [
       "<div>\n",
       "<style scoped>\n",
       "    .dataframe tbody tr th:only-of-type {\n",
       "        vertical-align: middle;\n",
       "    }\n",
       "\n",
       "    .dataframe tbody tr th {\n",
       "        vertical-align: top;\n",
       "    }\n",
       "\n",
       "    .dataframe thead th {\n",
       "        text-align: right;\n",
       "    }\n",
       "</style>\n",
       "<table border=\"1\" class=\"dataframe\">\n",
       "  <thead>\n",
       "    <tr style=\"text-align: right;\">\n",
       "      <th></th>\n",
       "      <th>id</th>\n",
       "      <th>release_date</th>\n",
       "      <th>movie</th>\n",
       "      <th>production_budget</th>\n",
       "      <th>domestic_gross</th>\n",
       "      <th>worldwide_gross</th>\n",
       "    </tr>\n",
       "  </thead>\n",
       "  <tbody>\n",
       "    <tr>\n",
       "      <th>0</th>\n",
       "      <td>1</td>\n",
       "      <td>Dec 18, 2009</td>\n",
       "      <td>Avatar</td>\n",
       "      <td>$425,000,000</td>\n",
       "      <td>$760,507,625</td>\n",
       "      <td>$2,776,345,279</td>\n",
       "    </tr>\n",
       "    <tr>\n",
       "      <th>1</th>\n",
       "      <td>2</td>\n",
       "      <td>May 20, 2011</td>\n",
       "      <td>Pirates of the Caribbean: On Stranger Tides</td>\n",
       "      <td>$410,600,000</td>\n",
       "      <td>$241,063,875</td>\n",
       "      <td>$1,045,663,875</td>\n",
       "    </tr>\n",
       "    <tr>\n",
       "      <th>2</th>\n",
       "      <td>3</td>\n",
       "      <td>Jun 7, 2019</td>\n",
       "      <td>Dark Phoenix</td>\n",
       "      <td>$350,000,000</td>\n",
       "      <td>$42,762,350</td>\n",
       "      <td>$149,762,350</td>\n",
       "    </tr>\n",
       "    <tr>\n",
       "      <th>3</th>\n",
       "      <td>4</td>\n",
       "      <td>May 1, 2015</td>\n",
       "      <td>Avengers: Age of Ultron</td>\n",
       "      <td>$330,600,000</td>\n",
       "      <td>$459,005,868</td>\n",
       "      <td>$1,403,013,963</td>\n",
       "    </tr>\n",
       "    <tr>\n",
       "      <th>4</th>\n",
       "      <td>5</td>\n",
       "      <td>Dec 15, 2017</td>\n",
       "      <td>Star Wars Ep. VIII: The Last Jedi</td>\n",
       "      <td>$317,000,000</td>\n",
       "      <td>$620,181,382</td>\n",
       "      <td>$1,316,721,747</td>\n",
       "    </tr>\n",
       "    <tr>\n",
       "      <th>5</th>\n",
       "      <td>6</td>\n",
       "      <td>Dec 18, 2015</td>\n",
       "      <td>Star Wars Ep. VII: The Force Awakens</td>\n",
       "      <td>$306,000,000</td>\n",
       "      <td>$936,662,225</td>\n",
       "      <td>$2,053,311,220</td>\n",
       "    </tr>\n",
       "    <tr>\n",
       "      <th>6</th>\n",
       "      <td>7</td>\n",
       "      <td>Apr 27, 2018</td>\n",
       "      <td>Avengers: Infinity War</td>\n",
       "      <td>$300,000,000</td>\n",
       "      <td>$678,815,482</td>\n",
       "      <td>$2,048,134,200</td>\n",
       "    </tr>\n",
       "    <tr>\n",
       "      <th>7</th>\n",
       "      <td>8</td>\n",
       "      <td>May 24, 2007</td>\n",
       "      <td>Pirates of the Caribbean: At Worldâs End</td>\n",
       "      <td>$300,000,000</td>\n",
       "      <td>$309,420,425</td>\n",
       "      <td>$963,420,425</td>\n",
       "    </tr>\n",
       "    <tr>\n",
       "      <th>8</th>\n",
       "      <td>9</td>\n",
       "      <td>Nov 17, 2017</td>\n",
       "      <td>Justice League</td>\n",
       "      <td>$300,000,000</td>\n",
       "      <td>$229,024,295</td>\n",
       "      <td>$655,945,209</td>\n",
       "    </tr>\n",
       "    <tr>\n",
       "      <th>9</th>\n",
       "      <td>10</td>\n",
       "      <td>Nov 6, 2015</td>\n",
       "      <td>Spectre</td>\n",
       "      <td>$300,000,000</td>\n",
       "      <td>$200,074,175</td>\n",
       "      <td>$879,620,923</td>\n",
       "    </tr>\n",
       "  </tbody>\n",
       "</table>\n",
       "</div>"
      ],
      "text/plain": [
       "   id  release_date                                        movie  \\\n",
       "0   1  Dec 18, 2009                                       Avatar   \n",
       "1   2  May 20, 2011  Pirates of the Caribbean: On Stranger Tides   \n",
       "2   3   Jun 7, 2019                                 Dark Phoenix   \n",
       "3   4   May 1, 2015                      Avengers: Age of Ultron   \n",
       "4   5  Dec 15, 2017            Star Wars Ep. VIII: The Last Jedi   \n",
       "5   6  Dec 18, 2015         Star Wars Ep. VII: The Force Awakens   \n",
       "6   7  Apr 27, 2018                       Avengers: Infinity War   \n",
       "7   8  May 24, 2007   Pirates of the Caribbean: At Worldâs End   \n",
       "8   9  Nov 17, 2017                               Justice League   \n",
       "9  10   Nov 6, 2015                                      Spectre   \n",
       "\n",
       "  production_budget domestic_gross worldwide_gross  \n",
       "0      $425,000,000   $760,507,625  $2,776,345,279  \n",
       "1      $410,600,000   $241,063,875  $1,045,663,875  \n",
       "2      $350,000,000    $42,762,350    $149,762,350  \n",
       "3      $330,600,000   $459,005,868  $1,403,013,963  \n",
       "4      $317,000,000   $620,181,382  $1,316,721,747  \n",
       "5      $306,000,000   $936,662,225  $2,053,311,220  \n",
       "6      $300,000,000   $678,815,482  $2,048,134,200  \n",
       "7      $300,000,000   $309,420,425    $963,420,425  \n",
       "8      $300,000,000   $229,024,295    $655,945,209  \n",
       "9      $300,000,000   $200,074,175    $879,620,923  "
      ]
     },
     "execution_count": 82,
     "metadata": {},
     "output_type": "execute_result"
    }
   ],
   "source": [
    "# I display the movie_budget\n",
    "movie_budget.head(10)"
   ]
  },
  {
   "cell_type": "code",
   "execution_count": 83,
   "metadata": {},
   "outputs": [
    {
     "data": {
      "text/plain": [
       "(5782, 6)"
      ]
     },
     "execution_count": 83,
     "metadata": {},
     "output_type": "execute_result"
    }
   ],
   "source": [
    "# The dimension of the movie_budget\n",
    "movie_budget.shape"
   ]
  },
  {
   "cell_type": "code",
   "execution_count": 84,
   "metadata": {},
   "outputs": [
    {
     "data": {
      "text/plain": [
       "id                   0\n",
       "release_date         0\n",
       "movie                0\n",
       "production_budget    0\n",
       "domestic_gross       0\n",
       "worldwide_gross      0\n",
       "dtype: int64"
      ]
     },
     "execution_count": 84,
     "metadata": {},
     "output_type": "execute_result"
    }
   ],
   "source": [
    "# Identify columns that contains missing values\n",
    "movie_budget.isna().sum()"
   ]
  },
  {
   "cell_type": "code",
   "execution_count": 85,
   "metadata": {},
   "outputs": [
    {
     "data": {
      "text/plain": [
       "0"
      ]
     },
     "execution_count": 85,
     "metadata": {},
     "output_type": "execute_result"
    }
   ],
   "source": [
    "# Identify columns that contains duplicate values\n",
    "movie_budget.duplicated().sum()"
   ]
  },
  {
   "cell_type": "code",
   "execution_count": 86,
   "metadata": {
    "scrolled": false
   },
   "outputs": [
    {
     "data": {
      "text/plain": [
       "id                    int64\n",
       "release_date         object\n",
       "movie                object\n",
       "production_budget    object\n",
       "domestic_gross       object\n",
       "worldwide_gross      object\n",
       "dtype: object"
      ]
     },
     "execution_count": 86,
     "metadata": {},
     "output_type": "execute_result"
    }
   ],
   "source": [
    "# Identify the types of each columns(variables) movie_buget\n",
    "movie_budget.dtypes"
   ]
  },
  {
   "cell_type": "markdown",
   "metadata": {},
   "source": [
    "#### As we have seen, I explore the tables meticulously to get quick findings from them, we can observe that :\n",
    "**movie_gross** contains informations about revenus earning by the films, that means this table is the main source for box office revenue.  \n",
    "Moreover, it shows that the average domestic gross earns by filmsis 2.874585e+07 $.\n",
    "\n",
    "All of thoses tables shown above are really important for the analyses. So far, we had quick findings of them.  \n",
    "Howerver, they should be prepared in order to do the most relevant analysis.  \n",
    "So, in the next step, I will dive into the **Data Preparation** in order to prepare correctly the data for the analysis and results."
   ]
  },
  {
   "cell_type": "markdown",
   "metadata": {},
   "source": [
    "## Data Preparation\n",
    "---\n",
    " Here we go !\n",
    " Now I'm about to prepare the data for analysis. As I've seen above, all the DataFrames, needs being cleaned. In fact, they contains \n",
    "- many columns with missing values\n",
    "- columns with inapproriate datatypes\n",
    "- columns with miswritten category, and so on.  \n",
    "\n",
    "As a result, Through the process of preparing the Data, I'm going to do the :\n",
    " \n",
    " 1. ### Data cleaning\n",
    "     - #### Deal with columns\n",
    "     - #### Handle missing values\n",
    " 2. ### Feature Engineering\n",
    " 3. ### Merging DataFrames"
   ]
  },
  {
   "cell_type": "markdown",
   "metadata": {},
   "source": [
    "### 1. Data cleaning\n",
    "\n",
    "\n",
    "#### Deal with columns properly \n",
    "\n",
    "Here we are going to focus on each columns in order to **keep** or to **drop** with the `.Drop()` method\n",
    "\n",
    "Then, i'm going to :\n",
    "- #### Drop less useful columns for this analysis\n",
    "- #### Use appropriate name for each columns\n",
    "- #### change the data type of columns if necessary"
   ]
  },
  {
   "cell_type": "markdown",
   "metadata": {},
   "source": [
    "#### Missing values in the movie_gross table"
   ]
  },
  {
   "cell_type": "code",
   "execution_count": 87,
   "metadata": {
    "scrolled": true
   },
   "outputs": [
    {
     "data": {
      "text/plain": [
       "title             0\n",
       "studio            0\n",
       "domestic_gross    0\n",
       "foreign_gross     0\n",
       "year              0\n",
       "dtype: int64"
      ]
     },
     "execution_count": 87,
     "metadata": {},
     "output_type": "execute_result"
    }
   ],
   "source": [
    "\n",
    "# Step 0: Define the characters/strings that should be considered as missing\n",
    "missing_values = [\"\", \" \", \"?\", \"NA\", \"N/A\", \"n/a\", \"na\", \"null\", \"None\", \n",
    "                  \"NONE\", \"Null\", \"unknown\", \"Unknown\", \"UNKNOWN\", \"UN\", \"—\", \"-\"]\n",
    "\n",
    "# Step 1: Replace all known \"missing value\" strings with np.nan in the whole DataFrame\n",
    "movie_gross = movie_gross.replace(missing_values, np.nan)\n",
    "\n",
    "# Step 2: Remove non-numeric characters ($, commas, spaces, etc.) from numerical columns\n",
    "for col in ['domestic_gross', 'foreign_gross']:\n",
    "    movie_gross[col] = movie_gross[col].astype(str).replace(r'[\\$,]', '', regex=True)\n",
    "    \n",
    "    # Step 3: Convert to numeric\n",
    "    movie_gross[col] = pd.to_numeric(movie_gross[col], errors='coerce')\n",
    "    \n",
    "    # Step 4: Fill missing values in numerical columns with their\n",
    "    median_val = movie_gross[col].median(skipna=True)\n",
    "    movie_gross[col].fillna(median_val, inplace=True)\n",
    "    \n",
    "# Step 2: deal with missing values in categorical variables\n",
    "    \n",
    "# Standardize missing-like strings and impute with mode\n",
    "for col in ['title', 'studio'] :\n",
    "    \n",
    "    # Replace custom missing strings with np.nan\n",
    "    movie_gross[col] = movie_gross[col].replace(missing_values , np.nan)\n",
    "    \n",
    "    # Fill missing values with the mode of the column\n",
    "    mode_mgross = movie_gross[col].mode()[0]\n",
    "    movie_gross[col] = movie_gross[col].fillna(mode_mgross)  \n",
    "   \n",
    "    \n",
    "movie_gross.isna().sum()"
   ]
  },
  {
   "cell_type": "markdown",
   "metadata": {},
   "source": [
    "#### Missing values in the movie_rate table"
   ]
  },
  {
   "cell_type": "code",
   "execution_count": 88,
   "metadata": {
    "scrolled": true
   },
   "outputs": [
    {
     "data": {
      "text/plain": [
       "movie_id           0\n",
       "primary_title      0\n",
       "start_year         0\n",
       "runtime_minutes    0\n",
       "genres             0\n",
       "rating             0\n",
       "number_votes       0\n",
       "dtype: int64"
      ]
     },
     "execution_count": 88,
     "metadata": {},
     "output_type": "execute_result"
    }
   ],
   "source": [
    "# Dealing with missing values!\n",
    "\n",
    "# Categorical variables\n",
    "\n",
    "# first im going to identify missing value \n",
    "cols_mrate = ['primary_title', 'genres']\n",
    "missing_mrate = ['UNK','Unknown','UNKNOWN','Unavailable','None', 'Unk',\n",
    "                  'MISSING','Missing' ,'NONE','N/A','NaN', 'nan', '?' ]\n",
    "\n",
    "# Standardize missing-like strings and impute with mode\n",
    "for col in cols_mrate :   \n",
    "    movie_rate[col] = movie_rate[col].replace(missing_mrate , np.nan)\n",
    "    \n",
    "    # Fill missing values with the mode of the column\n",
    "    mode_mrate = movie_rate[col].mode()[0]\n",
    "    movie_rate[col] = movie_rate[col].fillna(mode_mrate)\n",
    "    \n",
    "# numerical variables\n",
    "# Convert to numeric, coerce invalid values to NaN\n",
    "movie_rate['runtime_minutes'] = pd.to_numeric(movie_rate['runtime_minutes'], errors='coerce')\n",
    "\n",
    "# Compute median (excluding NaN) # Fill NaNs with the median value\n",
    "median_runtime = movie_rate['runtime_minutes'].median()\n",
    "movie_rate['runtime_minutes'] =movie_rate['runtime_minutes'].fillna(median_runtime)\n",
    "\n",
    "# Ensure type stays float.\n",
    "movie_rate['runtime_minutes'] = movie_rate['runtime_minutes'].astype(float)\n",
    "\n",
    "    \n",
    "# To show the amount of missing values\n",
    "movie_rate.isna().sum()"
   ]
  },
  {
   "cell_type": "markdown",
   "metadata": {},
   "source": [
    "#### Missing values in the movie_budget table"
   ]
  },
  {
   "cell_type": "code",
   "execution_count": 89,
   "metadata": {},
   "outputs": [
    {
     "data": {
      "text/plain": [
       "id                   0\n",
       "release_date         0\n",
       "movie                0\n",
       "production_budget    0\n",
       "domestic_gross       0\n",
       "worldwide_gross      0\n",
       "dtype: int64"
      ]
     },
     "execution_count": 89,
     "metadata": {},
     "output_type": "execute_result"
    }
   ],
   "source": [
    "\n",
    "# Step 0: Define known \"missing value\" indicators\n",
    "missing_values = [\"\", \" \", \"?\", \"NA\", \"N/A\", \"n/a\", \"na\", \"null\", \"None\", \"NONE\", \"Null\", \n",
    "                  \"unknown\", \"Unknown\", \"UNKNOWN\", \"UN\", \"—\", \"-\"]\n",
    "\n",
    "# Step 1: Replace all known missing value indicators with NaN\n",
    "movie_budget = movie_budget.replace(missing_values, np.nan)\n",
    "\n",
    "# Step 2: Clean non-numeric characters ($, commas) from numeric columns\n",
    "for col in ['production_budget', 'domestic_gross', 'worldwide_gross']:\n",
    "    movie_budget[col] = movie_budget[col].astype(str).replace(r'[\\$,]', '', regex=True)\n",
    "    movie_budget[col] = pd.to_numeric(movie_budget[col], errors='coerce')\n",
    "    \n",
    "    # Fill missing values with median of each column\n",
    "    median_val = movie_budget[col].median(skipna=True)\n",
    "    movie_budget[col].fillna(median_val, inplace=True)\n",
    "      \n",
    "# Drop null values in my movie column\n",
    "movie_budget = movie_budget.dropna(subset=['movie'])\n",
    "    \n",
    "movie_budget.isna().sum()"
   ]
  },
  {
   "cell_type": "markdown",
   "metadata": {},
   "source": [
    "#### Clean columns :\n",
    "Here I clean columns' name of each table in order to standardized them for merging "
   ]
  },
  {
   "cell_type": "code",
   "execution_count": 90,
   "metadata": {},
   "outputs": [],
   "source": [
    "# I clean the titles\n",
    "\n",
    "def clean_title(title):\n",
    "    return (\n",
    "        str(title)\n",
    "        .lower()\n",
    "        .strip()\n",
    "        .replace(\":\", \"\")\n",
    "        .replace(\"-\", \"\")\n",
    "        .replace(\"’\", \"\")\n",
    "        .replace(\"'\", \"\")\n",
    "        .replace(\",\", \"\")\n",
    "    )\n",
    "\n",
    "movie_rate['primary_title'] = movie_rate['primary_title'].apply(clean_title)\n",
    "movie_budget['title_movie'] = movie_budget['movie'].apply(clean_title)\n",
    "movie_gross['title'] = movie_gross['title'].apply(clean_title)\n"
   ]
  },
  {
   "cell_type": "markdown",
   "metadata": {},
   "source": [
    "### 2. Feature Engineering"
   ]
  },
  {
   "cell_type": "markdown",
   "metadata": {},
   "source": [
    "In this section, we apply some computation on some columns to make the datasets more appropriate for analysis"
   ]
  },
  {
   "cell_type": "code",
   "execution_count": 91,
   "metadata": {},
   "outputs": [
    {
     "data": {
      "text/html": [
       "<div>\n",
       "<style scoped>\n",
       "    .dataframe tbody tr th:only-of-type {\n",
       "        vertical-align: middle;\n",
       "    }\n",
       "\n",
       "    .dataframe tbody tr th {\n",
       "        vertical-align: top;\n",
       "    }\n",
       "\n",
       "    .dataframe thead th {\n",
       "        text-align: right;\n",
       "    }\n",
       "</style>\n",
       "<table border=\"1\" class=\"dataframe\">\n",
       "  <thead>\n",
       "    <tr style=\"text-align: right;\">\n",
       "      <th></th>\n",
       "      <th>id</th>\n",
       "      <th>release_date</th>\n",
       "      <th>movie</th>\n",
       "      <th>production_budget</th>\n",
       "      <th>domestic_gross</th>\n",
       "      <th>worldwide_gross</th>\n",
       "      <th>title_movie</th>\n",
       "      <th>release_year</th>\n",
       "      <th>release_month</th>\n",
       "    </tr>\n",
       "  </thead>\n",
       "  <tbody>\n",
       "    <tr>\n",
       "      <th>0</th>\n",
       "      <td>1</td>\n",
       "      <td>2009-12-18</td>\n",
       "      <td>Avatar</td>\n",
       "      <td>425000000</td>\n",
       "      <td>760507625</td>\n",
       "      <td>2776345279</td>\n",
       "      <td>avatar</td>\n",
       "      <td>2009</td>\n",
       "      <td>12</td>\n",
       "    </tr>\n",
       "    <tr>\n",
       "      <th>1</th>\n",
       "      <td>2</td>\n",
       "      <td>2011-05-20</td>\n",
       "      <td>Pirates of the Caribbean: On Stranger Tides</td>\n",
       "      <td>410600000</td>\n",
       "      <td>241063875</td>\n",
       "      <td>1045663875</td>\n",
       "      <td>pirates of the caribbean on stranger tides</td>\n",
       "      <td>2011</td>\n",
       "      <td>5</td>\n",
       "    </tr>\n",
       "    <tr>\n",
       "      <th>2</th>\n",
       "      <td>3</td>\n",
       "      <td>2019-06-07</td>\n",
       "      <td>Dark Phoenix</td>\n",
       "      <td>350000000</td>\n",
       "      <td>42762350</td>\n",
       "      <td>149762350</td>\n",
       "      <td>dark phoenix</td>\n",
       "      <td>2019</td>\n",
       "      <td>6</td>\n",
       "    </tr>\n",
       "    <tr>\n",
       "      <th>3</th>\n",
       "      <td>4</td>\n",
       "      <td>2015-05-01</td>\n",
       "      <td>Avengers: Age of Ultron</td>\n",
       "      <td>330600000</td>\n",
       "      <td>459005868</td>\n",
       "      <td>1403013963</td>\n",
       "      <td>avengers age of ultron</td>\n",
       "      <td>2015</td>\n",
       "      <td>5</td>\n",
       "    </tr>\n",
       "    <tr>\n",
       "      <th>4</th>\n",
       "      <td>5</td>\n",
       "      <td>2017-12-15</td>\n",
       "      <td>Star Wars Ep. VIII: The Last Jedi</td>\n",
       "      <td>317000000</td>\n",
       "      <td>620181382</td>\n",
       "      <td>1316721747</td>\n",
       "      <td>star wars ep. viii the last jedi</td>\n",
       "      <td>2017</td>\n",
       "      <td>12</td>\n",
       "    </tr>\n",
       "  </tbody>\n",
       "</table>\n",
       "</div>"
      ],
      "text/plain": [
       "   id release_date                                        movie  \\\n",
       "0   1   2009-12-18                                       Avatar   \n",
       "1   2   2011-05-20  Pirates of the Caribbean: On Stranger Tides   \n",
       "2   3   2019-06-07                                 Dark Phoenix   \n",
       "3   4   2015-05-01                      Avengers: Age of Ultron   \n",
       "4   5   2017-12-15            Star Wars Ep. VIII: The Last Jedi   \n",
       "\n",
       "   production_budget  domestic_gross  worldwide_gross  \\\n",
       "0          425000000       760507625       2776345279   \n",
       "1          410600000       241063875       1045663875   \n",
       "2          350000000        42762350        149762350   \n",
       "3          330600000       459005868       1403013963   \n",
       "4          317000000       620181382       1316721747   \n",
       "\n",
       "                                  title_movie  release_year  release_month  \n",
       "0                                      avatar          2009             12  \n",
       "1  pirates of the caribbean on stranger tides          2011              5  \n",
       "2                                dark phoenix          2019              6  \n",
       "3                      avengers age of ultron          2015              5  \n",
       "4            star wars ep. viii the last jedi          2017             12  "
      ]
     },
     "execution_count": 91,
     "metadata": {},
     "output_type": "execute_result"
    }
   ],
   "source": [
    "# Extract the first genre before the first comma to make it primary genre\n",
    "movie_rate['primary_genre'] = movie_rate['genres'].str.split(',').str[0].str.strip().str.title()\n",
    "movie_rate.head()\n",
    "\n",
    "# Step 2: Create total_revenue as the sum of domestic and foreign gross\n",
    "movie_gross['total_revenue'] = movie_gross['domestic_gross'] + movie_gross['foreign_gross']\n",
    "movie_gross.head()\n",
    "\n",
    "# formalize the date columns\n",
    "movie_budget['release_date'] = pd.to_datetime(movie_budget['release_date'] )\n",
    "#movie_budget['release_day'] = movie_budget['release_date'].dt.day_name()\n",
    "movie_budget['release_year'] = movie_budget['release_date'].dt.year\n",
    "movie_budget['release_month'] = movie_budget['release_date'].dt.month\n",
    "\n",
    "movie_budget.head()"
   ]
  },
  {
   "cell_type": "code",
   "execution_count": 92,
   "metadata": {
    "scrolled": true
   },
   "outputs": [
    {
     "data": {
      "text/html": [
       "<div>\n",
       "<style scoped>\n",
       "    .dataframe tbody tr th:only-of-type {\n",
       "        vertical-align: middle;\n",
       "    }\n",
       "\n",
       "    .dataframe tbody tr th {\n",
       "        vertical-align: top;\n",
       "    }\n",
       "\n",
       "    .dataframe thead th {\n",
       "        text-align: right;\n",
       "    }\n",
       "</style>\n",
       "<table border=\"1\" class=\"dataframe\">\n",
       "  <thead>\n",
       "    <tr style=\"text-align: right;\">\n",
       "      <th></th>\n",
       "      <th>title_movie</th>\n",
       "      <th>production_budget</th>\n",
       "      <th>release_year</th>\n",
       "      <th>release_month</th>\n",
       "    </tr>\n",
       "  </thead>\n",
       "  <tbody>\n",
       "    <tr>\n",
       "      <th>0</th>\n",
       "      <td>avatar</td>\n",
       "      <td>425000000</td>\n",
       "      <td>2009</td>\n",
       "      <td>12</td>\n",
       "    </tr>\n",
       "    <tr>\n",
       "      <th>1</th>\n",
       "      <td>pirates of the caribbean on stranger tides</td>\n",
       "      <td>410600000</td>\n",
       "      <td>2011</td>\n",
       "      <td>5</td>\n",
       "    </tr>\n",
       "    <tr>\n",
       "      <th>2</th>\n",
       "      <td>dark phoenix</td>\n",
       "      <td>350000000</td>\n",
       "      <td>2019</td>\n",
       "      <td>6</td>\n",
       "    </tr>\n",
       "    <tr>\n",
       "      <th>3</th>\n",
       "      <td>avengers age of ultron</td>\n",
       "      <td>330600000</td>\n",
       "      <td>2015</td>\n",
       "      <td>5</td>\n",
       "    </tr>\n",
       "    <tr>\n",
       "      <th>4</th>\n",
       "      <td>star wars ep. viii the last jedi</td>\n",
       "      <td>317000000</td>\n",
       "      <td>2017</td>\n",
       "      <td>12</td>\n",
       "    </tr>\n",
       "  </tbody>\n",
       "</table>\n",
       "</div>"
      ],
      "text/plain": [
       "                                  title_movie  production_budget  \\\n",
       "0                                      avatar          425000000   \n",
       "1  pirates of the caribbean on stranger tides          410600000   \n",
       "2                                dark phoenix          350000000   \n",
       "3                      avengers age of ultron          330600000   \n",
       "4            star wars ep. viii the last jedi          317000000   \n",
       "\n",
       "   release_year  release_month  \n",
       "0          2009             12  \n",
       "1          2011              5  \n",
       "2          2019              6  \n",
       "3          2015              5  \n",
       "4          2017             12  "
      ]
     },
     "execution_count": 92,
     "metadata": {},
     "output_type": "execute_result"
    }
   ],
   "source": [
    "# i considere only the most relevant columns in the movie_table\n",
    "movie_budget = movie_budget.loc[:, ['title_movie', 'production_budget','release_year', 'release_month']]\n",
    "movie_budget.head()"
   ]
  },
  {
   "cell_type": "markdown",
   "metadata": {},
   "source": [
    "### 3. Merging DataFrames\n",
    "\n",
    "---\n",
    "\n",
    "##### In this section I merge the well clean DataFrames so that I can move to the Analysis step. Thus, I will merge  : \n",
    "\n",
    "1. movie_rate and movie_gross Dataframes as rate_gross\n",
    "\n",
    "2. movie_rate, movie_gross and movie_budget Dataframes as rate_gross_budget\n",
    "\n",
    "3.  Feature Engineering merging tables\n",
    "\n",
    "\n"
   ]
  },
  {
   "cell_type": "markdown",
   "metadata": {},
   "source": [
    "#### 1. Merging movie_rate and movie_gross"
   ]
  },
  {
   "cell_type": "code",
   "execution_count": 93,
   "metadata": {
    "scrolled": true
   },
   "outputs": [
    {
     "data": {
      "text/html": [
       "<div>\n",
       "<style scoped>\n",
       "    .dataframe tbody tr th:only-of-type {\n",
       "        vertical-align: middle;\n",
       "    }\n",
       "\n",
       "    .dataframe tbody tr th {\n",
       "        vertical-align: top;\n",
       "    }\n",
       "\n",
       "    .dataframe thead th {\n",
       "        text-align: right;\n",
       "    }\n",
       "</style>\n",
       "<table border=\"1\" class=\"dataframe\">\n",
       "  <thead>\n",
       "    <tr style=\"text-align: right;\">\n",
       "      <th></th>\n",
       "      <th>movie_id</th>\n",
       "      <th>primary_title</th>\n",
       "      <th>start_year</th>\n",
       "      <th>runtime_minutes</th>\n",
       "      <th>genres</th>\n",
       "      <th>rating</th>\n",
       "      <th>number_votes</th>\n",
       "      <th>primary_genre</th>\n",
       "      <th>title</th>\n",
       "      <th>studio</th>\n",
       "      <th>domestic_gross</th>\n",
       "      <th>foreign_gross</th>\n",
       "      <th>year</th>\n",
       "      <th>total_revenue</th>\n",
       "    </tr>\n",
       "  </thead>\n",
       "  <tbody>\n",
       "    <tr>\n",
       "      <th>0</th>\n",
       "      <td>tt0315642</td>\n",
       "      <td>wazir</td>\n",
       "      <td>2016</td>\n",
       "      <td>103.0</td>\n",
       "      <td>Action,Crime,Drama</td>\n",
       "      <td>7.1</td>\n",
       "      <td>15378</td>\n",
       "      <td>Action</td>\n",
       "      <td>wazir</td>\n",
       "      <td>Relbig.</td>\n",
       "      <td>1100000.0</td>\n",
       "      <td>18700000.0</td>\n",
       "      <td>2016</td>\n",
       "      <td>19800000.0</td>\n",
       "    </tr>\n",
       "    <tr>\n",
       "      <th>1</th>\n",
       "      <td>tt0337692</td>\n",
       "      <td>on the road</td>\n",
       "      <td>2012</td>\n",
       "      <td>124.0</td>\n",
       "      <td>Adventure,Drama,Romance</td>\n",
       "      <td>6.1</td>\n",
       "      <td>37886</td>\n",
       "      <td>Adventure</td>\n",
       "      <td>on the road</td>\n",
       "      <td>IFC</td>\n",
       "      <td>744000.0</td>\n",
       "      <td>8000000.0</td>\n",
       "      <td>2012</td>\n",
       "      <td>8744000.0</td>\n",
       "    </tr>\n",
       "    <tr>\n",
       "      <th>2</th>\n",
       "      <td>tt4339118</td>\n",
       "      <td>on the road</td>\n",
       "      <td>2014</td>\n",
       "      <td>89.0</td>\n",
       "      <td>Drama</td>\n",
       "      <td>6.0</td>\n",
       "      <td>6</td>\n",
       "      <td>Drama</td>\n",
       "      <td>on the road</td>\n",
       "      <td>IFC</td>\n",
       "      <td>744000.0</td>\n",
       "      <td>8000000.0</td>\n",
       "      <td>2012</td>\n",
       "      <td>8744000.0</td>\n",
       "    </tr>\n",
       "    <tr>\n",
       "      <th>3</th>\n",
       "      <td>tt5647250</td>\n",
       "      <td>on the road</td>\n",
       "      <td>2016</td>\n",
       "      <td>121.0</td>\n",
       "      <td>Drama</td>\n",
       "      <td>5.7</td>\n",
       "      <td>127</td>\n",
       "      <td>Drama</td>\n",
       "      <td>on the road</td>\n",
       "      <td>IFC</td>\n",
       "      <td>744000.0</td>\n",
       "      <td>8000000.0</td>\n",
       "      <td>2012</td>\n",
       "      <td>8744000.0</td>\n",
       "    </tr>\n",
       "    <tr>\n",
       "      <th>4</th>\n",
       "      <td>tt0359950</td>\n",
       "      <td>the secret life of walter mitty</td>\n",
       "      <td>2013</td>\n",
       "      <td>114.0</td>\n",
       "      <td>Adventure,Comedy,Drama</td>\n",
       "      <td>7.3</td>\n",
       "      <td>275300</td>\n",
       "      <td>Adventure</td>\n",
       "      <td>the secret life of walter mitty</td>\n",
       "      <td>Fox</td>\n",
       "      <td>58200000.0</td>\n",
       "      <td>129900000.0</td>\n",
       "      <td>2013</td>\n",
       "      <td>188100000.0</td>\n",
       "    </tr>\n",
       "  </tbody>\n",
       "</table>\n",
       "</div>"
      ],
      "text/plain": [
       "    movie_id                    primary_title  start_year  runtime_minutes  \\\n",
       "0  tt0315642                            wazir        2016            103.0   \n",
       "1  tt0337692                      on the road        2012            124.0   \n",
       "2  tt4339118                      on the road        2014             89.0   \n",
       "3  tt5647250                      on the road        2016            121.0   \n",
       "4  tt0359950  the secret life of walter mitty        2013            114.0   \n",
       "\n",
       "                    genres  rating  number_votes primary_genre  \\\n",
       "0       Action,Crime,Drama     7.1         15378        Action   \n",
       "1  Adventure,Drama,Romance     6.1         37886     Adventure   \n",
       "2                    Drama     6.0             6         Drama   \n",
       "3                    Drama     5.7           127         Drama   \n",
       "4   Adventure,Comedy,Drama     7.3        275300     Adventure   \n",
       "\n",
       "                             title   studio  domestic_gross  foreign_gross  \\\n",
       "0                            wazir  Relbig.       1100000.0     18700000.0   \n",
       "1                      on the road      IFC        744000.0      8000000.0   \n",
       "2                      on the road      IFC        744000.0      8000000.0   \n",
       "3                      on the road      IFC        744000.0      8000000.0   \n",
       "4  the secret life of walter mitty      Fox      58200000.0    129900000.0   \n",
       "\n",
       "   year  total_revenue  \n",
       "0  2016     19800000.0  \n",
       "1  2012      8744000.0  \n",
       "2  2012      8744000.0  \n",
       "3  2012      8744000.0  \n",
       "4  2013    188100000.0  "
      ]
     },
     "execution_count": 93,
     "metadata": {},
     "output_type": "execute_result"
    }
   ],
   "source": [
    "# I merge movie_gross with movie_rate table\n",
    "rate_gross = pd.merge(movie_rate, movie_gross, how = 'inner', left_on = 'primary_title', right_on = 'title')\n",
    "rate_gross.head() # Display the first 5 rows"
   ]
  },
  {
   "cell_type": "code",
   "execution_count": 94,
   "metadata": {},
   "outputs": [
    {
     "data": {
      "text/plain": [
       "(3166, 14)"
      ]
     },
     "execution_count": 94,
     "metadata": {},
     "output_type": "execute_result"
    }
   ],
   "source": [
    "# Look at the shape of the table\n",
    "rate_gross.shape"
   ]
  },
  {
   "cell_type": "code",
   "execution_count": 95,
   "metadata": {},
   "outputs": [
    {
     "data": {
      "text/html": [
       "<div>\n",
       "<style scoped>\n",
       "    .dataframe tbody tr th:only-of-type {\n",
       "        vertical-align: middle;\n",
       "    }\n",
       "\n",
       "    .dataframe tbody tr th {\n",
       "        vertical-align: top;\n",
       "    }\n",
       "\n",
       "    .dataframe thead th {\n",
       "        text-align: right;\n",
       "    }\n",
       "</style>\n",
       "<table border=\"1\" class=\"dataframe\">\n",
       "  <thead>\n",
       "    <tr style=\"text-align: right;\">\n",
       "      <th></th>\n",
       "      <th>movie_id</th>\n",
       "      <th>title</th>\n",
       "      <th>genres</th>\n",
       "      <th>primary_genre</th>\n",
       "      <th>studio</th>\n",
       "      <th>runtime_minutes</th>\n",
       "      <th>number_votes</th>\n",
       "      <th>rating</th>\n",
       "      <th>domestic_gross</th>\n",
       "      <th>foreign_gross</th>\n",
       "      <th>total_revenue</th>\n",
       "      <th>year</th>\n",
       "    </tr>\n",
       "  </thead>\n",
       "  <tbody>\n",
       "    <tr>\n",
       "      <th>0</th>\n",
       "      <td>tt0315642</td>\n",
       "      <td>wazir</td>\n",
       "      <td>Action,Crime,Drama</td>\n",
       "      <td>Action</td>\n",
       "      <td>Relbig.</td>\n",
       "      <td>103.0</td>\n",
       "      <td>15378</td>\n",
       "      <td>7.1</td>\n",
       "      <td>1100000.0</td>\n",
       "      <td>18700000.0</td>\n",
       "      <td>19800000.0</td>\n",
       "      <td>2016</td>\n",
       "    </tr>\n",
       "    <tr>\n",
       "      <th>1</th>\n",
       "      <td>tt0337692</td>\n",
       "      <td>on the road</td>\n",
       "      <td>Adventure,Drama,Romance</td>\n",
       "      <td>Adventure</td>\n",
       "      <td>IFC</td>\n",
       "      <td>124.0</td>\n",
       "      <td>37886</td>\n",
       "      <td>6.1</td>\n",
       "      <td>744000.0</td>\n",
       "      <td>8000000.0</td>\n",
       "      <td>8744000.0</td>\n",
       "      <td>2012</td>\n",
       "    </tr>\n",
       "    <tr>\n",
       "      <th>2</th>\n",
       "      <td>tt4339118</td>\n",
       "      <td>on the road</td>\n",
       "      <td>Drama</td>\n",
       "      <td>Drama</td>\n",
       "      <td>IFC</td>\n",
       "      <td>89.0</td>\n",
       "      <td>6</td>\n",
       "      <td>6.0</td>\n",
       "      <td>744000.0</td>\n",
       "      <td>8000000.0</td>\n",
       "      <td>8744000.0</td>\n",
       "      <td>2012</td>\n",
       "    </tr>\n",
       "    <tr>\n",
       "      <th>3</th>\n",
       "      <td>tt5647250</td>\n",
       "      <td>on the road</td>\n",
       "      <td>Drama</td>\n",
       "      <td>Drama</td>\n",
       "      <td>IFC</td>\n",
       "      <td>121.0</td>\n",
       "      <td>127</td>\n",
       "      <td>5.7</td>\n",
       "      <td>744000.0</td>\n",
       "      <td>8000000.0</td>\n",
       "      <td>8744000.0</td>\n",
       "      <td>2012</td>\n",
       "    </tr>\n",
       "    <tr>\n",
       "      <th>4</th>\n",
       "      <td>tt0359950</td>\n",
       "      <td>the secret life of walter mitty</td>\n",
       "      <td>Adventure,Comedy,Drama</td>\n",
       "      <td>Adventure</td>\n",
       "      <td>Fox</td>\n",
       "      <td>114.0</td>\n",
       "      <td>275300</td>\n",
       "      <td>7.3</td>\n",
       "      <td>58200000.0</td>\n",
       "      <td>129900000.0</td>\n",
       "      <td>188100000.0</td>\n",
       "      <td>2013</td>\n",
       "    </tr>\n",
       "  </tbody>\n",
       "</table>\n",
       "</div>"
      ],
      "text/plain": [
       "    movie_id                            title                   genres  \\\n",
       "0  tt0315642                            wazir       Action,Crime,Drama   \n",
       "1  tt0337692                      on the road  Adventure,Drama,Romance   \n",
       "2  tt4339118                      on the road                    Drama   \n",
       "3  tt5647250                      on the road                    Drama   \n",
       "4  tt0359950  the secret life of walter mitty   Adventure,Comedy,Drama   \n",
       "\n",
       "  primary_genre   studio  runtime_minutes  number_votes  rating  \\\n",
       "0        Action  Relbig.            103.0         15378     7.1   \n",
       "1     Adventure      IFC            124.0         37886     6.1   \n",
       "2         Drama      IFC             89.0             6     6.0   \n",
       "3         Drama      IFC            121.0           127     5.7   \n",
       "4     Adventure      Fox            114.0        275300     7.3   \n",
       "\n",
       "   domestic_gross  foreign_gross  total_revenue  year  \n",
       "0       1100000.0     18700000.0     19800000.0  2016  \n",
       "1        744000.0      8000000.0      8744000.0  2012  \n",
       "2        744000.0      8000000.0      8744000.0  2012  \n",
       "3        744000.0      8000000.0      8744000.0  2012  \n",
       "4      58200000.0    129900000.0    188100000.0  2013  "
      ]
     },
     "execution_count": 95,
     "metadata": {},
     "output_type": "execute_result"
    }
   ],
   "source": [
    "# made the columns of the table look more coherent\n",
    "\n",
    "cols_to_keep =['movie_id', 'title',  'genres', 'primary_genre','studio','runtime_minutes', 'number_votes',\n",
    "                'rating', 'domestic_gross', 'foreign_gross','total_revenue','year' ]\n",
    "\n",
    "# I chose to keep the most relevant and appropriate columns\n",
    "rate_gross = rate_gross.loc[:, cols_to_keep]\n",
    "rate_gross.head() "
   ]
  },
  {
   "cell_type": "markdown",
   "metadata": {},
   "source": [
    "#### 2. Merging movie_rate, movie_gross and movie_budget"
   ]
  },
  {
   "cell_type": "code",
   "execution_count": 96,
   "metadata": {
    "scrolled": false
   },
   "outputs": [
    {
     "data": {
      "text/html": [
       "<div>\n",
       "<style scoped>\n",
       "    .dataframe tbody tr th:only-of-type {\n",
       "        vertical-align: middle;\n",
       "    }\n",
       "\n",
       "    .dataframe tbody tr th {\n",
       "        vertical-align: top;\n",
       "    }\n",
       "\n",
       "    .dataframe thead th {\n",
       "        text-align: right;\n",
       "    }\n",
       "</style>\n",
       "<table border=\"1\" class=\"dataframe\">\n",
       "  <thead>\n",
       "    <tr style=\"text-align: right;\">\n",
       "      <th></th>\n",
       "      <th>movie_id</th>\n",
       "      <th>title</th>\n",
       "      <th>genres</th>\n",
       "      <th>primary_genre</th>\n",
       "      <th>studio</th>\n",
       "      <th>runtime_minutes</th>\n",
       "      <th>number_votes</th>\n",
       "      <th>rating</th>\n",
       "      <th>domestic_gross</th>\n",
       "      <th>foreign_gross</th>\n",
       "      <th>total_revenue</th>\n",
       "      <th>year</th>\n",
       "      <th>title_movie</th>\n",
       "      <th>production_budget</th>\n",
       "      <th>release_year</th>\n",
       "      <th>release_month</th>\n",
       "    </tr>\n",
       "  </thead>\n",
       "  <tbody>\n",
       "    <tr>\n",
       "      <th>0</th>\n",
       "      <td>tt0337692</td>\n",
       "      <td>on the road</td>\n",
       "      <td>Adventure,Drama,Romance</td>\n",
       "      <td>Adventure</td>\n",
       "      <td>IFC</td>\n",
       "      <td>124.0</td>\n",
       "      <td>37886</td>\n",
       "      <td>6.1</td>\n",
       "      <td>744000.0</td>\n",
       "      <td>8000000.0</td>\n",
       "      <td>8744000.0</td>\n",
       "      <td>2012</td>\n",
       "      <td>on the road</td>\n",
       "      <td>25000000</td>\n",
       "      <td>2013</td>\n",
       "      <td>3</td>\n",
       "    </tr>\n",
       "    <tr>\n",
       "      <th>1</th>\n",
       "      <td>tt4339118</td>\n",
       "      <td>on the road</td>\n",
       "      <td>Drama</td>\n",
       "      <td>Drama</td>\n",
       "      <td>IFC</td>\n",
       "      <td>89.0</td>\n",
       "      <td>6</td>\n",
       "      <td>6.0</td>\n",
       "      <td>744000.0</td>\n",
       "      <td>8000000.0</td>\n",
       "      <td>8744000.0</td>\n",
       "      <td>2012</td>\n",
       "      <td>on the road</td>\n",
       "      <td>25000000</td>\n",
       "      <td>2013</td>\n",
       "      <td>3</td>\n",
       "    </tr>\n",
       "    <tr>\n",
       "      <th>2</th>\n",
       "      <td>tt5647250</td>\n",
       "      <td>on the road</td>\n",
       "      <td>Drama</td>\n",
       "      <td>Drama</td>\n",
       "      <td>IFC</td>\n",
       "      <td>121.0</td>\n",
       "      <td>127</td>\n",
       "      <td>5.7</td>\n",
       "      <td>744000.0</td>\n",
       "      <td>8000000.0</td>\n",
       "      <td>8744000.0</td>\n",
       "      <td>2012</td>\n",
       "      <td>on the road</td>\n",
       "      <td>25000000</td>\n",
       "      <td>2013</td>\n",
       "      <td>3</td>\n",
       "    </tr>\n",
       "    <tr>\n",
       "      <th>3</th>\n",
       "      <td>tt0359950</td>\n",
       "      <td>the secret life of walter mitty</td>\n",
       "      <td>Adventure,Comedy,Drama</td>\n",
       "      <td>Adventure</td>\n",
       "      <td>Fox</td>\n",
       "      <td>114.0</td>\n",
       "      <td>275300</td>\n",
       "      <td>7.3</td>\n",
       "      <td>58200000.0</td>\n",
       "      <td>129900000.0</td>\n",
       "      <td>188100000.0</td>\n",
       "      <td>2013</td>\n",
       "      <td>the secret life of walter mitty</td>\n",
       "      <td>91000000</td>\n",
       "      <td>2013</td>\n",
       "      <td>12</td>\n",
       "    </tr>\n",
       "    <tr>\n",
       "      <th>4</th>\n",
       "      <td>tt0365907</td>\n",
       "      <td>a walk among the tombstones</td>\n",
       "      <td>Action,Crime,Drama</td>\n",
       "      <td>Action</td>\n",
       "      <td>Uni.</td>\n",
       "      <td>114.0</td>\n",
       "      <td>105116</td>\n",
       "      <td>6.5</td>\n",
       "      <td>26300000.0</td>\n",
       "      <td>26900000.0</td>\n",
       "      <td>53200000.0</td>\n",
       "      <td>2014</td>\n",
       "      <td>a walk among the tombstones</td>\n",
       "      <td>28000000</td>\n",
       "      <td>2014</td>\n",
       "      <td>9</td>\n",
       "    </tr>\n",
       "  </tbody>\n",
       "</table>\n",
       "</div>"
      ],
      "text/plain": [
       "    movie_id                            title                   genres  \\\n",
       "0  tt0337692                      on the road  Adventure,Drama,Romance   \n",
       "1  tt4339118                      on the road                    Drama   \n",
       "2  tt5647250                      on the road                    Drama   \n",
       "3  tt0359950  the secret life of walter mitty   Adventure,Comedy,Drama   \n",
       "4  tt0365907      a walk among the tombstones       Action,Crime,Drama   \n",
       "\n",
       "  primary_genre studio  runtime_minutes  number_votes  rating  domestic_gross  \\\n",
       "0     Adventure    IFC            124.0         37886     6.1        744000.0   \n",
       "1         Drama    IFC             89.0             6     6.0        744000.0   \n",
       "2         Drama    IFC            121.0           127     5.7        744000.0   \n",
       "3     Adventure    Fox            114.0        275300     7.3      58200000.0   \n",
       "4        Action   Uni.            114.0        105116     6.5      26300000.0   \n",
       "\n",
       "   foreign_gross  total_revenue  year                      title_movie  \\\n",
       "0      8000000.0      8744000.0  2012                      on the road   \n",
       "1      8000000.0      8744000.0  2012                      on the road   \n",
       "2      8000000.0      8744000.0  2012                      on the road   \n",
       "3    129900000.0    188100000.0  2013  the secret life of walter mitty   \n",
       "4     26900000.0     53200000.0  2014      a walk among the tombstones   \n",
       "\n",
       "   production_budget  release_year  release_month  \n",
       "0           25000000          2013              3  \n",
       "1           25000000          2013              3  \n",
       "2           25000000          2013              3  \n",
       "3           91000000          2013             12  \n",
       "4           28000000          2014              9  "
      ]
     },
     "execution_count": 96,
     "metadata": {},
     "output_type": "execute_result"
    }
   ],
   "source": [
    "# I Merge movie_rate, movie_gross and movie_budget together\n",
    "\n",
    "rate_gross_budget = pd.merge(rate_gross, movie_budget, how= 'inner', left_on = 'title', right_on = 'title_movie')\n",
    "rate_gross_budget.head()"
   ]
  },
  {
   "cell_type": "markdown",
   "metadata": {},
   "source": [
    "#### 3. Feature Engineering the rate_gross_budget"
   ]
  },
  {
   "cell_type": "code",
   "execution_count": 97,
   "metadata": {
    "scrolled": false
   },
   "outputs": [
    {
     "data": {
      "text/html": [
       "<div>\n",
       "<style scoped>\n",
       "    .dataframe tbody tr th:only-of-type {\n",
       "        vertical-align: middle;\n",
       "    }\n",
       "\n",
       "    .dataframe tbody tr th {\n",
       "        vertical-align: top;\n",
       "    }\n",
       "\n",
       "    .dataframe thead th {\n",
       "        text-align: right;\n",
       "    }\n",
       "</style>\n",
       "<table border=\"1\" class=\"dataframe\">\n",
       "  <thead>\n",
       "    <tr style=\"text-align: right;\">\n",
       "      <th></th>\n",
       "      <th>movie_id</th>\n",
       "      <th>title</th>\n",
       "      <th>genres</th>\n",
       "      <th>primary_genre</th>\n",
       "      <th>studio</th>\n",
       "      <th>runtime_minutes</th>\n",
       "      <th>number_votes</th>\n",
       "      <th>rating</th>\n",
       "      <th>domestic_gross</th>\n",
       "      <th>foreign_gross</th>\n",
       "      <th>total_revenue</th>\n",
       "      <th>year</th>\n",
       "      <th>title_movie</th>\n",
       "      <th>production_budget</th>\n",
       "      <th>release_year</th>\n",
       "      <th>release_month</th>\n",
       "      <th>total_profit</th>\n",
       "      <th>profit_rate</th>\n",
       "    </tr>\n",
       "  </thead>\n",
       "  <tbody>\n",
       "    <tr>\n",
       "      <th>0</th>\n",
       "      <td>tt0337692</td>\n",
       "      <td>on the road</td>\n",
       "      <td>Adventure,Drama,Romance</td>\n",
       "      <td>Adventure</td>\n",
       "      <td>IFC</td>\n",
       "      <td>124.0</td>\n",
       "      <td>37886</td>\n",
       "      <td>6.1</td>\n",
       "      <td>744000.0</td>\n",
       "      <td>8000000.0</td>\n",
       "      <td>8744000.0</td>\n",
       "      <td>2012</td>\n",
       "      <td>on the road</td>\n",
       "      <td>25000000</td>\n",
       "      <td>2013</td>\n",
       "      <td>3</td>\n",
       "      <td>-16256000.0</td>\n",
       "      <td>-1.86</td>\n",
       "    </tr>\n",
       "    <tr>\n",
       "      <th>1</th>\n",
       "      <td>tt4339118</td>\n",
       "      <td>on the road</td>\n",
       "      <td>Drama</td>\n",
       "      <td>Drama</td>\n",
       "      <td>IFC</td>\n",
       "      <td>89.0</td>\n",
       "      <td>6</td>\n",
       "      <td>6.0</td>\n",
       "      <td>744000.0</td>\n",
       "      <td>8000000.0</td>\n",
       "      <td>8744000.0</td>\n",
       "      <td>2012</td>\n",
       "      <td>on the road</td>\n",
       "      <td>25000000</td>\n",
       "      <td>2013</td>\n",
       "      <td>3</td>\n",
       "      <td>-16256000.0</td>\n",
       "      <td>-1.86</td>\n",
       "    </tr>\n",
       "    <tr>\n",
       "      <th>2</th>\n",
       "      <td>tt5647250</td>\n",
       "      <td>on the road</td>\n",
       "      <td>Drama</td>\n",
       "      <td>Drama</td>\n",
       "      <td>IFC</td>\n",
       "      <td>121.0</td>\n",
       "      <td>127</td>\n",
       "      <td>5.7</td>\n",
       "      <td>744000.0</td>\n",
       "      <td>8000000.0</td>\n",
       "      <td>8744000.0</td>\n",
       "      <td>2012</td>\n",
       "      <td>on the road</td>\n",
       "      <td>25000000</td>\n",
       "      <td>2013</td>\n",
       "      <td>3</td>\n",
       "      <td>-16256000.0</td>\n",
       "      <td>-1.86</td>\n",
       "    </tr>\n",
       "    <tr>\n",
       "      <th>3</th>\n",
       "      <td>tt0359950</td>\n",
       "      <td>the secret life of walter mitty</td>\n",
       "      <td>Adventure,Comedy,Drama</td>\n",
       "      <td>Adventure</td>\n",
       "      <td>Fox</td>\n",
       "      <td>114.0</td>\n",
       "      <td>275300</td>\n",
       "      <td>7.3</td>\n",
       "      <td>58200000.0</td>\n",
       "      <td>129900000.0</td>\n",
       "      <td>188100000.0</td>\n",
       "      <td>2013</td>\n",
       "      <td>the secret life of walter mitty</td>\n",
       "      <td>91000000</td>\n",
       "      <td>2013</td>\n",
       "      <td>12</td>\n",
       "      <td>97100000.0</td>\n",
       "      <td>0.52</td>\n",
       "    </tr>\n",
       "    <tr>\n",
       "      <th>4</th>\n",
       "      <td>tt0365907</td>\n",
       "      <td>a walk among the tombstones</td>\n",
       "      <td>Action,Crime,Drama</td>\n",
       "      <td>Action</td>\n",
       "      <td>Uni.</td>\n",
       "      <td>114.0</td>\n",
       "      <td>105116</td>\n",
       "      <td>6.5</td>\n",
       "      <td>26300000.0</td>\n",
       "      <td>26900000.0</td>\n",
       "      <td>53200000.0</td>\n",
       "      <td>2014</td>\n",
       "      <td>a walk among the tombstones</td>\n",
       "      <td>28000000</td>\n",
       "      <td>2014</td>\n",
       "      <td>9</td>\n",
       "      <td>25200000.0</td>\n",
       "      <td>0.47</td>\n",
       "    </tr>\n",
       "  </tbody>\n",
       "</table>\n",
       "</div>"
      ],
      "text/plain": [
       "    movie_id                            title                   genres  \\\n",
       "0  tt0337692                      on the road  Adventure,Drama,Romance   \n",
       "1  tt4339118                      on the road                    Drama   \n",
       "2  tt5647250                      on the road                    Drama   \n",
       "3  tt0359950  the secret life of walter mitty   Adventure,Comedy,Drama   \n",
       "4  tt0365907      a walk among the tombstones       Action,Crime,Drama   \n",
       "\n",
       "  primary_genre studio  runtime_minutes  number_votes  rating  domestic_gross  \\\n",
       "0     Adventure    IFC            124.0         37886     6.1        744000.0   \n",
       "1         Drama    IFC             89.0             6     6.0        744000.0   \n",
       "2         Drama    IFC            121.0           127     5.7        744000.0   \n",
       "3     Adventure    Fox            114.0        275300     7.3      58200000.0   \n",
       "4        Action   Uni.            114.0        105116     6.5      26300000.0   \n",
       "\n",
       "   foreign_gross  total_revenue  year                      title_movie  \\\n",
       "0      8000000.0      8744000.0  2012                      on the road   \n",
       "1      8000000.0      8744000.0  2012                      on the road   \n",
       "2      8000000.0      8744000.0  2012                      on the road   \n",
       "3    129900000.0    188100000.0  2013  the secret life of walter mitty   \n",
       "4     26900000.0     53200000.0  2014      a walk among the tombstones   \n",
       "\n",
       "   production_budget  release_year  release_month  total_profit  profit_rate  \n",
       "0           25000000          2013              3   -16256000.0        -1.86  \n",
       "1           25000000          2013              3   -16256000.0        -1.86  \n",
       "2           25000000          2013              3   -16256000.0        -1.86  \n",
       "3           91000000          2013             12    97100000.0         0.52  \n",
       "4           28000000          2014              9    25200000.0         0.47  "
      ]
     },
     "execution_count": 97,
     "metadata": {},
     "output_type": "execute_result"
    }
   ],
   "source": [
    "# Step 1: Create total_revenue = domestic_gross + worldwide_gross\n",
    "\n",
    "# Step 2: Compute profit = total_revenue - production_budget\n",
    "rate_gross_budget['total_profit'] = rate_gross_budget['total_revenue'] - rate_gross_budget['production_budget']\n",
    "\n",
    "# Step 3: Compute profit_rate = profit / total_revenue\n",
    "# Avoid division by zero using np.where\n",
    "rate_gross_budget['profit_rate'] = np.where(\n",
    "   rate_gross_budget['total_revenue'] != 0,\n",
    "    round(rate_gross_budget['total_profit'] /rate_gross_budget['total_revenue'], 2) ,\n",
    "    0  # or 0 if you prefer \n",
    ")\n",
    "\n",
    "rate_gross_budget.head()"
   ]
  },
  {
   "cell_type": "code",
   "execution_count": 98,
   "metadata": {},
   "outputs": [
    {
     "data": {
      "text/plain": [
       "(1482, 18)"
      ]
     },
     "execution_count": 98,
     "metadata": {},
     "output_type": "execute_result"
    }
   ],
   "source": [
    "# The shape of the DataBase\n",
    "rate_gross_budget.shape"
   ]
  },
  {
   "cell_type": "code",
   "execution_count": 99,
   "metadata": {},
   "outputs": [
    {
     "data": {
      "text/html": [
       "<div>\n",
       "<style scoped>\n",
       "    .dataframe tbody tr th:only-of-type {\n",
       "        vertical-align: middle;\n",
       "    }\n",
       "\n",
       "    .dataframe tbody tr th {\n",
       "        vertical-align: top;\n",
       "    }\n",
       "\n",
       "    .dataframe thead th {\n",
       "        text-align: right;\n",
       "    }\n",
       "</style>\n",
       "<table border=\"1\" class=\"dataframe\">\n",
       "  <thead>\n",
       "    <tr style=\"text-align: right;\">\n",
       "      <th></th>\n",
       "      <th>movie_id</th>\n",
       "      <th>title</th>\n",
       "      <th>primary_genre</th>\n",
       "      <th>studio</th>\n",
       "      <th>runtime_minutes</th>\n",
       "      <th>number_votes</th>\n",
       "      <th>rating</th>\n",
       "      <th>production_budget</th>\n",
       "      <th>domestic_gross</th>\n",
       "      <th>foreign_gross</th>\n",
       "      <th>total_revenue</th>\n",
       "      <th>total_profit</th>\n",
       "      <th>profit_rate</th>\n",
       "      <th>year</th>\n",
       "      <th>release_year</th>\n",
       "      <th>release_month</th>\n",
       "    </tr>\n",
       "  </thead>\n",
       "  <tbody>\n",
       "    <tr>\n",
       "      <th>0</th>\n",
       "      <td>tt0337692</td>\n",
       "      <td>on the road</td>\n",
       "      <td>Adventure</td>\n",
       "      <td>IFC</td>\n",
       "      <td>124.0</td>\n",
       "      <td>37886</td>\n",
       "      <td>6.1</td>\n",
       "      <td>25000000</td>\n",
       "      <td>744000.0</td>\n",
       "      <td>8000000.0</td>\n",
       "      <td>8744000.0</td>\n",
       "      <td>-16256000.0</td>\n",
       "      <td>-1.86</td>\n",
       "      <td>2012</td>\n",
       "      <td>2013</td>\n",
       "      <td>3</td>\n",
       "    </tr>\n",
       "    <tr>\n",
       "      <th>1</th>\n",
       "      <td>tt4339118</td>\n",
       "      <td>on the road</td>\n",
       "      <td>Drama</td>\n",
       "      <td>IFC</td>\n",
       "      <td>89.0</td>\n",
       "      <td>6</td>\n",
       "      <td>6.0</td>\n",
       "      <td>25000000</td>\n",
       "      <td>744000.0</td>\n",
       "      <td>8000000.0</td>\n",
       "      <td>8744000.0</td>\n",
       "      <td>-16256000.0</td>\n",
       "      <td>-1.86</td>\n",
       "      <td>2012</td>\n",
       "      <td>2013</td>\n",
       "      <td>3</td>\n",
       "    </tr>\n",
       "    <tr>\n",
       "      <th>2</th>\n",
       "      <td>tt5647250</td>\n",
       "      <td>on the road</td>\n",
       "      <td>Drama</td>\n",
       "      <td>IFC</td>\n",
       "      <td>121.0</td>\n",
       "      <td>127</td>\n",
       "      <td>5.7</td>\n",
       "      <td>25000000</td>\n",
       "      <td>744000.0</td>\n",
       "      <td>8000000.0</td>\n",
       "      <td>8744000.0</td>\n",
       "      <td>-16256000.0</td>\n",
       "      <td>-1.86</td>\n",
       "      <td>2012</td>\n",
       "      <td>2013</td>\n",
       "      <td>3</td>\n",
       "    </tr>\n",
       "    <tr>\n",
       "      <th>3</th>\n",
       "      <td>tt0359950</td>\n",
       "      <td>the secret life of walter mitty</td>\n",
       "      <td>Adventure</td>\n",
       "      <td>Fox</td>\n",
       "      <td>114.0</td>\n",
       "      <td>275300</td>\n",
       "      <td>7.3</td>\n",
       "      <td>91000000</td>\n",
       "      <td>58200000.0</td>\n",
       "      <td>129900000.0</td>\n",
       "      <td>188100000.0</td>\n",
       "      <td>97100000.0</td>\n",
       "      <td>0.52</td>\n",
       "      <td>2013</td>\n",
       "      <td>2013</td>\n",
       "      <td>12</td>\n",
       "    </tr>\n",
       "    <tr>\n",
       "      <th>4</th>\n",
       "      <td>tt0365907</td>\n",
       "      <td>a walk among the tombstones</td>\n",
       "      <td>Action</td>\n",
       "      <td>Uni.</td>\n",
       "      <td>114.0</td>\n",
       "      <td>105116</td>\n",
       "      <td>6.5</td>\n",
       "      <td>28000000</td>\n",
       "      <td>26300000.0</td>\n",
       "      <td>26900000.0</td>\n",
       "      <td>53200000.0</td>\n",
       "      <td>25200000.0</td>\n",
       "      <td>0.47</td>\n",
       "      <td>2014</td>\n",
       "      <td>2014</td>\n",
       "      <td>9</td>\n",
       "    </tr>\n",
       "  </tbody>\n",
       "</table>\n",
       "</div>"
      ],
      "text/plain": [
       "    movie_id                            title primary_genre studio  \\\n",
       "0  tt0337692                      on the road     Adventure    IFC   \n",
       "1  tt4339118                      on the road         Drama    IFC   \n",
       "2  tt5647250                      on the road         Drama    IFC   \n",
       "3  tt0359950  the secret life of walter mitty     Adventure    Fox   \n",
       "4  tt0365907      a walk among the tombstones        Action   Uni.   \n",
       "\n",
       "   runtime_minutes  number_votes  rating  production_budget  domestic_gross  \\\n",
       "0            124.0         37886     6.1           25000000        744000.0   \n",
       "1             89.0             6     6.0           25000000        744000.0   \n",
       "2            121.0           127     5.7           25000000        744000.0   \n",
       "3            114.0        275300     7.3           91000000      58200000.0   \n",
       "4            114.0        105116     6.5           28000000      26300000.0   \n",
       "\n",
       "   foreign_gross  total_revenue  total_profit  profit_rate  year  \\\n",
       "0      8000000.0      8744000.0   -16256000.0        -1.86  2012   \n",
       "1      8000000.0      8744000.0   -16256000.0        -1.86  2012   \n",
       "2      8000000.0      8744000.0   -16256000.0        -1.86  2012   \n",
       "3    129900000.0    188100000.0    97100000.0         0.52  2013   \n",
       "4     26900000.0     53200000.0    25200000.0         0.47  2014   \n",
       "\n",
       "   release_year  release_month  \n",
       "0          2013              3  \n",
       "1          2013              3  \n",
       "2          2013              3  \n",
       "3          2013             12  \n",
       "4          2014              9  "
      ]
     },
     "execution_count": 99,
     "metadata": {},
     "output_type": "execute_result"
    }
   ],
   "source": [
    "# I only considere the most relevant columns from my rate_gross_budget table to make the analysis\n",
    "\n",
    "Relevant_cols = ['movie_id', 'title', 'primary_genre','studio','runtime_minutes','number_votes','rating',\n",
    "                 'production_budget', 'domestic_gross', 'foreign_gross', 'total_revenue','total_profit', \n",
    "                 'profit_rate','year','release_year','release_month']\n",
    "\n",
    "# We can see that, the rate_gross_budget only contains relevant columns above\n",
    "rate_gross_budget = rate_gross_budget.loc[:, Relevant_cols]\n",
    "rate_gross_budget.head()"
   ]
  },
  {
   "cell_type": "markdown",
   "metadata": {},
   "source": [
    "Above We prepared our Data for analysis by following rigous steps and methods.  \n",
    "As our Datasets are Realy Cleaned and well Prepared, now we can move on the steps of **Analysis and Results**"
   ]
  },
  {
   "cell_type": "markdown",
   "metadata": {},
   "source": [
    "## Analysis and Results\n",
    "\n",
    "---\n",
    "\n",
    "In this important section, we analyze our prepared data to:\n",
    "\n",
    "- Reveal valuable insights for the head of the new movie studio.  \n",
    "\n",
    "- Identify hidden patterns and trends in box office performance.\n",
    "\n",
    "To achieve this, the analysis is structured into two main parts:\n",
    "\n",
    "### 1. Descriptive Analysis\n",
    "\n",
    "This step examines what actually happened in the movie industry, including revenue, profit, production budgets, and audience engagement. It highlights patterns across genres, studios, and release periods, providing a clear understanding of historical performance.\n",
    "\n",
    "### 2. Diagnostic Analysis\n",
    "\n",
    "This step explores why these patterns occurred, using statistical tests and comparisons to uncover factors driving differences in revenue and profit. It helps explain the underlying reasons behind box office performance, guiding informed decision-making for future movie production."
   ]
  },
  {
   "cell_type": "markdown",
   "metadata": {},
   "source": [
    "### 1. Descriptive Analysis\n",
    "In this step of analysis I retrieve and anlyse what actully happened concernings movie at the Box office.  \n",
    "Thus, I use Descriptive statistics to analyse the Datasets and show what it really was about.\n",
    "Throughout this step of analysis, great feature of SQL are used to achieve this step.  \n",
    "\n",
    "We leverage the `sqldf` Packages to query the `DataFrames` in order to reaveal hiden informations on table format.  \n",
    "Moreover we used great features of `Matplotlib` and `Seaborn` to retrieve insights through visualisation.\n",
    "\n",
    "\n",
    "In this section we do The :\n",
    "\n",
    "- Performance Ranking Analysis.  \n",
    "- Revenue Composition Analysis.  \n",
    "- Historical Trend and Seasonnality Analysis\n",
    ".\n"
   ]
  },
  {
   "cell_type": "markdown",
   "metadata": {},
   "source": [
    "- ### Performance Ranking Analysis\n",
    "\n",
    "This section examines the competitive performance of studios and genres at the box office. Using SQL-based aggregation, we identified the studios generating the highest profits, the genres with the largest cumulative earnings, and the studios with the greatest production volume"
   ]
  },
  {
   "cell_type": "code",
   "execution_count": 100,
   "metadata": {},
   "outputs": [],
   "source": [
    "# I used Sqldf to querying my Dataframes with SQL\n",
    "pysqldf = lambda q : sqldf(q, globals()) "
   ]
  },
  {
   "cell_type": "markdown",
   "metadata": {},
   "source": [
    "\n",
    "\n",
    "### Top 10 most repeated primary genre of movies.\n",
    "\n",
    "Bellow we can see the Top 10 most repeated primary genre of movies at the Box Offices.\n",
    "With a Dominance of **ACTION and DRAMA**. We can Observe that Primary genres of 409 movies are actions, whereas the tenth most repeated primary genre of movies is **ANIMATION.**\n",
    "\n",
    "So far, the head of your company's new movie studio can start to think that most genres of movies that he will be creating, would probably be action and Drama. \n"
   ]
  },
  {
   "cell_type": "code",
   "execution_count": 101,
   "metadata": {
    "scrolled": true
   },
   "outputs": [
    {
     "data": {
      "text/html": [
       "<div>\n",
       "<style scoped>\n",
       "    .dataframe tbody tr th:only-of-type {\n",
       "        vertical-align: middle;\n",
       "    }\n",
       "\n",
       "    .dataframe tbody tr th {\n",
       "        vertical-align: top;\n",
       "    }\n",
       "\n",
       "    .dataframe thead th {\n",
       "        text-align: right;\n",
       "    }\n",
       "</style>\n",
       "<table border=\"1\" class=\"dataframe\">\n",
       "  <thead>\n",
       "    <tr style=\"text-align: right;\">\n",
       "      <th></th>\n",
       "      <th>primary_genre</th>\n",
       "      <th>total_movie</th>\n",
       "    </tr>\n",
       "  </thead>\n",
       "  <tbody>\n",
       "    <tr>\n",
       "      <th>0</th>\n",
       "      <td>Action</td>\n",
       "      <td>409</td>\n",
       "    </tr>\n",
       "    <tr>\n",
       "      <th>1</th>\n",
       "      <td>Drama</td>\n",
       "      <td>302</td>\n",
       "    </tr>\n",
       "    <tr>\n",
       "      <th>2</th>\n",
       "      <td>Comedy</td>\n",
       "      <td>272</td>\n",
       "    </tr>\n",
       "    <tr>\n",
       "      <th>3</th>\n",
       "      <td>Adventure</td>\n",
       "      <td>145</td>\n",
       "    </tr>\n",
       "    <tr>\n",
       "      <th>4</th>\n",
       "      <td>Biography</td>\n",
       "      <td>113</td>\n",
       "    </tr>\n",
       "    <tr>\n",
       "      <th>5</th>\n",
       "      <td>Horror</td>\n",
       "      <td>80</td>\n",
       "    </tr>\n",
       "    <tr>\n",
       "      <th>6</th>\n",
       "      <td>Crime</td>\n",
       "      <td>74</td>\n",
       "    </tr>\n",
       "    <tr>\n",
       "      <th>7</th>\n",
       "      <td>Documentary</td>\n",
       "      <td>47</td>\n",
       "    </tr>\n",
       "    <tr>\n",
       "      <th>8</th>\n",
       "      <td>Thriller</td>\n",
       "      <td>13</td>\n",
       "    </tr>\n",
       "    <tr>\n",
       "      <th>9</th>\n",
       "      <td>Animation</td>\n",
       "      <td>9</td>\n",
       "    </tr>\n",
       "  </tbody>\n",
       "</table>\n",
       "</div>"
      ],
      "text/plain": [
       "  primary_genre  total_movie\n",
       "0        Action          409\n",
       "1         Drama          302\n",
       "2        Comedy          272\n",
       "3     Adventure          145\n",
       "4     Biography          113\n",
       "5        Horror           80\n",
       "6         Crime           74\n",
       "7   Documentary           47\n",
       "8      Thriller           13\n",
       "9     Animation            9"
      ]
     },
     "execution_count": 101,
     "metadata": {},
     "output_type": "execute_result"
    }
   ],
   "source": [
    "# Top 10 most repeated primary genre of movies.\n",
    "q1 = \"\"\" SELECT primary_genre, count(movie_id) as total_movie\n",
    "        FROM rate_gross_budget\n",
    "        GROUP BY primary_genre\n",
    "        ORDER BY total_movie DESC\n",
    "        LImit 10; \"\"\"\n",
    "\n",
    "top_10_genres_movie = pysqldf(q1)\n",
    "top_10_genres_movie"
   ]
  },
  {
   "cell_type": "markdown",
   "metadata": {},
   "source": [
    "### Top 10 of the most primary genre of movies with highest profit rate\n",
    "\n",
    "Although most movies' genres are ACTION and DRAMA, But they are not the genres with highest profit rate in average.  \n",
    "The graph bellow show the top 10 genres of movies that generate the highest profit rate in average.  **SCI-FI and MYSTERY** genres brings a highest mean of profit rate with a rate 0f 80%  about. Whereas **ACTION** brings only about a profit rate of 30% about."
   ]
  },
  {
   "cell_type": "code",
   "execution_count": 102,
   "metadata": {},
   "outputs": [
    {
     "data": {
      "image/png": "[encoded data removed]",
      "text/plain": [
       "<Figure size 864x432 with 1 Axes>"
      ]
     },
     "metadata": {},
     "output_type": "display_data"
    }
   ],
   "source": [
    "# Calculate mean profit by primary genre\n",
    "genre_profit_rate = (\n",
    "    rate_gross_budget.groupby('primary_genre')['profit_rate']\n",
    "    .mean()\n",
    "    .sort_values(ascending=False)\n",
    "    .head(10)\n",
    "    .reset_index()\n",
    ")\n",
    "\n",
    "plt.figure(figsize=(12,6))\n",
    "sns.barplot(data=genre_profit_rate, y='primary_genre', x='profit_rate', palette='Blues_d')\n",
    "\n",
    "plt.title('Top 10 Primary Genres by Mean Profit Rate', fontsize=18, weight='bold')  # Bold and bigger title\n",
    "plt.xlabel('Mean Profit Rate', fontsize=14, weight='bold')  # Bold x-axis label\n",
    "plt.ylabel('Genre', fontsize=14, weight='bold')  # Bold y-axis label\n",
    "plt.xticks(fontsize=12)\n",
    "plt.yticks(fontsize=12)\n",
    "\n",
    "plt.tight_layout()\n",
    "\n",
    "# To save the plot as an image\n",
    "# plt.savefig(\"Images/top_genreprofit.png\", dpi = 300, bbox_inches = \"tight\", facecolor = \"white\")\n",
    "\n",
    "plt.show()\n"
   ]
  },
  {
   "cell_type": "markdown",
   "metadata": {},
   "source": [
    "### Top 10 genres of movies with highest ratings by audiances.  \n",
    "\n",
    "We can observe that, **SPORT and Mystery ** represent the genre that is most loved by audiances or spectators, with a mean rating of 79% and 75% respectively.  whereas, **DRAMA and ADVANTURE** represent the nineth and tenth genres with highest rating.\n",
    "\n",
    "That can be understood, because almost everyone loves sport, this can explain why sport ranks first in this case. We should neglect also that, among the top 10, the mean rating of each other is so close. "
   ]
  },
  {
   "cell_type": "code",
   "execution_count": 103,
   "metadata": {},
   "outputs": [
    {
     "data": {
      "text/html": [
       "<div>\n",
       "<style scoped>\n",
       "    .dataframe tbody tr th:only-of-type {\n",
       "        vertical-align: middle;\n",
       "    }\n",
       "\n",
       "    .dataframe tbody tr th {\n",
       "        vertical-align: top;\n",
       "    }\n",
       "\n",
       "    .dataframe thead th {\n",
       "        text-align: right;\n",
       "    }\n",
       "</style>\n",
       "<table border=\"1\" class=\"dataframe\">\n",
       "  <thead>\n",
       "    <tr style=\"text-align: right;\">\n",
       "      <th></th>\n",
       "      <th>primary_genre</th>\n",
       "      <th>mean_rating</th>\n",
       "      <th>mean_number_votes</th>\n",
       "      <th>mean_runtime_minutes</th>\n",
       "      <th>mean_profit</th>\n",
       "    </tr>\n",
       "  </thead>\n",
       "  <tbody>\n",
       "    <tr>\n",
       "      <th>0</th>\n",
       "      <td>Sport</td>\n",
       "      <td>7.90</td>\n",
       "      <td>77.00</td>\n",
       "      <td>114.00</td>\n",
       "      <td>5.000000e+06</td>\n",
       "    </tr>\n",
       "    <tr>\n",
       "      <th>1</th>\n",
       "      <td>Mystery</td>\n",
       "      <td>7.50</td>\n",
       "      <td>606341.67</td>\n",
       "      <td>118.33</td>\n",
       "      <td>1.865667e+08</td>\n",
       "    </tr>\n",
       "    <tr>\n",
       "      <th>2</th>\n",
       "      <td>Music</td>\n",
       "      <td>7.20</td>\n",
       "      <td>15592.00</td>\n",
       "      <td>93.00</td>\n",
       "      <td>-1.000000e+07</td>\n",
       "    </tr>\n",
       "    <tr>\n",
       "      <th>3</th>\n",
       "      <td>Romance</td>\n",
       "      <td>7.10</td>\n",
       "      <td>227616.00</td>\n",
       "      <td>106.00</td>\n",
       "      <td>7.770000e+07</td>\n",
       "    </tr>\n",
       "    <tr>\n",
       "      <th>4</th>\n",
       "      <td>Animation</td>\n",
       "      <td>7.03</td>\n",
       "      <td>121792.67</td>\n",
       "      <td>92.33</td>\n",
       "      <td>2.192000e+08</td>\n",
       "    </tr>\n",
       "    <tr>\n",
       "      <th>5</th>\n",
       "      <td>Biography</td>\n",
       "      <td>6.97</td>\n",
       "      <td>107271.52</td>\n",
       "      <td>117.03</td>\n",
       "      <td>6.265282e+07</td>\n",
       "    </tr>\n",
       "    <tr>\n",
       "      <th>6</th>\n",
       "      <td>Documentary</td>\n",
       "      <td>6.94</td>\n",
       "      <td>4230.00</td>\n",
       "      <td>80.77</td>\n",
       "      <td>6.786370e+07</td>\n",
       "    </tr>\n",
       "    <tr>\n",
       "      <th>7</th>\n",
       "      <td>Crime</td>\n",
       "      <td>6.61</td>\n",
       "      <td>99177.14</td>\n",
       "      <td>111.82</td>\n",
       "      <td>3.954855e+07</td>\n",
       "    </tr>\n",
       "    <tr>\n",
       "      <th>8</th>\n",
       "      <td>Drama</td>\n",
       "      <td>6.56</td>\n",
       "      <td>70500.86</td>\n",
       "      <td>106.71</td>\n",
       "      <td>4.848977e+07</td>\n",
       "    </tr>\n",
       "    <tr>\n",
       "      <th>9</th>\n",
       "      <td>Adventure</td>\n",
       "      <td>6.50</td>\n",
       "      <td>139693.57</td>\n",
       "      <td>103.75</td>\n",
       "      <td>2.151528e+08</td>\n",
       "    </tr>\n",
       "  </tbody>\n",
       "</table>\n",
       "</div>"
      ],
      "text/plain": [
       "  primary_genre  mean_rating  mean_number_votes  mean_runtime_minutes  \\\n",
       "0         Sport         7.90              77.00                114.00   \n",
       "1       Mystery         7.50          606341.67                118.33   \n",
       "2         Music         7.20           15592.00                 93.00   \n",
       "3       Romance         7.10          227616.00                106.00   \n",
       "4     Animation         7.03          121792.67                 92.33   \n",
       "5     Biography         6.97          107271.52                117.03   \n",
       "6   Documentary         6.94            4230.00                 80.77   \n",
       "7         Crime         6.61           99177.14                111.82   \n",
       "8         Drama         6.56           70500.86                106.71   \n",
       "9     Adventure         6.50          139693.57                103.75   \n",
       "\n",
       "    mean_profit  \n",
       "0  5.000000e+06  \n",
       "1  1.865667e+08  \n",
       "2 -1.000000e+07  \n",
       "3  7.770000e+07  \n",
       "4  2.192000e+08  \n",
       "5  6.265282e+07  \n",
       "6  6.786370e+07  \n",
       "7  3.954855e+07  \n",
       "8  4.848977e+07  \n",
       "9  2.151528e+08  "
      ]
     },
     "execution_count": 103,
     "metadata": {},
     "output_type": "execute_result"
    }
   ],
   "source": [
    "# Top 10 most repeated primary genre of movies.\n",
    "q2 = \"\"\" SELECT primary_genre, round(Avg(rating), 2) as mean_rating, round(Avg(number_votes), 2) mean_number_votes,\n",
    "               round(Avg(runtime_minutes),2) mean_runtime_minutes, round(Avg(total_profit), 2) as mean_profit\n",
    "               \n",
    "        FROM rate_gross_budget\n",
    "        GROUP BY primary_genre\n",
    "        ORDER BY  mean_rating DESC\n",
    "        LImit 10; \"\"\"\n",
    "\n",
    "top_10_genres_movie = pysqldf(q2)\n",
    "top_10_genres_movie"
   ]
  },
  {
   "cell_type": "markdown",
   "metadata": {},
   "source": [
    "### Top 10 studio that has created the most movies\n",
    "\n",
    "Below, we observe that most of the movies are created by **Uni.** studio, with a total **156 movies created**, after becomes the **Fox** studio. Howerver, at the bottom of the top 10, there are Focus studio with 51 movies created.  \n",
    "Moreover, we can observe that the average of profit, production budget and revenue for each of these 10 studios.\n",
    "\n",
    "We extract these meaningfull information, so that the head of the new company's movie studio should really know the ones who are currently ruling this sector. Besides, We already observe that what kinds of opponents our studio will face up to.\n"
   ]
  },
  {
   "cell_type": "code",
   "execution_count": 104,
   "metadata": {
    "scrolled": true
   },
   "outputs": [
    {
     "data": {
      "text/html": [
       "<div>\n",
       "<style scoped>\n",
       "    .dataframe tbody tr th:only-of-type {\n",
       "        vertical-align: middle;\n",
       "    }\n",
       "\n",
       "    .dataframe tbody tr th {\n",
       "        vertical-align: top;\n",
       "    }\n",
       "\n",
       "    .dataframe thead th {\n",
       "        text-align: right;\n",
       "    }\n",
       "</style>\n",
       "<table border=\"1\" class=\"dataframe\">\n",
       "  <thead>\n",
       "    <tr style=\"text-align: right;\">\n",
       "      <th></th>\n",
       "      <th>studio</th>\n",
       "      <th>total_movie</th>\n",
       "      <th>mean_profit</th>\n",
       "      <th>mean_budget</th>\n",
       "      <th>mean_revenue</th>\n",
       "    </tr>\n",
       "  </thead>\n",
       "  <tbody>\n",
       "    <tr>\n",
       "      <th>0</th>\n",
       "      <td>Uni.</td>\n",
       "      <td>156</td>\n",
       "      <td>1.464407e+08</td>\n",
       "      <td>5.522885e+07</td>\n",
       "      <td>2.016695e+08</td>\n",
       "    </tr>\n",
       "    <tr>\n",
       "      <th>1</th>\n",
       "      <td>Fox</td>\n",
       "      <td>130</td>\n",
       "      <td>1.603210e+08</td>\n",
       "      <td>6.781923e+07</td>\n",
       "      <td>2.281403e+08</td>\n",
       "    </tr>\n",
       "    <tr>\n",
       "      <th>2</th>\n",
       "      <td>WB</td>\n",
       "      <td>119</td>\n",
       "      <td>1.456471e+08</td>\n",
       "      <td>7.987395e+07</td>\n",
       "      <td>2.255210e+08</td>\n",
       "    </tr>\n",
       "    <tr>\n",
       "      <th>3</th>\n",
       "      <td>Par.</td>\n",
       "      <td>87</td>\n",
       "      <td>1.255433e+08</td>\n",
       "      <td>6.125287e+07</td>\n",
       "      <td>1.867962e+08</td>\n",
       "    </tr>\n",
       "    <tr>\n",
       "      <th>4</th>\n",
       "      <td>BV</td>\n",
       "      <td>86</td>\n",
       "      <td>3.365877e+08</td>\n",
       "      <td>1.320721e+08</td>\n",
       "      <td>4.686597e+08</td>\n",
       "    </tr>\n",
       "    <tr>\n",
       "      <th>5</th>\n",
       "      <td>Sony</td>\n",
       "      <td>81</td>\n",
       "      <td>1.641140e+08</td>\n",
       "      <td>6.689506e+07</td>\n",
       "      <td>2.310091e+08</td>\n",
       "    </tr>\n",
       "    <tr>\n",
       "      <th>6</th>\n",
       "      <td>LGF</td>\n",
       "      <td>69</td>\n",
       "      <td>7.486464e+07</td>\n",
       "      <td>3.406341e+07</td>\n",
       "      <td>1.089280e+08</td>\n",
       "    </tr>\n",
       "    <tr>\n",
       "      <th>7</th>\n",
       "      <td>FoxS</td>\n",
       "      <td>64</td>\n",
       "      <td>3.598230e+07</td>\n",
       "      <td>1.051172e+07</td>\n",
       "      <td>4.649402e+07</td>\n",
       "    </tr>\n",
       "    <tr>\n",
       "      <th>8</th>\n",
       "      <td>WB (NL)</td>\n",
       "      <td>51</td>\n",
       "      <td>1.469569e+08</td>\n",
       "      <td>5.024706e+07</td>\n",
       "      <td>1.972039e+08</td>\n",
       "    </tr>\n",
       "    <tr>\n",
       "      <th>9</th>\n",
       "      <td>Focus</td>\n",
       "      <td>51</td>\n",
       "      <td>3.410839e+07</td>\n",
       "      <td>1.959804e+07</td>\n",
       "      <td>5.370643e+07</td>\n",
       "    </tr>\n",
       "  </tbody>\n",
       "</table>\n",
       "</div>"
      ],
      "text/plain": [
       "    studio  total_movie   mean_profit   mean_budget  mean_revenue\n",
       "0     Uni.          156  1.464407e+08  5.522885e+07  2.016695e+08\n",
       "1      Fox          130  1.603210e+08  6.781923e+07  2.281403e+08\n",
       "2       WB          119  1.456471e+08  7.987395e+07  2.255210e+08\n",
       "3     Par.           87  1.255433e+08  6.125287e+07  1.867962e+08\n",
       "4       BV           86  3.365877e+08  1.320721e+08  4.686597e+08\n",
       "5     Sony           81  1.641140e+08  6.689506e+07  2.310091e+08\n",
       "6      LGF           69  7.486464e+07  3.406341e+07  1.089280e+08\n",
       "7     FoxS           64  3.598230e+07  1.051172e+07  4.649402e+07\n",
       "8  WB (NL)           51  1.469569e+08  5.024706e+07  1.972039e+08\n",
       "9    Focus           51  3.410839e+07  1.959804e+07  5.370643e+07"
      ]
     },
     "execution_count": 104,
     "metadata": {},
     "output_type": "execute_result"
    }
   ],
   "source": [
    "# Top 10 of The most popular movie studio\n",
    "\n",
    "q3 = \"\"\" SELECT studio, count('movie_id') as total_movie, round(Avg(total_profit), 2) as mean_profit,\n",
    "                round(Avg(production_budget), 2) as mean_budget, round(Avg(total_revenue), 2) as mean_revenue\n",
    "               \n",
    "        FROM rate_gross_budget\n",
    "        GROUP BY studio\n",
    "        ORDER BY  total_movie DESC\n",
    "        LImit 10; \"\"\"\n",
    "\n",
    "top_10_genres_movie = pysqldf(q3)\n",
    "top_10_genres_movie"
   ]
  },
  {
   "cell_type": "markdown",
   "metadata": {},
   "source": [
    "### Top 10 studio that generate the highest profit in total\n",
    "\n",
    "To go deeper, bellow we visuliaze the studios that earned the highest profit in total. And, as we can see the top 3 of studios, **BV, Uni. and Fox**, That earned the highest profit over the movies they created, among the top 5 studios that have created most movies.\n",
    "\n",
    "\n",
    "Consequently, those movies studios represents real opponents that our movie Studio will encounter in the Future."
   ]
  },
  {
   "cell_type": "code",
   "execution_count": 105,
   "metadata": {},
   "outputs": [
    {
     "data": {
      "image/png": "[encoded data removed]",
      "text/plain": [
       "<Figure size 864x432 with 1 Axes>"
      ]
     },
     "metadata": {},
     "output_type": "display_data"
    }
   ],
   "source": [
    "# Group by studio, then sum profit and sort\n",
    "studio_profit = (\n",
    "    rate_gross_budget.groupby('studio')['total_profit']\n",
    "    .sum()\n",
    "    .sort_values(ascending=False)\n",
    "    .head(10)\n",
    "    .reset_index()\n",
    ")\n",
    "\n",
    "# Plot: horizontal bar chart\n",
    "plt.figure(figsize=(12,6))\n",
    "sns.barplot(data=studio_profit, y='studio', x='total_profit', palette='Reds_d')\n",
    "\n",
    "plt.title('Top 10 Studios by Total Profit (Sum)', fontsize=18, weight='bold')  # Bold and bigger title\n",
    "plt.xlabel('Total Profit ($)', fontsize=14, weight='bold')  # Bold x-axis label\n",
    "plt.ylabel('Studio', fontsize=14, weight='bold')  # Bold y-axis label\n",
    "plt.xticks(fontsize=12)\n",
    "plt.yticks(fontsize=12)\n",
    "\n",
    "plt.tight_layout()\n",
    "\n",
    "# To save the plot as an image\n",
    "# plt.savefig(\"Images/top_studioprofit.png\", dpi = 300, bbox_inches = \"tight\", facecolor = \"white\")\n",
    "\n",
    "plt.show()\n",
    "\n",
    " #  'viridis'"
   ]
  },
  {
   "cell_type": "markdown",
   "metadata": {},
   "source": [
    "Below we try to analyse some distinct movies. And we can observe that, about three movies genereted a profit of 100 %. Moreover, each movie of there more than 20 movies that generated a profit over 97 %. "
   ]
  },
  {
   "cell_type": "code",
   "execution_count": 106,
   "metadata": {
    "scrolled": true
   },
   "outputs": [
    {
     "data": {
      "text/html": [
       "<div>\n",
       "<style scoped>\n",
       "    .dataframe tbody tr th:only-of-type {\n",
       "        vertical-align: middle;\n",
       "    }\n",
       "\n",
       "    .dataframe tbody tr th {\n",
       "        vertical-align: top;\n",
       "    }\n",
       "\n",
       "    .dataframe thead th {\n",
       "        text-align: right;\n",
       "    }\n",
       "</style>\n",
       "<table border=\"1\" class=\"dataframe\">\n",
       "  <thead>\n",
       "    <tr style=\"text-align: right;\">\n",
       "      <th></th>\n",
       "      <th>title</th>\n",
       "      <th>profit_rate</th>\n",
       "      <th>total_profit</th>\n",
       "      <th>primary_genre</th>\n",
       "      <th>rating</th>\n",
       "      <th>year</th>\n",
       "    </tr>\n",
       "  </thead>\n",
       "  <tbody>\n",
       "    <tr>\n",
       "      <th>0</th>\n",
       "      <td>tiny furniture</td>\n",
       "      <td>1.00</td>\n",
       "      <td>19042000.0</td>\n",
       "      <td>Comedy</td>\n",
       "      <td>6.2</td>\n",
       "      <td>2010</td>\n",
       "    </tr>\n",
       "    <tr>\n",
       "      <th>1</th>\n",
       "      <td>the gallows</td>\n",
       "      <td>1.00</td>\n",
       "      <td>42900000.0</td>\n",
       "      <td>Horror</td>\n",
       "      <td>4.2</td>\n",
       "      <td>2015</td>\n",
       "    </tr>\n",
       "    <tr>\n",
       "      <th>2</th>\n",
       "      <td>a ghost story</td>\n",
       "      <td>1.00</td>\n",
       "      <td>20200000.0</td>\n",
       "      <td>Drama</td>\n",
       "      <td>6.8</td>\n",
       "      <td>2017</td>\n",
       "    </tr>\n",
       "    <tr>\n",
       "      <th>3</th>\n",
       "      <td>snitch</td>\n",
       "      <td>0.99</td>\n",
       "      <td>60750000.0</td>\n",
       "      <td>Action</td>\n",
       "      <td>6.5</td>\n",
       "      <td>2013</td>\n",
       "    </tr>\n",
       "    <tr>\n",
       "      <th>4</th>\n",
       "      <td>the devil inside</td>\n",
       "      <td>0.99</td>\n",
       "      <td>100800000.0</td>\n",
       "      <td>Horror</td>\n",
       "      <td>4.2</td>\n",
       "      <td>2012</td>\n",
       "    </tr>\n",
       "    <tr>\n",
       "      <th>5</th>\n",
       "      <td>your sisters sister</td>\n",
       "      <td>0.99</td>\n",
       "      <td>20180000.0</td>\n",
       "      <td>Comedy</td>\n",
       "      <td>6.7</td>\n",
       "      <td>2012</td>\n",
       "    </tr>\n",
       "    <tr>\n",
       "      <th>6</th>\n",
       "      <td>sound of my voice</td>\n",
       "      <td>0.99</td>\n",
       "      <td>18973000.0</td>\n",
       "      <td>Drama</td>\n",
       "      <td>6.6</td>\n",
       "      <td>2012</td>\n",
       "    </tr>\n",
       "    <tr>\n",
       "      <th>7</th>\n",
       "      <td>compliance</td>\n",
       "      <td>0.99</td>\n",
       "      <td>18749000.0</td>\n",
       "      <td>Biography</td>\n",
       "      <td>6.4</td>\n",
       "      <td>2012</td>\n",
       "    </tr>\n",
       "    <tr>\n",
       "      <th>8</th>\n",
       "      <td>the canyons</td>\n",
       "      <td>0.99</td>\n",
       "      <td>18506800.0</td>\n",
       "      <td>Drama</td>\n",
       "      <td>3.8</td>\n",
       "      <td>2013</td>\n",
       "    </tr>\n",
       "    <tr>\n",
       "      <th>9</th>\n",
       "      <td>the karate kid</td>\n",
       "      <td>0.98</td>\n",
       "      <td>351100000.0</td>\n",
       "      <td>Action</td>\n",
       "      <td>6.2</td>\n",
       "      <td>2010</td>\n",
       "    </tr>\n",
       "  </tbody>\n",
       "</table>\n",
       "</div>"
      ],
      "text/plain": [
       "                 title  profit_rate  total_profit primary_genre  rating  year\n",
       "0       tiny furniture         1.00    19042000.0        Comedy     6.2  2010\n",
       "1          the gallows         1.00    42900000.0        Horror     4.2  2015\n",
       "2        a ghost story         1.00    20200000.0         Drama     6.8  2017\n",
       "3               snitch         0.99    60750000.0        Action     6.5  2013\n",
       "4     the devil inside         0.99   100800000.0        Horror     4.2  2012\n",
       "5  your sisters sister         0.99    20180000.0        Comedy     6.7  2012\n",
       "6    sound of my voice         0.99    18973000.0         Drama     6.6  2012\n",
       "7           compliance         0.99    18749000.0     Biography     6.4  2012\n",
       "8          the canyons         0.99    18506800.0         Drama     3.8  2013\n",
       "9       the karate kid         0.98   351100000.0        Action     6.2  2010"
      ]
     },
     "execution_count": 106,
     "metadata": {},
     "output_type": "execute_result"
    }
   ],
   "source": [
    "q4 = \"\"\" SELECT title, profit_rate, total_profit, primary_genre, rating, year\n",
    "        FROM rate_gross_budget  \n",
    "        ORDER BY profit_rate DESC\n",
    "        LIMIT 20 ; \"\"\"\n",
    "\n",
    "top_10_movie_profit_rate = pysqldf(q4)\n",
    "top_10_movie_profit_rate.head(10)"
   ]
  },
  {
   "cell_type": "markdown",
   "metadata": {},
   "source": [
    "### - Revenue Composition Analysis: Profit vs. Production Budget\n",
    "\n",
    "I included this analysis to understand the composition of total movie revenues by studio, specifically how much is absorbed by production costs versus how much remains as profit.\n",
    "\n",
    "In the movie industry, this ratio is a critical measure of financial efficiency, it shows how well studios convert their investments (budgets) into returns (profits).\n"
   ]
  },
  {
   "cell_type": "markdown",
   "metadata": {},
   "source": [
    "### Profit vs. Production Budget among group of studios globally\n",
    "\n",
    "\n",
    "#### The analysis is so clear with the pie chart bellow, \n",
    "- Mean of Profit accounts for 68.9% of the total revenue among groups of studios.\n",
    "\n",
    "- Mean of Production budget represents 31.1% of the total revenue among groups of studios.\n",
    "\n",
    "This means that, between each group of studio, movies created by studios in this dataset have generated more than twice the revenue beyond their initial budgets.\n",
    "Such a high profit share indicates a generally profitable industry segment for studios during the period covered.  \n",
    "\n",
    "Moreover, this indicates High Revenue Potential per dollar spent\n",
    "- For every 1 dollar spent on budget, the industry is generating about 2.22 Dollars in profit on average.\n",
    "- This makes the sector attractive for investors\n",
    "\n",
    "\n"
   ]
  },
  {
   "cell_type": "code",
   "execution_count": 107,
   "metadata": {},
   "outputs": [
    {
     "data": {
      "image/png": "[encoded data removed]",
      "text/plain": [
       "<Figure size 504x504 with 1 Axes>"
      ]
     },
     "metadata": {},
     "output_type": "display_data"
    }
   ],
   "source": [
    "\n",
    "# Calculate average budget and profit share across all studios\n",
    "budget_pct = rate_gross_budget['production_budget'].sum() / rate_gross_budget['total_revenue'].sum() * 100\n",
    "profit_pct = rate_gross_budget['total_profit'].sum() / rate_gross_budget['total_revenue'].sum() * 100\n",
    "\n",
    "# Prepare data for pie chart\n",
    "labels = ['Budget Share (%)', 'Profit Share (%)']\n",
    "sizes = [budget_pct, profit_pct]\n",
    "colors = ['#C71585', '#ffcc00']  # Dark pink for budget, gold for profit\n",
    "\n",
    "# Plot pie chart\n",
    "plt.figure(figsize=(7,7))\n",
    "wedges, texts, autotexts = plt.pie(\n",
    "    sizes,\n",
    "    labels=labels,\n",
    "    colors=colors,\n",
    "    autopct='%1.1f%%',\n",
    "    startangle=90,\n",
    "    explode=(0.03, 0.03),  # Slight separation between slices\n",
    "    textprops={'fontsize': 14, 'weight': 'bold', 'color': 'black'}\n",
    ")\n",
    "\n",
    "# Make percentage texts bigger & bolder\n",
    "for autotext in autotexts:\n",
    "    autotext.set_fontsize(14)\n",
    "    autotext.set_color('black')\n",
    "    autotext.set_weight('bold')\n",
    "\n",
    "plt.title(\n",
    "    'Average Profit vs Budget Share in Total Revenue (All Studios)',\n",
    "    fontsize=16,\n",
    "    fontweight='bold'\n",
    ")\n",
    "plt.axis('equal')  # Equal aspect ratio ensures a perfect circle\n",
    "\n",
    "# Save the plot\n",
    "# plt.savefig(\"Images/budgetprofit.png\", dpi=300, bbox_inches=\"tight\", facecolor=\"white\")\n",
    "\n",
    "plt.show()\n"
   ]
  },
  {
   "cell_type": "markdown",
   "metadata": {},
   "source": [
    "Besides, we should considere Strategic implication for New studios :\n",
    "- If your new studio can maintain a similar budget-to-revenue ratio, it will likely achieve sustainable profitability.\n",
    "\n",
    "- However, not all studios may reach this average.\n",
    "\n",
    "Furthermore, We should be aware This is an aggregate average, meanning : \n",
    "- some studios will have far lower profits, some higher. The 68.9% profit share doesn’t mean every studio enjoys this margin; it just means that collectively, budgets form about one-third of revenue."
   ]
  },
  {
   "cell_type": "markdown",
   "metadata": {},
   "source": [
    "### Profit vs. Production Budget by only top studios \n",
    "\n",
    "\n",
    "#### The analysis is so clear with the pie chart bellow, \n",
    "- We can see bellow, almost each of the top 10 studios that created the most movies has generated more than twice the revenue beyond their initial production budgets.  \n",
    "Particularly Bv, Uni., and Fox with a profit represent about 70 % of their revenue.\n",
    "\n",
    "\n",
    "This means that, movies created by the top studios have generated more than twice the revenue beyond their initial budgets.  \n",
    "Such a high profit share indicates a generally profitable industry segment for top studios during the period covered.\n",
    "\n"
   ]
  },
  {
   "cell_type": "code",
   "execution_count": 108,
   "metadata": {},
   "outputs": [
    {
     "data": {
      "image/png": "[encoded data removed]",
      "text/plain": [
       "<Figure size 864x432 with 1 Axes>"
      ]
     },
     "metadata": {},
     "output_type": "display_data"
    }
   ],
   "source": [
    "# Aggregate revenue, budget, and profit per studio\n",
    "studio_summary = (\n",
    "    rate_gross_budget\n",
    "    .groupby('studio')\n",
    "    .agg({\n",
    "        'total_revenue': 'sum',\n",
    "        'production_budget': 'sum',\n",
    "        'total_profit': 'sum'\n",
    "    })\n",
    "    .reset_index()\n",
    ")\n",
    "\n",
    "# Calculate % share of budget and profit in total revenue\n",
    "studio_summary['budget_pct'] = (studio_summary['production_budget'] / studio_summary['total_revenue']) * 100\n",
    "studio_summary['profit_pct'] = (studio_summary['total_profit'] / studio_summary['total_revenue']) * 100\n",
    "\n",
    "# Keep only top 10 studios by revenue for better visualization\n",
    "top_studios_pct = studio_summary.sort_values('total_revenue', ascending=False).head(10)\n",
    "\n",
    "# Prepare data for plotting\n",
    "studio_plot_data = top_studios_pct.melt(\n",
    "    id_vars='studio',\n",
    "    value_vars=['budget_pct', 'profit_pct'],\n",
    "    var_name='Type',\n",
    "    value_name='Percentage'\n",
    ")\n",
    "\n",
    "# Beautify type labels\n",
    "studio_plot_data['Type'] = studio_plot_data['Type'].map({\n",
    "    'budget_pct': 'Budget (%)',\n",
    "    'profit_pct': 'Profit (%)'\n",
    "})\n",
    "\n",
    "# Plot\n",
    "plt.figure(figsize=(12,6))\n",
    "sns.barplot(\n",
    "    data=studio_plot_data,\n",
    "    x='studio',\n",
    "    y='Percentage',\n",
    "    hue='Type',\n",
    "    palette=['#FF7F50', '#2E8B57']  # Coral for budget, SeaGreen for profit\n",
    ")\n",
    "\n",
    "plt.title('Profit vs. Budget Share (%) in Total Revenue by Top Studios', fontsize=16, weight='bold')  # Bold title\n",
    "plt.ylabel('Percentage of Total Revenue', fontsize=14, weight='bold')  # Bold y-axis\n",
    "plt.xlabel('Studio', fontsize=14, weight='bold')  # Bold x-axis\n",
    "plt.xticks(rotation=45, ha='right', fontsize=12)\n",
    "plt.yticks(fontsize=12)\n",
    "plt.legend(title='Metric', loc='upper right', fontsize=10)\n",
    "plt.grid(axis='y', linestyle='--', alpha=0.4)\n",
    "plt.tight_layout()\n",
    "\n",
    "# To save the plot as an image\n",
    "# plt.savefig(\"Images/top_genre_budgetprofit.png\", dpi=300, bbox_inches=\"tight\", facecolor=\"white\")\n",
    "\n",
    "plt.show()\n"
   ]
  },
  {
   "cell_type": "markdown",
   "metadata": {},
   "source": [
    "The fact that profits outweigh budgets by this margin suggests that, on average, studios have been able to leverage relatively modest production costs to achieve substantial returns.\n",
    "This could indicate:\n",
    "\n",
    "- Efficient budget allocation\n",
    "\n",
    "- High market demand for certain films\n",
    "\n",
    "- Strong distribution and box office performance\n",
    "\n",
    "However, it’s worth noting that individual movie performance can vary widely, this global ratio hides the presence of flops and mega-hits."
   ]
  },
  {
   "cell_type": "markdown",
   "metadata": {},
   "source": [
    "### - Historical Trend and Seasonality Analysis"
   ]
  },
  {
   "cell_type": "markdown",
   "metadata": {},
   "source": [
    "## Seasonality Check - Movie Count by Release Month\n",
    "\n",
    "More movies tend to be released on November and December with about 150 and 155 movies released respectively.  "
   ]
  },
  {
   "cell_type": "code",
   "execution_count": 109,
   "metadata": {},
   "outputs": [
    {
     "data": {
      "image/png": "[encoded data removed]",
      "text/plain": [
       "<Figure size 720x360 with 1 Axes>"
      ]
     },
     "metadata": {},
     "output_type": "display_data"
    }
   ],
   "source": [
    "monthly_counts = rate_gross_budget.groupby('release_month').size().reset_index(name='movie_count')\n",
    "\n",
    "plt.figure(figsize=(10,5))\n",
    "sns.barplot(data=monthly_counts, x='release_month', y='movie_count', palette='viridis')\n",
    "\n",
    "plt.title('Number of Movies Released by Month', fontsize=18, weight='bold')  # Bigger and bold title\n",
    "plt.xlabel('Release Month', fontsize=14, weight='bold')  # Bold x-axis label\n",
    "plt.ylabel('Movie Count', fontsize=14, weight='bold')   # Bold y-axis label\n",
    "plt.xticks(fontsize=12)\n",
    "plt.yticks(fontsize=12)\n",
    "\n",
    "# To save the plot as an image\n",
    "plt.savefig(\"Images/moviemonth.png\", dpi = 300, bbox_inches = \"tight\", facecolor = \"white\")\n",
    "\n",
    "plt.show()\n"
   ]
  },
  {
   "cell_type": "markdown",
   "metadata": {},
   "source": [
    "Late-year peak (October–December) likely aligns with holiday seasons, award season releases, and end-of-year marketing strategies.\n",
    "\n",
    "Summer peaks (June–July) correspond to summer blockbusters targeting family audiences and vacation periods."
   ]
  },
  {
   "cell_type": "markdown",
   "metadata": {},
   "source": [
    "### Movie release per year\n",
    "\n",
    "At the beginning of the 21th century, we can see that the amount of movies released had been increased considerably.  \n",
    "Besides, we see a considerable growth of movies released from 2005 to 2010."
   ]
  },
  {
   "cell_type": "markdown",
   "metadata": {},
   "source": [
    "Movie production is fairly stable in the 2010–2018 period, with annual releases ranging roughly 124–188 movies.\n",
    "\n",
    "Peak production occurred in 2011 (188 movies) and 2015–2016 (~178–179 movies).\n",
    "\n",
    "The early years (1967–2005) show very low production, often single-digit releases, reflecting either limited data coverage or fewer movies produced historically."
   ]
  },
  {
   "cell_type": "code",
   "execution_count": 110,
   "metadata": {},
   "outputs": [
    {
     "data": {
      "image/png": "[encoded data removed]",
      "text/plain": [
       "<Figure size 864x432 with 1 Axes>"
      ]
     },
     "metadata": {},
     "output_type": "display_data"
    }
   ],
   "source": [
    "# Movie release per year\n",
    "movie_count_per_year = (\n",
    "    rate_gross_budget['release_year']\n",
    "    .value_counts()\n",
    "    .sort_index()\n",
    "    .reset_index()\n",
    "    .rename(columns={'index': 'release_year', 'release_year': 'movie_count'})\n",
    ")\n",
    "\n",
    "# Plot the chart\n",
    "plt.figure(figsize=(12,6))\n",
    "sns.set_style(\"whitegrid\")\n",
    "sns.lineplot(\n",
    "    data=movie_count_per_year,\n",
    "    x='release_year',\n",
    "    y='movie_count',\n",
    "    color='#2E86AB',  # deep blue\n",
    "    linewidth=2.5\n",
    ")\n",
    "plt.title('Number of Movies Released per Year', fontsize=18, weight='bold', pad=15)\n",
    "plt.xlabel('Release Year', fontsize=16, weight='bold')\n",
    "plt.ylabel('Number of Movies', fontsize=16, weight='bold')\n",
    "plt.xticks(fontsize=14, weight='bold')\n",
    "plt.yticks(fontsize=14, weight='bold')\n",
    "plt.grid(True, linestyle='--', alpha=0.4)\n",
    "sns.despine()\n",
    "plt.tight_layout()\n",
    "\n",
    "# To save the plot as an image\n",
    "# plt.savefig(\"Images/movieyear.png\", dpi=300, bbox_inches=\"tight\", facecolor=\"white\")\n",
    "\n",
    "plt.show()\n"
   ]
  },
  {
   "cell_type": "markdown",
   "metadata": {},
   "source": [
    "The recent years (2010–2018) indicate consistent movie output, suggesting that the industry is mature and capable of maintaining high production volume.\n",
    "\n",
    "The spikes in 2011, 2015, and 2016 could correspond to industry expansions or successful box office periods, incentivizing more releases.\n",
    "\n",
    "Low releases in early years highlight historical growth — newer studios, technological advances, or better data recording contribute to the sharp increase in output over time."
   ]
  },
  {
   "cell_type": "markdown",
   "metadata": {},
   "source": [
    "##  Evolution of Revenue, Profit, and Budget trend Over the Years\n",
    "\n",
    "As the 21th century, represent the century with more movie released. It's understandable why the profit, production budget and revenue per years increased during that century."
   ]
  },
  {
   "cell_type": "code",
   "execution_count": 111,
   "metadata": {},
   "outputs": [
    {
     "data": {
      "image/png": "[encoded data removed]",
      "text/plain": [
       "<Figure size 864x432 with 1 Axes>"
      ]
     },
     "metadata": {},
     "output_type": "display_data"
    }
   ],
   "source": [
    "# Aggregate revenue, profit, and production budget by release year\n",
    "yearly_finance = (\n",
    "    rate_gross_budget.groupby('release_year')[['total_revenue', 'total_profit', 'production_budget']]\n",
    "    .sum()\n",
    "    .reset_index()\n",
    ")\n",
    "\n",
    "# Plotting\n",
    "plt.figure(figsize=(12, 6))\n",
    "sns.lineplot(data=yearly_finance, x='release_year', y='total_revenue', label='Total Revenue', color='dodgerblue', linewidth=2.5)\n",
    "sns.lineplot(data=yearly_finance, x='release_year', y='total_profit', label='Total Profit', color='darkorange', linewidth=2.5)\n",
    "sns.lineplot(data=yearly_finance, x='release_year', y='production_budget', label='Production Budget', color='seagreen', linewidth=2.5)\n",
    "\n",
    "plt.title('Evolution of Revenue, Profit, and Budget Over the Years', fontsize=18, weight='bold', pad=15)\n",
    "plt.xlabel('Release Year', fontsize=16, weight='bold')\n",
    "plt.ylabel('Amount ($)', fontsize=16, weight='bold')\n",
    "plt.xticks(fontsize=14, weight='bold')\n",
    "plt.yticks(fontsize=14, weight='bold')\n",
    "plt.grid(True, linestyle='--', alpha=0.5)\n",
    "plt.legend(title='Metric', fontsize=12, title_fontsize=12)\n",
    "plt.tight_layout()\n",
    "\n",
    "# To save the plot as an image\n",
    "# plt.savefig(\"Images/profitbudgetyear.png\", dpi = 300, bbox_inches = \"tight\", facecolor = \"white\")\n",
    "\n",
    "plt.show()\n"
   ]
  },
  {
   "cell_type": "markdown",
   "metadata": {},
   "source": [
    "High revenue and profit years (2013–2017) indicate that the industry was particularly profitable during this period, likely driven by blockbusters or franchise films.\n",
    "\n",
    "The budget-to-revenue ratio remains relatively stable in recent years, suggesting that studios are efficiently allocating resources to generate high returns.\n",
    "\n",
    "Slight decline in 2018 may indicate market saturation, stronger competition, or fewer mega-hits that year.\n",
    "\n",
    "Early years’ low values again reflect historical limitations or the infancy of modern studio operations."
   ]
  },
  {
   "cell_type": "markdown",
   "metadata": {},
   "source": [
    "### 2. Diagnostic Analysis\n",
    "---\n",
    "\n",
    "This stage of the analysis investigates **why observed patterns occur** by applying statistical methods that move beyond description into explanation. Specifically, we employ two complementary approaches:\n",
    "\n",
    "- #### Correlation Analysis  \n",
    "Used to measure the strength and direction of relationships between numerical variables, such as budget, revenue, profit etc.. This helps identify which factors vary together and to what extent.\n",
    "\n",
    "- #### Hypothesis Testing  \n",
    "Applied to determine whether differences between groups, such as studios or movie genres—are **statistically significant** rather than due to random variation. This provides a more rigorous basis for comparing performance across categories.\n"
   ]
  },
  {
   "cell_type": "markdown",
   "metadata": {},
   "source": [
    "- ### Correlation Analysis\n",
    "\n",
    "As observed from the correlation matrix, several notable relationships emerge among the key movie metrics.\n",
    "\n",
    "The correlation matrix highlights key relationships among movie metrics.  \n",
    "- Higher production budgets tend to generate greater revenue (0.77) and moderately higher profit (0.63),  \n",
    "- While total revenue and profit are almost perfectly correlated (0.98), confirming revenue drives profitability.  \n",
    "- Audience engagement, measured by the number of votes, is moderately associated with both revenue (0.59) and profit (0.57), showing popular movies generally perform better financially."
   ]
  },
  {
   "cell_type": "code",
   "execution_count": 112,
   "metadata": {},
   "outputs": [
    {
     "data": {
      "image/png": "[encoded data removed]",
      "text/plain": [
       "<Figure size 1008x576 with 2 Axes>"
      ]
     },
     "metadata": {},
     "output_type": "display_data"
    }
   ],
   "source": [
    "# Numerical columns to examine correlations\n",
    "corr_vars = ['production_budget', 'total_revenue', 'total_profit', 'profit_rate', 'rating', 'number_votes']\n",
    "corr = rate_gross_budget[corr_vars].corr()\n",
    "\n",
    "plt.figure(figsize=(14,8))\n",
    "sns.heatmap(\n",
    "    corr, \n",
    "    annot=True,        # Show correlation values\n",
    "    fmt=\".2f\",         # Format numbers to 2 decimal places\n",
    "    cmap='coolwarm', \n",
    "    cbar=True, \n",
    "    annot_kws={\"size\":12, \"weight\":\"bold\"}  # Bold annotation text\n",
    ")\n",
    "plt.title('Correlation Matrix of Key Movie Metrics', fontsize=16, weight='bold')  # Bold title\n",
    "plt.xticks(fontsize=12, weight='bold', rotation=45)\n",
    "plt.yticks(fontsize=12, weight='bold', rotation=0)\n",
    "plt.tight_layout()\n",
    "\n",
    "# To save the plot as an image\n",
    "# plt.savefig(\"Images/correlation.png\", dpi=300, bbox_inches=\"tight\", facecolor=\"white\")\n",
    "plt.show()"
   ]
  },
  {
   "cell_type": "markdown",
   "metadata": {},
   "source": [
    "**These relationships underscore the importance of carefully allocating production budgets and engaging audiences effectively**. .   \n",
    "For a new studio, targeting projects with higher potential revenue and monitoring audience response could significantly enhance profitability."
   ]
  },
  {
   "cell_type": "markdown",
   "metadata": {},
   "source": [
    "- ### Statistical Test\n",
    "---\n",
    "\n",
    "In this section, we examine whether **revenues differ significantly across genres or studios**.  \n",
    "\n",
    "To address this, we apply an **ANOVA (Analysis of Variance) test**, which allows us to determine if the differences in mean values between groups are statistically significant. Specifically, we conduct:\n",
    "\n",
    "1. **Genre-Level Analysis**: Testing whether the average total revenue differs among the top 10 movie genres.  \n",
    "2. **Studio-Level Analysis**: Testing whether the average total profit differs among the top 10 movie studios.  \n"
   ]
  },
  {
   "cell_type": "markdown",
   "metadata": {},
   "source": [
    "### Context and Objective\n",
    "Our goal is to determine whether there are statistically significant differences in the average total revenue among the top 10 movie genres and in the average total profit among the top 10 movie studios.\n",
    "\n",
    "Why do this?\n",
    "Understanding if certain genres or studios systematically perform better financially is crucial for guiding the new movie studio’s strategic focus."
   ]
  },
  {
   "cell_type": "markdown",
   "metadata": {},
   "source": [
    "### 1. Genre-Level Analysis :  \n",
    "- ### Testing whether the average total revenue differs among the top 10 movie genres.  \n"
   ]
  },
  {
   "cell_type": "markdown",
   "metadata": {},
   "source": [
    "- ### Hypotheses :\n",
    "\n",
    "Null Hypothesis (H₀): All top 10 genres generate the same revenue in everage.\n",
    "\n",
    "Alternative Hypothesis (H₁): At least one genre’s mean total revenue differs from the others."
   ]
  },
  {
   "cell_type": "markdown",
   "metadata": {},
   "source": [
    "We performe an ANOVA test in the cell bellow, and our **Decision** will base on the P-Value.\n",
    "\n",
    "If the p_value is greater than our significance level, in this case 5 %,   \n",
    "we fail to reject the null Hypothesis, meaning no statistically significant difference in means is detected.  \n",
    "Otherwise, We reject the null Hypothesis, that means there is enough evidence that at least one group mean differs significantly."
   ]
  },
  {
   "cell_type": "markdown",
   "metadata": {},
   "source": [
    "- ### Performing the test :\n",
    "\n",
    "---"
   ]
  },
  {
   "cell_type": "code",
   "execution_count": 113,
   "metadata": {},
   "outputs": [
    {
     "name": "stdout",
     "output_type": "stream",
     "text": [
      "ANOVA test for Total Revenue by Top 10 Genres: F = 32.749, p = 9.581e-53\n"
     ]
    }
   ],
   "source": [
    "# Get top 10 genres by count of movies\n",
    "top_10_genres = rate_gross_budget['primary_genre'].value_counts().head(10).index.tolist()\n",
    "\n",
    "# Filter dataset for top 10 genres only\n",
    "top_genres_data = rate_gross_budget[rate_gross_budget['primary_genre'].isin(top_10_genres)]\n",
    "\n",
    "# Prepare revenue lists by genre for ANOVA\n",
    "revenue_by_genre_top10 = [group['total_revenue'].values for name, group in top_genres_data.groupby('primary_genre')]\n",
    "\n",
    "# ANOVA for total revenue by top 10 genres\n",
    "f_stat_genre, p_value_genre = stats.f_oneway(*revenue_by_genre_top10)\n",
    "print(f\"ANOVA test for Total Revenue by Top 10 Genres: F = {f_stat_genre:.3f}, p = {p_value_genre:.3e}\")\n"
   ]
  },
  {
   "cell_type": "markdown",
   "metadata": {},
   "source": [
    "- ### Results and Analysis :\n",
    "\n",
    "The very large F-statistic indicates that the variation between the genre group means is much greater than the variation within each genre group.\n",
    "\n",
    "The extremely small p-value, far below the typical 0.05 significance level, means we have overwhelming statistical evidence to reject the null hypothesis.\n",
    "\n",
    "***That means we conclude that mean revenue of all the top 10 genres is not the same.***"
   ]
  },
  {
   "cell_type": "markdown",
   "metadata": {},
   "source": [
    "- ### Business Implication:  \n",
    "\n",
    "There is a statistically significant difference in the average total revenue generated by different genres.  \n",
    "This confirms that not all movie genres are equally profitable at the box office.\n",
    "\n",
    "- This finding is valuable for the new movie studio because:\n",
    "\n",
    "- They should focus their production on genres that historically generate higher revenues to maximize financial success.\n",
    "\n",
    "- Conversely, some genres might be less lucrative or more niche and may require more careful budgeting or marketing strategies."
   ]
  },
  {
   "cell_type": "markdown",
   "metadata": {},
   "source": [
    "### 2. Studio-Level Analysis :  \n",
    "- ### Testing whether the average total profit differs among the top 10 movie studios.  \n"
   ]
  },
  {
   "cell_type": "markdown",
   "metadata": {},
   "source": [
    "- ### Hypotheses :  \n",
    "\n",
    "Null Hypothesis (H₀): All top 10 studios have the same mean total profit.\n",
    "\n",
    "Alternative Hypothesis (H₁): At least one studio’s mean total profit is different from the others."
   ]
  },
  {
   "cell_type": "markdown",
   "metadata": {},
   "source": [
    "We performe an ANOVA test in the cell bellow, and our Decision will base on the P-Value.  \n",
    "If the p_value is greater than the significance level of 5%, we fail to reject the null Hypothesis.  \n",
    "Otherwise, We reject the null Hypothesis"
   ]
  },
  {
   "cell_type": "markdown",
   "metadata": {},
   "source": [
    "- ### Performing the test\n",
    "\n",
    "---"
   ]
  },
  {
   "cell_type": "code",
   "execution_count": 114,
   "metadata": {},
   "outputs": [
    {
     "name": "stdout",
     "output_type": "stream",
     "text": [
      "ANOVA test for Total Profit by Top 10 Studios: F = 14.544, p = 4.028e-22\n"
     ]
    }
   ],
   "source": [
    "# Get top 10 studios by count of movies\n",
    "top_10_studios = rate_gross_budget['studio'].value_counts().head(10).index.tolist()\n",
    "\n",
    "# Filter dataset for top 10 studios only\n",
    "top_studios_data = rate_gross_budget[rate_gross_budget['studio'].isin(top_10_studios)]\n",
    "\n",
    "# Prepare total_profit lists by studio for ANOVA\n",
    "profit_by_studio_top10 = [group['total_profit'].values for name, group in top_studios_data.groupby('studio')]\n",
    "\n",
    "# ANOVA for total profit by top 10 studios\n",
    "f_stat_studio, p_value_studio = stats.f_oneway(*profit_by_studio_top10)\n",
    "\n",
    "print(f\"ANOVA test for Total Profit by Top 10 Studios: F = {f_stat_studio:.3f}, p = {p_value_studio:.3e}\")"
   ]
  },
  {
   "cell_type": "markdown",
   "metadata": {},
   "source": [
    "- ### Results and Analysis :  \n",
    "\n",
    "We can observe that, The F-statistic of 14.544 indicates that the variance of total profits between  \n",
    "studios is significantly larger than the variance within each studio group.\n",
    "\n",
    "The p-value is far below the conventional threshold of 0.05, allowing us to reject the null hypothesis with very strong confidence. \n",
    "\n",
    "***That means we conclude that mean profit of all the top 10 studios is not the same.***"
   ]
  },
  {
   "cell_type": "markdown",
   "metadata": {},
   "source": [
    "- ### Business Implication:\n",
    "\n",
    "There is clear statistical evidence that average total profit varies significantly between the top studios.  \n",
    "This means that some studios consistently generate higher profits than others, which is a critical insight for:\n",
    "\n",
    "- The new movie studio to study and possibly emulate the practices of higher-profit studios.\n",
    "\n",
    "- Making decisions about potential partnerships, investments, or strategic hires based on studio performance.\n",
    "\n",
    "- Allocating resources efficiently by understanding studio-level factors affecting profitability."
   ]
  },
  {
   "cell_type": "markdown",
   "metadata": {},
   "source": [
    "## Results  \n",
    "\n",
    "---\n",
    "In this section, we summarize the key findings from our **descriptive and diagnostic analyse**s.   \n",
    "The results reveal patterns in revenue, profit, and audience engagement across genres, studios, and release periods. They show which types of movies and studios have historically performed best, how production budgets impact profitability, and seasonal trends in releases."
   ]
  },
  {
   "cell_type": "markdown",
   "metadata": {},
   "source": [
    "### 1. Performance Ranking\n",
    "\n",
    "- **Top Studios** : **BV, Uni., and Fox** are the studios generating the highest total profits among all studios. They are also among the top five studios in terms of movie production volume.  \n",
    "\n",
    "\n",
    "- **Production Volume** : **Uni. produced the highest number of movies (156 films), followed by Fox (130 films).**  \n",
    "\n",
    "\n",
    "- **Top Genres by Profit Rate** : **SCI-FI and MYSTERY** have the highest mean profit rates, around 80%, while ACTION, despite being the most frequent genre, achieves only about 30% mean profit rate.  \n",
    "\n",
    "\n",
    "- **Most Common Genres** : **Action and Drama dominate in number of movies, with 409 and 302 films, respectively.**  \n",
    "\n",
    "- **Audience Preference** : **Sport and Mystery genres have the highest mean ratings, 79% and 75%, suggesting strong audience appreciation.**\n",
    "\n",
    "\n",
    "### 2. Revenue Composition Analysis\n",
    "\n",
    "- **On average, 31.1% of total revenue is allocated to production budgets, while 68.9% constitutes profit**. This indicates high profitability margins, with movies generating more than twice their budget in revenue on average.  \n",
    "\n",
    "\n",
    "- **Top studios such as BV, Uni., and Fox achieve even higher margins, with profits representing about 70% of their revenue**.\n",
    "These findings highlight the efficiency and strong return potential within the industry for successful studios.\n",
    "\n",
    "### 3. Historical Trend and Seasonality Analysis\n",
    "\n",
    "- **Seasonality** : The industry exhibits strong seasonality, with the majority of films released in **November–December and June–July, capturing peak audience attendance periods.** Fewer releases occur in January, February, and May, highlighting slower months in terms of movie activity.  \n",
    "\n",
    "\n",
    "- **Movies Released per Year** : **Between 2010 and 2018**, the number of movies released per year is consistently high, ranging from **124 to 188 films**, showing a mature and productive industry.\n",
    "\n",
    "\n",
    "- **Budget, Profit, and Revenue Trends by Year** :  Total revenue and profit follow a similar trend, peaking in **2016–2017**, suggesting highly profitable periods driven by successful releases.  Total production budget is relatively stable over recent years, indicating efficient allocation of resources across movies.\n",
    "\n",
    "### 4. Diagnostic Findings:\n",
    "\n",
    "-  The analysis reveals that **Higher production budgets are associated with greater total revenue and moderately higher profits**. This indicates that investing in quality production tends to enhance financial outcomes for films.   \n",
    "\n",
    "\n",
    "- **Total revenue and profit are almost perfectly correlated, confirming that revenue is the primary driver of profitability**. Furthermore, audience engagement, measured by the number of votes, shows a moderate positive relationship with both revenue and profit, emphasizing the financial impact of popular, well-received films.   \n",
    "\n",
    "\n",
    "- **Revenue Differences by Genre :** **An ANOVA test across the top 10 movie genres shows a highly significant difference in total revenue** (F = 32.75, p < 0.001).  This confirms that some genres consistently generate higher box office revenue than others.  \n",
    "\n",
    "\n",
    "- **Profit Differences by Studio**: **An ANOVA test across the top 10 studios shows a significant difference in total profit (F = 14.54, p < 0.001).** This indicates that Some studios consistently achieve higher profits, reflecting effective strategies in production, marketing, and audience targeting.  \n",
    "\n",
    "\n",
    "- **Both genre and studio identity are statistically significant factors influencing revenue and profit.**\n",
    "\n",
    "\n"
   ]
  },
  {
   "cell_type": "markdown",
   "metadata": {},
   "source": [
    "## Business Recommendation 1"
   ]
  },
  {
   "cell_type": "markdown",
   "metadata": {},
   "source": [
    "- ### Focus production on high-revenue genres \n",
    "\n",
    "---\n",
    "\n",
    "Analysis shows that total revenue differs significantly by genre, **with SCI-FI, MYSTERY, Horror and Romance** generating the highest profit rates, whereas **Action And Drama** despite being the most frequently produced genres have a much lower average profit rate. \n",
    "\n",
    "- **Focus production on high-revenue** :  \n",
    "\n",
    "**High-revenue genres should be prioritized to maximize box office performance**, Because Prioritizing these genres increases the likelihood of strong box office performance while reducing financial risk.  \n",
    "While less profitable genres can still be considered selectively, using smaller budgets or targeted marketing to manage financial risk."
   ]
  },
  {
   "cell_type": "markdown",
   "metadata": {},
   "source": [
    "## Business Recommendation 2"
   ]
  },
  {
   "cell_type": "markdown",
   "metadata": {},
   "source": [
    "- ### Learn from Industry Leaders and Pursue Strategic Partnerships.\n",
    "\n",
    "---\n",
    "\n",
    "- **Learn from Industry Leaders** : \n",
    "\n",
    "Analysis of total profit across studios shows significant differences, with studios like **BV, Uni., and Fox** consistently generating higher profits. The new studio should study the strategies of these top-performing studios and prioritize resource allocation,such as production budget, marketing, and talent toward projects and practices that have historically driven strong profitability.\n",
    "\n",
    "- **Pursue Strategic Partnerships** : \n",
    "\n",
    "At the same time, the new studio must be cautious because it will face established competitors that dominate the market. Exploring partnerships or co-productions with top studios can help gain market insight, share risk, and accelerate credibility, while still focusing on high-potential projects.  \n",
    "This balanced approach increases the likelihood of success while navigating a highly competitive industry."
   ]
  },
  {
   "cell_type": "markdown",
   "metadata": {},
   "source": [
    "## Business Recommendation 3"
   ]
  },
  {
   "cell_type": "markdown",
   "metadata": {},
   "source": [
    "- ### Maximize Profitability Through Efficient Budget Planning\n",
    "---\n",
    "\n",
    "Analysis shows that, on average, **only 31.1% of total revenue is allocated to production budgets, while 68.9% constitutes profit**, highlighting that the movie sector is highly profitable overall.   \n",
    "\n",
    "The new studio should carefully plan budgets to ensure spending is efficient, prioritizing projects where expected profits significantly exceed production costs. This strategy leverages the sector’s inherent profitability to maintain high margins while minimizing financial risk on individual films."
   ]
  },
  {
   "cell_type": "markdown",
   "metadata": {},
   "source": [
    "## Conclusion\n",
    "\n",
    "---\n",
    "\n",
    "**This exploratory analysis provides a comprehensive view of the movie industry’s performance, trends, and profitability patterns, offering actionable insights for the new studio.**\n",
    "\n",
    "**Key findings indicate that :**\n",
    "\n",
    "\n",
    "- **Genre selection drives profitability** :  **SCI-FI, MYSTERY and Horror** genres generate the highest revenue and profit rates, while frequently produced genres like **Action** show lower profit efficiency. Prioritizing high-revenue genres while managing lower-profit genres strategically can maximize financial returns.  \n",
    "\n",
    "\n",
    "- **Studio performance varies significantly** : **Top-performing studios such as BV, Uni., and Fox consistently achieve higher profits**, highlighting the importance of learning from their practices. Entering this competitive market requires careful resource allocation, strategic planning, and potential partnerships with established studios to mitigate risk.\n",
    "\n",
    "\n",
    "- **Timing and seasonality matter** : Movie releases peak in November, December, and summer months, suggesting that scheduling key releases during these periods can optimize audience engagement and box office revenue.  \n",
    "\n",
    "\n",
    "- **The sector is inherently profitable** : On average, only about **31% of revenue is spent on production budgets while 69% represents profit**, indicating high industry margins. This underscores the potential for strong returns if projects are carefully planned and budgets efficiently managed.\n",
    "\n",
    "\n",
    "**Overall, the analysis demonstrates that the new movie studio can achieve success by combining data-driven genre selection, strategic resource allocation, optimized budgeting, and seasonal timing. By leveraging these insights, the studio is positioned to enter a competitive industry intelligently, maximize profitability, and make informed decisions that reduce risk while capitalizing on market opportunities.**"
   ]
  },
  {
   "cell_type": "markdown",
   "metadata": {},
   "source": [
    "### Next Steps\n",
    "\n",
    "---\n",
    "\n",
    "- **Monitor and update performance data** : Continuously track box office revenue, profit, and audience ratings for released movies to validate trends by genre and studio performance.\n",
    "\n",
    "- **Implement predictive modeling** : Develop forecasting models for revenue and profit using genre, studio, production budget, and seasonal patterns to guide future production decisions.\n",
    "\n",
    "- **Strategic partnerships and collaborations** : Explore co-productions or alliances with top-performing studios (BV, Uni., Fox) to leverage industry expertise and reduce market entry risks.\n",
    "\n",
    "- **Optimize release scheduling and marketing** : Plan movie releases around peak months (November, December, summer) and tailor marketing campaigns to maximize audience reach and revenue.\n",
    "\n",
    "- **Test and diversify genre portfolio** : While prioritizing high-profit genres (SCI-FI, MYSTERY), selectively explore less profitable but popular genres like ACTION with smaller budgets or targeted marketing to manage risk.\n",
    "\n",
    "- **Track key performance metrics** : Establish KPIs for revenue, profit rate, and audience engagement to assess the impact of decisions, optimize resource allocation, and adjust strategies over time."
   ]
  }
 ],
 "metadata": {
  "kernelspec": {
   "display_name": "Python (learn-env)",
   "language": "python",
   "name": "learn-env"
  },
  "language_info": {
   "codemirror_mode": {
    "name": "ipython",
    "version": 3
   },
   "file_extension": ".py",
   "mimetype": "text/x-python",
   "name": "python",
   "nbconvert_exporter": "python",
   "pygments_lexer": "ipython3",
   "version": "3.8.5"
  }
 },
 "nbformat": 4,
 "nbformat_minor": 4
}
